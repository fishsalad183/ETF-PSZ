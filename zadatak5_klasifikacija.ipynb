{
 "cells": [
  {
   "cell_type": "markdown",
   "metadata": {},
   "source": [
    "# Zadatak 5: Implementacija klasifikacije"
   ]
  },
  {
   "cell_type": "code",
   "execution_count": null,
   "metadata": {},
   "outputs": [],
   "source": [
    "import math\n",
    "import matplotlib.pyplot as plt\n",
    "import numpy as np\n",
    "import pandas as pd\n",
    "import re\n",
    "\n",
    "from sklearn.metrics import classification_report, confusion_matrix\n",
    "from sklearn.model_selection import train_test_split\n",
    "from sklearn.neighbors import KNeighborsClassifier\n",
    "\n",
    "from zadatak5_knn import KNN"
   ]
  },
  {
   "cell_type": "markdown",
   "metadata": {},
   "source": [
    "### Učitavanje podataka"
   ]
  },
  {
   "cell_type": "code",
   "execution_count": null,
   "metadata": {},
   "outputs": [],
   "source": [
    "df = pd.read_csv('./db/scrapy_vozila_20220602.csv', sep=';', names=['url', 'naslov', 'cena', 'stanje', 'marka', 'model', 'godiste', 'kilometraza', 'karoserija', 'gorivo', 'kubikaza', 'snaga', 'menjac', 'vrata', 'boja', 'lokacija_prodavca'])\n",
    "\n",
    "df"
   ]
  },
  {
   "cell_type": "code",
   "execution_count": null,
   "metadata": {},
   "outputs": [],
   "source": [
    "df.dtypes"
   ]
  },
  {
   "cell_type": "markdown",
   "metadata": {},
   "source": [
    "### Uklanjanje nenumeričkih vrednosti cena i snage"
   ]
  },
  {
   "cell_type": "code",
   "execution_count": null,
   "metadata": {},
   "outputs": [],
   "source": [
    "# Cena\n",
    "df = df.loc[pd.to_numeric(df['cena'], errors='coerce').notnull()]\n",
    "df.loc[:, 'cena'] = df.loc[:, 'cena'].astype('int64')\n",
    "\n",
    "\n",
    "# Snaga - zadrzava se brojka u konjskim snagama\n",
    "def sredi_snagu(snaga: str) -> str:\n",
    "    try:\n",
    "        return re.search('(?<=/)\\d+', snaga).group(0)\n",
    "    except AttributeError:\n",
    "        return None\n",
    "\n",
    "df['snaga'] = df['snaga'].apply(sredi_snagu)\n",
    "\n",
    "df = df.loc[pd.to_numeric(df['snaga'], errors='coerce').notnull()]\n",
    "df.loc[:, 'snaga'] = df.loc[:, 'snaga'].astype('int64')"
   ]
  },
  {
   "cell_type": "code",
   "execution_count": null,
   "metadata": {},
   "outputs": [],
   "source": [
    "df.dtypes"
   ]
  },
  {
   "cell_type": "code",
   "execution_count": null,
   "metadata": {},
   "outputs": [],
   "source": [
    "df.shape"
   ]
  },
  {
   "cell_type": "markdown",
   "metadata": {},
   "source": [
    "### Dodeljivanje kategorije cenovnog opsega vozilima."
   ]
  },
  {
   "cell_type": "code",
   "execution_count": null,
   "metadata": {},
   "outputs": [],
   "source": [
    "bins = [0, 2000, 5000, 10000, 15000, 20000, 25000, 30000, math.inf] # math.inf or np.inf?\n",
    "labels = ['<=1999', '2000-4999', '5000-9999', '10000-14999', '15000-19999', '20000-24999', '25000-29999', '>=30000']\n",
    "df['cenovni_opseg'] = pd.cut(df['cena'], bins=bins, labels=labels, right=False)\n",
    "\n",
    "df"
   ]
  },
  {
   "cell_type": "markdown",
   "metadata": {},
   "source": [
    "### Odabir relevantnih podataka i pretvaranje kategoričkih vrednosti u numeričke"
   ]
  },
  {
   "cell_type": "code",
   "execution_count": null,
   "metadata": {},
   "outputs": [],
   "source": [
    "df_for_training = df.copy()\n",
    "\n",
    "features_to_exclude = ['cena', 'url', 'naslov', 'model', 'karoserija', 'gorivo', 'menjac', 'vrata', 'boja', 'lokacija_prodavca']\n",
    "df_for_training = df_for_training.drop(features_to_exclude, axis=1)\n",
    "\n",
    "categorical_features = ['cenovni_opseg', 'stanje', 'marka']\n",
    "df_for_training = pd.get_dummies(df_for_training, columns=categorical_features)\n",
    "\n",
    "df_for_training"
   ]
  },
  {
   "cell_type": "markdown",
   "metadata": {},
   "source": [
    "### Skaliranje numeričkih podataka"
   ]
  },
  {
   "cell_type": "code",
   "execution_count": null,
   "metadata": {},
   "outputs": [],
   "source": [
    "from sklearn.preprocessing import StandardScaler\n",
    "\n",
    "scaler = StandardScaler()\n",
    "numeric_features = ['godiste', 'kilometraza', 'kubikaza', 'snaga']\n",
    "scaler.fit(df_for_training[numeric_features])\n",
    "scaled_features = scaler.transform(df_for_training[numeric_features])\n",
    "for i in range(len(numeric_features)):\n",
    "    df_for_training[numeric_features[i]] = scaled_features[:, i]\n",
    "    \n",
    "df_for_training"
   ]
  },
  {
   "cell_type": "markdown",
   "metadata": {},
   "source": [
    "## KNN - priprema"
   ]
  },
  {
   "cell_type": "markdown",
   "metadata": {},
   "source": [
    "### Podela podataka"
   ]
  },
  {
   "cell_type": "code",
   "execution_count": null,
   "metadata": {},
   "outputs": [],
   "source": [
    "xtrain, xtest, ytrain, ytest = train_test_split(df_for_training, df['cenovni_opseg'], test_size=0.30, random_state=183)"
   ]
  },
  {
   "cell_type": "markdown",
   "metadata": {},
   "source": [
    "### Računanje K (standardan način - neparan broj najbliži korenu broja podataka)"
   ]
  },
  {
   "cell_type": "code",
   "execution_count": null,
   "metadata": {},
   "outputs": [],
   "source": [
    "K = KNN.compute_k(xtrain.shape[0])\n",
    "\n",
    "K"
   ]
  },
  {
   "cell_type": "markdown",
   "metadata": {},
   "source": [
    "### Funkcija za treniranje i primenu KNN"
   ]
  },
  {
   "cell_type": "code",
   "execution_count": null,
   "metadata": {},
   "outputs": [],
   "source": [
    "def train_and_predict(knn_cls, k: int, metric: str, xtrain, xtest, ytrain, ytest, output: bool = True):\n",
    "    knn = knn_cls(n_neighbors=k, metric=metric)\n",
    "    knn.fit(xtrain, ytrain)\n",
    "    pred = knn.predict(xtest)\n",
    "    \n",
    "    if output:\n",
    "        print(f\"k = {k}, metric = {metric}\")\n",
    "        print(confusion_matrix(ytest, pred))\n",
    "        print(classification_report(ytest, pred))\n",
    "        \n",
    "    return pred"
   ]
  },
  {
   "cell_type": "markdown",
   "metadata": {},
   "source": [
    "### Funkcija za traženje optimalne vrednosti K"
   ]
  },
  {
   "cell_type": "code",
   "execution_count": null,
   "metadata": {},
   "outputs": [],
   "source": [
    "def find_optimal_k(KNN_cls, K_min: int, K_max: int, metric: str, xtrain, xtest, ytrain, ytest) -> int:\n",
    "    error_rate = []\n",
    "    \n",
    "    for i in range(K_min, K_max):\n",
    "        pred_i = train_and_predict(KNN_cls, i, metric, xtrain, xtest, ytrain, ytest, output=False)\n",
    "        error_rate.append(np.mean(pred_i != ytest)) # pred_i != ytest returns a list of bool values, whose mean is calculated by turning every True into 1 and False into 0\n",
    "\n",
    "    # Draw plot\n",
    "    plt.figure(figsize=(20, 10))\n",
    "    plt.plot(range(K_min, K_max), error_rate, color='blue', marker='o', markerfacecolor='red', markersize=6)\n",
    "    plt.title('Error rate vs. K value')\n",
    "    plt.xlabel('K')\n",
    "    plt.ylabel('Error rate')\n",
    "    \n",
    "    return len(error_rate) - error_rate[::-1].index(min(error_rate))"
   ]
  },
  {
   "cell_type": "markdown",
   "metadata": {},
   "source": [
    "## KNN - korišćenjem bibliotečke implementacije"
   ]
  },
  {
   "cell_type": "code",
   "execution_count": null,
   "metadata": {},
   "outputs": [],
   "source": [
    "train_and_predict(KNeighborsClassifier, K, 'euclidean', xtrain, xtest, ytrain, ytest, output=True)"
   ]
  },
  {
   "cell_type": "markdown",
   "metadata": {},
   "source": [
    "### Odabir i primena optimalne vrednosti K (može da potraje)"
   ]
  },
  {
   "cell_type": "code",
   "execution_count": null,
   "metadata": {},
   "outputs": [],
   "source": [
    "K_min, K_max = 1, K + 10\n",
    "K_optimal = find_optimal_k(KNeighborsClassifier, K_min, K_max, 'euclidean', xtrain, xtest, ytrain, ytest)\n",
    "train_and_predict(KNeighborsClassifier, K_optimal, 'euclidean', xtrain, xtest, ytrain, ytest, output=True)"
   ]
  },
  {
   "cell_type": "markdown",
   "metadata": {},
   "source": [
    "## KNN - korišćenjem sopstvene implementacije"
   ]
  },
  {
   "cell_type": "code",
   "execution_count": null,
   "metadata": {},
   "outputs": [],
   "source": [
    "train_and_predict(KNN, K, 'euclidean', xtrain, xtest, ytrain, ytest, output=True)"
   ]
  },
  {
   "cell_type": "code",
   "execution_count": null,
   "metadata": {},
   "outputs": [],
   "source": [
    "K_min, K_max = 1, K + 10\n",
    "K_optimal = find_optimal_k(KNN, K_min, K_max, 'euclidean', xtrain, xtest, ytrain, ytest)\n",
    "train_and_predict(KNN, K_optimal, 'euclidean', xtrain, xtest, ytrain, ytest, output=True)"
   ]
  }
 ],
 "metadata": {
  "interpreter": {
   "hash": "164a2c054889c472f3df4e2c8be202de555331b95075dba8c991b5622bd6f683"
  },
  "kernelspec": {
   "display_name": "Python 3.10.4 64-bit",
   "language": "python",
   "name": "python3"
  },
  "language_info": {
   "codemirror_mode": {
    "name": "ipython",
    "version": 3
   },
   "file_extension": ".py",
   "mimetype": "text/x-python",
   "name": "python",
   "nbconvert_exporter": "python",
   "pygments_lexer": "ipython3",
   "version": "3.10.4"
  }
 },
 "nbformat": 4,
 "nbformat_minor": 4
}
