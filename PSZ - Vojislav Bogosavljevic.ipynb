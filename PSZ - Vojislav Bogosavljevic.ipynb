{
 "cells": [
  {
   "cell_type": "code",
   "execution_count": 1,
   "source": [
    "from db.mysql import MysqlDAO\r\n",
    "db = MysqlDAO()"
   ],
   "outputs": [],
   "metadata": {}
  },
  {
   "cell_type": "code",
   "execution_count": 2,
   "source": [
    "db.create_database()"
   ],
   "outputs": [],
   "metadata": {}
  },
  {
   "cell_type": "code",
   "execution_count": 3,
   "source": [
    "db.create_table()"
   ],
   "outputs": [],
   "metadata": {}
  },
  {
   "cell_type": "code",
   "execution_count": 4,
   "source": [
    "# from scrapy.crawler import CrawlerProcess\r\n",
    "# from scrapy.utils.project import get_project_settings\r\n",
    "# from scraper.scraper.spiders.nekretnine import NekretnineSpider\r\n",
    "\r\n",
    "# process = CrawlerProcess(get_project_settings())\r\n",
    "\r\n",
    "# process.crawl(NekretnineSpider)\r\n",
    "# process.start()\r\n",
    "\r\n",
    "\r\n",
    "\r\n",
    "from scraper.run_scraper import Scraper\r\n",
    "\r\n",
    "scraper = Scraper()\r\n",
    "scraper.run_spiders()"
   ],
   "outputs": [
    {
     "output_type": "stream",
     "name": "stdout",
     "text": [
      "<map object at 0x000001B8BF35D8E0>\n",
      "<map object at 0x000001B8BF3F7310>\n",
      "<map object at 0x000001B8BF428370>\n",
      "{}\n",
      "<map object at 0x000001B8BF460490>\n",
      "<map object at 0x000001B8BF3AD640>\n",
      "<map object at 0x000001B8BF3D4760>\n",
      "<map object at 0x000001B8BF2D6C40>\n",
      "<map object at 0x000001B8BF40AA30>\n",
      "<map object at 0x000001B8BF40A940>\n",
      "<map object at 0x000001B8BF40A5E0>\n",
      "{}\n",
      "<map object at 0x000001B8BF40A130>\n",
      "<map object at 0x000001B8BF40A340>\n",
      "<map object at 0x000001B8BF4B14C0>\n",
      "<map object at 0x000001B8BF33C970>\n",
      "{}\n",
      "<map object at 0x000001B8BF332880>\n",
      "<map object at 0x000001B8C04FFC10>\n",
      "<map object at 0x000001B8C050CA00>\n",
      "<map object at 0x000001B8C050CC40>\n",
      "<map object at 0x000001B8BF35DB50>\n",
      "<map object at 0x000001B8C151B790>\n",
      "<map object at 0x000001B8BF4CE970>\n",
      "<map object at 0x000001B8BF495A60>\n",
      "<map object at 0x000001B8C159E400>\n",
      "<map object at 0x000001B8C159E3A0>\n",
      "{}\n",
      "<map object at 0x000001B8C159E2B0>\n",
      "{}\n",
      "<map object at 0x000001B8C159EBE0>\n",
      "<map object at 0x000001B8C151E250>\n",
      "{}\n",
      "<map object at 0x000001B8BF49D280>\n",
      "{}\n",
      "<map object at 0x000001B8BF49AD90>\n",
      "{}\n",
      "<map object at 0x000001B8C25E8850>\n",
      "<map object at 0x000001B8C25E8A00>\n",
      "<map object at 0x000001B8C25E87F0>\n",
      "<map object at 0x000001B8C25E8A90>\n",
      "<map object at 0x000001B8C264ED00>\n",
      "<map object at 0x000001B8C264EDC0>\n",
      "<map object at 0x000001B8C15B50A0>\n",
      "<map object at 0x000001B8C1545340>\n",
      "<map object at 0x000001B8C15B5220>\n",
      "<map object at 0x000001B8C15B58B0>\n",
      "<map object at 0x000001B8C15B5790>\n",
      "{}\n",
      "<map object at 0x000001B8C2691790>\n",
      "<map object at 0x000001B8C268C760>\n",
      "<map object at 0x000001B8C264E820>\n",
      "{}\n",
      "<map object at 0x000001B8C25E4520>\n",
      "<map object at 0x000001B8C159B2E0>\n",
      "<map object at 0x000001B8C159B4F0>\n",
      "<map object at 0x000001B8C153E5E0>\n",
      "{}\n",
      "<map object at 0x000001B8C153EE50>\n",
      "<map object at 0x000001B8C153EE20>\n",
      "{}\n",
      "<map object at 0x000001B8C04B5640>\n"
     ]
    }
   ],
   "metadata": {}
  },
  {
   "cell_type": "code",
   "execution_count": 5,
   "source": [
    "db.close()"
   ],
   "outputs": [],
   "metadata": {}
  }
 ],
 "metadata": {
  "kernelspec": {
   "name": "python3",
   "display_name": "Python 3.9.6 64-bit"
  },
  "language_info": {
   "codemirror_mode": {
    "name": "ipython",
    "version": 3
   },
   "file_extension": ".py",
   "mimetype": "text/x-python",
   "name": "python",
   "nbconvert_exporter": "python",
   "pygments_lexer": "ipython3",
   "version": "3.9.6"
  },
  "interpreter": {
   "hash": "be31cee305de314b1fd3973793c08f17a12bfbf75a1e7b1bb38ffcb1b35a97f9"
  }
 },
 "nbformat": 4,
 "nbformat_minor": 4
}