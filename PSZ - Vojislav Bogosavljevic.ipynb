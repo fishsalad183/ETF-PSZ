{
 "cells": [
  {
   "cell_type": "markdown",
   "source": [
    "# Prepare and configure the project."
   ],
   "metadata": {}
  },
  {
   "cell_type": "code",
   "execution_count": 1,
   "source": [
    "# Project settings - modify these values according to your needs.\r\n",
    "LOAD_DATABASE_FROM_DUMP_INSTEAD_OF_SCRAPING_FOR_TASK_1 = True"
   ],
   "outputs": [],
   "metadata": {}
  },
  {
   "cell_type": "code",
   "execution_count": 2,
   "source": [
    "from db.mysql import MysqlDAO\r\n",
    "db = MysqlDAO()"
   ],
   "outputs": [],
   "metadata": {}
  },
  {
   "cell_type": "markdown",
   "source": [
    "# Task 1: scraping."
   ],
   "metadata": {}
  },
  {
   "cell_type": "code",
   "execution_count": 3,
   "source": [
    "if LOAD_DATABASE_FROM_DUMP_INSTEAD_OF_SCRAPING_FOR_TASK_1:\r\n",
    "    db.import_database_from_dump()\r\n",
    "else:\r\n",
    "    from scraper.run_scraper import Scraper\r\n",
    "\r\n",
    "    db.create_database()\r\n",
    "    db.create_table()\r\n",
    "\r\n",
    "    scraper = Scraper()\r\n",
    "    scraper.run_spiders()\r\n",
    "\r\n",
    "    db.close()"
   ],
   "outputs": [],
   "metadata": {}
  },
  {
   "cell_type": "markdown",
   "source": [
    "# Task 2: data analysis."
   ],
   "metadata": {}
  },
  {
   "cell_type": "code",
   "execution_count": null,
   "source": [],
   "outputs": [],
   "metadata": {}
  },
  {
   "cell_type": "markdown",
   "source": [
    "# Task 3: data visualisation."
   ],
   "metadata": {}
  },
  {
   "cell_type": "code",
   "execution_count": null,
   "source": [],
   "outputs": [],
   "metadata": {}
  },
  {
   "cell_type": "markdown",
   "source": [
    "# Task 4: regression."
   ],
   "metadata": {}
  },
  {
   "cell_type": "code",
   "execution_count": null,
   "source": [],
   "outputs": [],
   "metadata": {}
  },
  {
   "cell_type": "markdown",
   "source": [
    "# Task 5: classification."
   ],
   "metadata": {}
  },
  {
   "cell_type": "code",
   "execution_count": null,
   "source": [],
   "outputs": [],
   "metadata": {}
  },
  {
   "cell_type": "markdown",
   "source": [
    "# Finalize."
   ],
   "metadata": {}
  },
  {
   "cell_type": "code",
   "execution_count": null,
   "source": [
    "db.close()"
   ],
   "outputs": [],
   "metadata": {}
  }
 ],
 "metadata": {
  "kernelspec": {
   "name": "python3",
   "display_name": "Python 3.9.6 64-bit"
  },
  "language_info": {
   "codemirror_mode": {
    "name": "ipython",
    "version": 3
   },
   "file_extension": ".py",
   "mimetype": "text/x-python",
   "name": "python",
   "nbconvert_exporter": "python",
   "pygments_lexer": "ipython3",
   "version": "3.9.6"
  },
  "interpreter": {
   "hash": "be31cee305de314b1fd3973793c08f17a12bfbf75a1e7b1bb38ffcb1b35a97f9"
  }
 },
 "nbformat": 4,
 "nbformat_minor": 4
}