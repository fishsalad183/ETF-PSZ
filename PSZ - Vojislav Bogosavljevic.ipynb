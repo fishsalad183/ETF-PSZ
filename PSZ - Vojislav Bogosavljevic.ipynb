{
 "cells": [
  {
   "cell_type": "code",
   "execution_count": null,
   "source": [
    "from db.mysql import MysqlDAO\r\n",
    "db = MysqlDAO()"
   ],
   "outputs": [],
   "metadata": {}
  },
  {
   "cell_type": "code",
   "execution_count": null,
   "source": [
    "db.create_database()"
   ],
   "outputs": [],
   "metadata": {}
  },
  {
   "cell_type": "code",
   "execution_count": null,
   "source": [
    "db.create_table()"
   ],
   "outputs": [],
   "metadata": {}
  },
  {
   "cell_type": "code",
   "execution_count": null,
   "source": [
    "# from scrapy.crawler import CrawlerProcess\r\n",
    "# from scrapy.utils.project import get_project_settings\r\n",
    "# from scraper.scraper.spiders.nekretnine import NekretnineSpider\r\n",
    "\r\n",
    "# process = CrawlerProcess(get_project_settings())\r\n",
    "\r\n",
    "# process.crawl(NekretnineSpider)\r\n",
    "# process.start()\r\n",
    "\r\n",
    "\r\n",
    "\r\n",
    "from scraper.run_scraper import Scraper\r\n",
    "\r\n",
    "scraper = Scraper()\r\n",
    "scraper.run_spiders()"
   ],
   "outputs": [],
   "metadata": {}
  },
  {
   "cell_type": "code",
   "execution_count": null,
   "source": [
    "db.close()"
   ],
   "outputs": [],
   "metadata": {}
  }
 ],
 "metadata": {
  "kernelspec": {
   "name": "python3",
   "display_name": "Python 3.9.6 64-bit"
  },
  "language_info": {
   "codemirror_mode": {
    "name": "ipython",
    "version": 3
   },
   "file_extension": ".py",
   "mimetype": "text/x-python",
   "name": "python",
   "nbconvert_exporter": "python",
   "pygments_lexer": "ipython3",
   "version": "3.9.6"
  },
  "interpreter": {
   "hash": "be31cee305de314b1fd3973793c08f17a12bfbf75a1e7b1bb38ffcb1b35a97f9"
  }
 },
 "nbformat": 4,
 "nbformat_minor": 4
}