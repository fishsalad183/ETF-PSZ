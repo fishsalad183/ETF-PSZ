{
 "cells": [
  {
   "cell_type": "code",
   "execution_count": 1,
   "source": [
    "from db.mysql import MysqlDAO\r\n",
    "dao = MysqlDAO()"
   ],
   "outputs": [],
   "metadata": {}
  },
  {
   "cell_type": "code",
   "execution_count": 3,
   "source": [
    "dao.create_database()"
   ],
   "outputs": [],
   "metadata": {}
  },
  {
   "cell_type": "code",
   "execution_count": null,
   "source": [
    "dao.create_table()"
   ],
   "outputs": [],
   "metadata": {}
  }
 ],
 "metadata": {
  "kernelspec": {
   "name": "python3",
   "display_name": "Python 3.9.6 64-bit"
  },
  "language_info": {
   "codemirror_mode": {
    "name": "ipython",
    "version": 3
   },
   "file_extension": ".py",
   "mimetype": "text/x-python",
   "name": "python",
   "nbconvert_exporter": "python",
   "pygments_lexer": "ipython3",
   "version": "3.9.6"
  },
  "interpreter": {
   "hash": "be31cee305de314b1fd3973793c08f17a12bfbf75a1e7b1bb38ffcb1b35a97f9"
  }
 },
 "nbformat": 4,
 "nbformat_minor": 4
}