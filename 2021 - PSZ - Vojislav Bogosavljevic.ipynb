{
 "cells": [
  {
   "cell_type": "markdown",
   "metadata": {},
   "source": [
    "# Prepare and configure the project."
   ]
  },
  {
   "cell_type": "code",
   "execution_count": null,
   "metadata": {},
   "outputs": [],
   "source": [
    "# Project settings - modify these values according to your needs.\n",
    "LOAD_DATABASE_FROM_DUMP_OR_SCRAPE_OR_DO_NOTHING_FOR_TASK_1 = \"SCRAPE\" # \"DUMP\" / \"SCRAPE\" / \"NOTHING\""
   ]
  },
  {
   "cell_type": "markdown",
   "metadata": {},
   "source": [
    "# Task 1: scraping."
   ]
  },
  {
   "cell_type": "code",
   "execution_count": null,
   "metadata": {},
   "outputs": [],
   "source": [
    "if LOAD_DATABASE_FROM_DUMP_OR_SCRAPE_OR_DO_NOTHING_FOR_TASK_1 == \"DUMP\":\n",
    "    from db.mysql import MysqlDAO\n",
    "    db = MysqlDAO()\n",
    "    db.import_database_from_dump()\n",
    "    db.close()  \n",
    "    \n",
    "elif LOAD_DATABASE_FROM_DUMP_OR_SCRAPE_OR_DO_NOTHING_FOR_TASK_1 == \"SCRAPE\":\n",
    "    from db.mysql import MysqlDAO\n",
    "    from scraper.run_scraper import Scraper\n",
    "\n",
    "    db = MysqlDAO()\n",
    "    db.create_database()\n",
    "    db.create_table()\n",
    "\n",
    "    scraper = Scraper()\n",
    "    scraper.run_spiders()\n",
    "\n",
    "    db.close()"
   ]
  },
  {
   "cell_type": "markdown",
   "metadata": {},
   "source": [
    "# Task 2: data analysis."
   ]
  },
  {
   "cell_type": "code",
   "execution_count": null,
   "metadata": {},
   "outputs": [],
   "source": [
    "from db.mysql import MysqlDAO\n",
    "db = MysqlDAO('nekretnine')"
   ]
  },
  {
   "cell_type": "markdown",
   "metadata": {},
   "source": [
    "## a) izlistati koliki je broj nekretnina za prodaju, a koliki je broj koji se iznajmljuju"
   ]
  },
  {
   "cell_type": "code",
   "execution_count": null,
   "metadata": {},
   "outputs": [],
   "source": [
    "db.prodaja_iznajmljivanje()"
   ]
  },
  {
   "cell_type": "markdown",
   "metadata": {},
   "source": [
    "## b) izlistati koliko nekretnina se prodaje u svakom od gradova (izlistati sve gradove, obuhvatiti i kuće i stanove)\n",
    "\n",
    "### (dakle, bez soba)"
   ]
  },
  {
   "cell_type": "code",
   "execution_count": null,
   "metadata": {},
   "outputs": [],
   "source": [
    "prodaja_po_gradovima = db.prodaja_po_gradovima()\n",
    "prodaja_po_gradovima['stanovi']"
   ]
  },
  {
   "cell_type": "code",
   "execution_count": null,
   "metadata": {},
   "outputs": [],
   "source": [
    "prodaja_po_gradovima['kuce']"
   ]
  },
  {
   "cell_type": "code",
   "execution_count": null,
   "metadata": {},
   "outputs": [],
   "source": [
    "prodaja_po_gradovima['stanovi_i_kuce']"
   ]
  },
  {
   "cell_type": "markdown",
   "metadata": {},
   "source": [
    "## c) izlistati koliko je uknjiženih, a koliko neuknjiženih kuća, a koliko stanova"
   ]
  },
  {
   "cell_type": "code",
   "execution_count": null,
   "metadata": {},
   "outputs": [],
   "source": [
    "db.uknjizenost()"
   ]
  },
  {
   "cell_type": "markdown",
   "metadata": {},
   "source": [
    "## d) prikazati rang listu prvih 30 najskupljih kuća koje se prodaju, i 30 najskupljih stanova koji se prodaju u Srbiji"
   ]
  },
  {
   "cell_type": "code",
   "execution_count": null,
   "metadata": {},
   "outputs": [],
   "source": [
    "najskuplje = db.najskuplje()\n",
    "for n in najskuplje['najskuplji_stanovi']:\n",
    "    print(\" | \".join([\"{0}: {1}\".format(k, v) for k, v in n.items()]))"
   ]
  },
  {
   "cell_type": "code",
   "execution_count": null,
   "metadata": {},
   "outputs": [],
   "source": [
    "for n in najskuplje['najskuplje_kuce']:\n",
    "    print(\" | \".join([\"{0}: {1}\".format(k, v) for k, v in n.items()]))"
   ]
  },
  {
   "cell_type": "markdown",
   "metadata": {},
   "source": [
    "## e) prikazati rang listu prvih 100 najvećih kuća i 100 najvećih stanova po površini (kvadraturi)"
   ]
  },
  {
   "cell_type": "code",
   "execution_count": null,
   "metadata": {},
   "outputs": [],
   "source": [
    "najskuplje = db.najvece()\n",
    "for n in najskuplje['najveci_stanovi']:\n",
    "    print(\" | \".join([\"{0}: {1}\".format(k, v) for k, v in n.items()]))"
   ]
  },
  {
   "cell_type": "code",
   "execution_count": null,
   "metadata": {},
   "outputs": [],
   "source": [
    "najskuplje = db.najvece()\n",
    "for n in najskuplje['najvece_kuce']:\n",
    "    print(\" | \".join([\"{0}: {1}\".format(k, v) for k, v in n.items()]))"
   ]
  },
  {
   "cell_type": "markdown",
   "metadata": {},
   "source": [
    "## f) prikazati rang listu svih nekretnina izgrađenih u 2020. godini, i izlistati ih opadajuće prema ceni prodaje, odnosno ceni iznajmljivanja"
   ]
  },
  {
   "cell_type": "code",
   "execution_count": null,
   "metadata": {},
   "outputs": [],
   "source": [
    "cene_2020 = db.cene_2020()\n",
    "for n in cene_2020['prodaja']:\n",
    "    print(\" | \".join([\"{0}: {1}\".format(k, v) for k, v in n.items()]))"
   ]
  },
  {
   "cell_type": "code",
   "execution_count": null,
   "metadata": {},
   "outputs": [],
   "source": [
    "for n in cene_2020['izdavanje']:\n",
    "    print(\" | \".join([\"{0}: {1}\".format(k, v) for k, v in n.items()]))"
   ]
  },
  {
   "cell_type": "markdown",
   "metadata": {},
   "source": [
    "## g) prikazati nekretnine (Top30) koje imaju:\n",
    "##    ▪ najveći broj soba unutar nekretnine,\n",
    "##    ▪ najveću kvadraturu (samo za stanove),\n",
    "##    ▪ najveću površinu zemljišta (samo za kuće)"
   ]
  },
  {
   "cell_type": "code",
   "execution_count": null,
   "metadata": {},
   "outputs": [],
   "source": [
    "for n in db.top_broj_soba():\n",
    "    print(\" | \".join([\"{0}: {1}\".format(k, v) for k, v in n.items()]))"
   ]
  },
  {
   "cell_type": "markdown",
   "metadata": {},
   "source": [
    "### KOMENTAR: Prva mesta u izlistavanju nize zauzimaju objekti sa greskom u podacima - najpre jer su kvadrature pogresno unete ili jer su kuce pogresno kategorisane kao stanovi."
   ]
  },
  {
   "cell_type": "code",
   "execution_count": null,
   "metadata": {},
   "outputs": [],
   "source": [
    "for n in db.top_kvadratura_stanovi():\n",
    "    print(\" | \".join([\"{0}: {1}\".format(k, v) for k, v in n.items()]))"
   ]
  },
  {
   "cell_type": "markdown",
   "metadata": {},
   "source": [
    "### KOMENTAR: Neka od prvih mesta u izlistavanju nize potencijalno zauzimaju objekti sa netacno unetim podatkom o povrsini zemljista."
   ]
  },
  {
   "cell_type": "code",
   "execution_count": null,
   "metadata": {},
   "outputs": [],
   "source": [
    "for n in db.top_povrsina_zemljista():\n",
    "    print(\" | \".join([\"{0}: {1}\".format(k, v) for k, v in n.items()]))"
   ]
  },
  {
   "cell_type": "code",
   "execution_count": null,
   "metadata": {},
   "outputs": [],
   "source": [
    "db.close()"
   ]
  },
  {
   "cell_type": "markdown",
   "metadata": {},
   "source": [
    "# Task 3: data visualisation."
   ]
  },
  {
   "cell_type": "code",
   "execution_count": null,
   "metadata": {},
   "outputs": [],
   "source": [
    "import matplotlib.pyplot as plt\n",
    "from db.mysql import MysqlDAO\n",
    "db = MysqlDAO('nekretnine')"
   ]
  },
  {
   "cell_type": "markdown",
   "metadata": {},
   "source": [
    "## a) 10 najzastupljenijih delova Beograda koji imaju najveći broj nekretnina u ponudi (i u sekciji za prodaju, i u sekciji za iznajmljivanje, zbirno)"
   ]
  },
  {
   "cell_type": "code",
   "execution_count": null,
   "metadata": {},
   "outputs": [],
   "source": [
    "fig, ax = plt.subplots()\n",
    "delovi_grada, brojevi_nekretnina = zip(*[(elem['deo_grada'], elem['broj_nekretnina']) for elem in db.top_delovi_beograda()])\n",
    "ukupan_broj_nekretnina_u_beogradu = db.broj_nekretnina_u_beogradu()\n",
    "ax.bar(delovi_grada, brojevi_nekretnina)\n",
    "ax.set_title(\"Top 10 delova Beograda sa najvecim brojem nekretnina u ponudi\")\n",
    "ax.set_xlabel(\"deo grada\")\n",
    "ax.set_ylabel(\"broj nekretnina\")\n",
    "\n",
    "fig.set_size_inches(18, 3)\n",
    "for deo, broj in zip(delovi_grada, brojevi_nekretnina):\n",
    "    ax.annotate(\"{} ({:.1%})\".format(broj, broj / ukupan_broj_nekretnina_u_beogradu), xy=(deo, broj - 100))"
   ]
  },
  {
   "cell_type": "markdown",
   "metadata": {},
   "source": [
    "## b) Broj stanova za prodaju prema kvadraturi, u celoj Srbiji (do 35 kvadrata, 36-50, 51-65, 66-80, 81-95, 96-110, 111 kvadrata i više)"
   ]
  },
  {
   "cell_type": "code",
   "execution_count": null,
   "metadata": {},
   "outputs": [],
   "source": [
    "fig, ax = plt.subplots()\n",
    "kvadrature, brojevi_nekretnina = zip(*db.kategorije_kvadrature().items())\n",
    "ukupan_broj_stanova_za_prodaju = db.broj_stanova_za_prodaju()\n",
    "ax.bar(kvadrature, brojevi_nekretnina)\n",
    "ax.set_title(\"Broj stanova za prodaju prema kvadraturi u Srbiji\")\n",
    "ax.set_xlabel(\"kvadratura\")\n",
    "ax.set_ylabel(\"broj nekretnina\")\n",
    "\n",
    "fig.set_size_inches(18, 3)\n",
    "for kvadratura, broj in zip(kvadrature, brojevi_nekretnina):\n",
    "    ax.annotate(\"{} ({:.1%})\".format(broj, broj / ukupan_broj_stanova_za_prodaju), xy=(kvadratura, broj - 500))"
   ]
  },
  {
   "cell_type": "markdown",
   "metadata": {},
   "source": [
    "## c) Broj izgrađenih nekretnina po dekadama (1951-1960, 1961-1970, 1971-1980, 1981-1990, 1991-2000, 2001-2010, 2011-2020), a obuhvatiti i sekcije za prodaju i za iznajmljivanje."
   ]
  },
  {
   "cell_type": "code",
   "execution_count": null,
   "metadata": {},
   "outputs": [],
   "source": [
    "fig, ax = plt.subplots()\n",
    "dekade, brojevi_nekretnina = zip(*db.nekretnine_po_dekadama().items())\n",
    "ax.bar(dekade, brojevi_nekretnina)\n",
    "ax.set_title(\"Broj nekretnina u ponudi po dekadama u kojima su izgradjene\")\n",
    "ax.set_xlabel(\"dekada\")\n",
    "ax.set_ylabel(\"broj nekretnina\")\n",
    "\n",
    "fig.set_size_inches(18, 3)\n",
    "for dekada, broj in zip(dekade, brojevi_nekretnina):\n",
    "    ax.annotate(str(broj), xy=(dekada, broj - 200))"
   ]
  },
  {
   "cell_type": "code",
   "execution_count": null,
   "metadata": {},
   "outputs": [],
   "source": [
    "db.close()"
   ]
  },
  {
   "cell_type": "markdown",
   "metadata": {},
   "source": [
    "# Task 4: regression."
   ]
  },
  {
   "cell_type": "code",
   "execution_count": null,
   "metadata": {},
   "outputs": [],
   "source": []
  },
  {
   "cell_type": "markdown",
   "metadata": {},
   "source": [
    "# Task 5: classification."
   ]
  },
  {
   "cell_type": "code",
   "execution_count": null,
   "metadata": {},
   "outputs": [],
   "source": []
  },
  {
   "cell_type": "markdown",
   "metadata": {},
   "source": [
    "# Finalize."
   ]
  },
  {
   "cell_type": "code",
   "execution_count": null,
   "metadata": {},
   "outputs": [],
   "source": [
    "db.close()"
   ]
  }
 ],
 "metadata": {
  "interpreter": {
   "hash": "164a2c054889c472f3df4e2c8be202de555331b95075dba8c991b5622bd6f683"
  },
  "kernelspec": {
   "display_name": "Python 3.10.4 64-bit",
   "language": "python",
   "name": "python3"
  },
  "language_info": {
   "codemirror_mode": {
    "name": "ipython",
    "version": 3
   },
   "file_extension": ".py",
   "mimetype": "text/x-python",
   "name": "python",
   "nbconvert_exporter": "python",
   "pygments_lexer": "ipython3",
   "version": "3.10.4"
  }
 },
 "nbformat": 4,
 "nbformat_minor": 4
}
