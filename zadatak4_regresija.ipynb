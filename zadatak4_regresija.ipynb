{
 "cells": [
  {
   "cell_type": "markdown",
   "metadata": {},
   "source": [
    "# Zadatak 4: Implementacija regresije"
   ]
  },
  {
   "cell_type": "code",
   "execution_count": 1,
   "metadata": {},
   "outputs": [],
   "source": [
    "import math\n",
    "import matplotlib.pyplot as plt\n",
    "import numpy as np\n",
    "import pandas as pd\n",
    "import re\n",
    "import seaborn as sns\n",
    "\n",
    "from sklearn import metrics\n",
    "from sklearn.linear_model import LinearRegression\n",
    "from sklearn.model_selection import cross_val_score\n",
    "from sklearn.model_selection import train_test_split\n",
    "\n",
    "from zadatak4_linearna_regresija import LinReg"
   ]
  },
  {
   "cell_type": "markdown",
   "metadata": {},
   "source": [
    "### Učitavanje podataka"
   ]
  },
  {
   "cell_type": "code",
   "execution_count": 2,
   "metadata": {},
   "outputs": [
    {
     "data": {
      "text/html": [
       "<div>\n",
       "<style scoped>\n",
       "    .dataframe tbody tr th:only-of-type {\n",
       "        vertical-align: middle;\n",
       "    }\n",
       "\n",
       "    .dataframe tbody tr th {\n",
       "        vertical-align: top;\n",
       "    }\n",
       "\n",
       "    .dataframe thead th {\n",
       "        text-align: right;\n",
       "    }\n",
       "</style>\n",
       "<table border=\"1\" class=\"dataframe\">\n",
       "  <thead>\n",
       "    <tr style=\"text-align: right;\">\n",
       "      <th></th>\n",
       "      <th>url</th>\n",
       "      <th>naslov</th>\n",
       "      <th>cena</th>\n",
       "      <th>stanje</th>\n",
       "      <th>marka</th>\n",
       "      <th>model</th>\n",
       "      <th>godiste</th>\n",
       "      <th>kilometraza</th>\n",
       "      <th>karoserija</th>\n",
       "      <th>gorivo</th>\n",
       "      <th>kubikaza</th>\n",
       "      <th>snaga</th>\n",
       "      <th>menjac</th>\n",
       "      <th>vrata</th>\n",
       "      <th>boja</th>\n",
       "      <th>lokacija_prodavca</th>\n",
       "    </tr>\n",
       "  </thead>\n",
       "  <tbody>\n",
       "    <tr>\n",
       "      <th>0</th>\n",
       "      <td>https://www.polovniautomobili.com/auto-oglasi/...</td>\n",
       "      <td>Fiat 500 14 16v SPORT CH</td>\n",
       "      <td>4599</td>\n",
       "      <td>Polovno vozilo</td>\n",
       "      <td>Fiat</td>\n",
       "      <td>500</td>\n",
       "      <td>2008</td>\n",
       "      <td>150661</td>\n",
       "      <td>Hečbek</td>\n",
       "      <td>Benzin</td>\n",
       "      <td>1400</td>\n",
       "      <td>74/101 (kW/KS)</td>\n",
       "      <td>Manuelni 6 brzina</td>\n",
       "      <td>2/3 vrata</td>\n",
       "      <td>Siva</td>\n",
       "      <td>Vidikovac</td>\n",
       "    </tr>\n",
       "    <tr>\n",
       "      <th>1</th>\n",
       "      <td>https://www.polovniautomobili.com/auto-oglasi/...</td>\n",
       "      <td>Peugeot 508 2.0</td>\n",
       "      <td>8950</td>\n",
       "      <td>Polovno vozilo</td>\n",
       "      <td>Peugeot</td>\n",
       "      <td>508</td>\n",
       "      <td>2015</td>\n",
       "      <td>187000</td>\n",
       "      <td>Karavan</td>\n",
       "      <td>Dizel</td>\n",
       "      <td>1997</td>\n",
       "      <td>120/163 (kW/KS)</td>\n",
       "      <td>Automatski / poluautomatski</td>\n",
       "      <td>4/5 vrata</td>\n",
       "      <td>Siva</td>\n",
       "      <td>Vidikovac</td>\n",
       "    </tr>\n",
       "    <tr>\n",
       "      <th>2</th>\n",
       "      <td>https://www.polovniautomobili.com/auto-oglasi/...</td>\n",
       "      <td>Hyundai Tucson 2.0 CRDI 4WD</td>\n",
       "      <td>4600</td>\n",
       "      <td>Polovno vozilo</td>\n",
       "      <td>Hyundai</td>\n",
       "      <td>Tucson</td>\n",
       "      <td>2006</td>\n",
       "      <td>231000</td>\n",
       "      <td>Džip/SUV</td>\n",
       "      <td>Dizel</td>\n",
       "      <td>1998</td>\n",
       "      <td>82/111 (kW/KS)</td>\n",
       "      <td>Manuelni 5 brzina</td>\n",
       "      <td>4/5 vrata</td>\n",
       "      <td>Zlatna</td>\n",
       "      <td>Vidikovac</td>\n",
       "    </tr>\n",
       "    <tr>\n",
       "      <th>3</th>\n",
       "      <td>https://www.polovniautomobili.com/auto-oglasi/...</td>\n",
       "      <td>Volkswagen Golf 7 GTD</td>\n",
       "      <td>17000</td>\n",
       "      <td>Polovno vozilo</td>\n",
       "      <td>Volkswagen</td>\n",
       "      <td>Golf 7</td>\n",
       "      <td>2016</td>\n",
       "      <td>122000</td>\n",
       "      <td>Hečbek</td>\n",
       "      <td>Dizel</td>\n",
       "      <td>1968</td>\n",
       "      <td>135/184 (kW/KS)</td>\n",
       "      <td>Manuelni 6 brzina</td>\n",
       "      <td>4/5 vrata</td>\n",
       "      <td>Crna</td>\n",
       "      <td>Vidikovac</td>\n",
       "    </tr>\n",
       "    <tr>\n",
       "      <th>4</th>\n",
       "      <td>https://www.polovniautomobili.com/auto-oglasi/...</td>\n",
       "      <td>Opel Antara 2.0 CDTI 4WD COSMO</td>\n",
       "      <td>5600</td>\n",
       "      <td>Polovno vozilo</td>\n",
       "      <td>Opel</td>\n",
       "      <td>Antara</td>\n",
       "      <td>2007</td>\n",
       "      <td>204000</td>\n",
       "      <td>Džip/SUV</td>\n",
       "      <td>Dizel</td>\n",
       "      <td>1991</td>\n",
       "      <td>110/150 (kW/KS)</td>\n",
       "      <td>Manuelni 5 brzina</td>\n",
       "      <td>4/5 vrata</td>\n",
       "      <td>Crna</td>\n",
       "      <td>Vidikovac</td>\n",
       "    </tr>\n",
       "    <tr>\n",
       "      <th>...</th>\n",
       "      <td>...</td>\n",
       "      <td>...</td>\n",
       "      <td>...</td>\n",
       "      <td>...</td>\n",
       "      <td>...</td>\n",
       "      <td>...</td>\n",
       "      <td>...</td>\n",
       "      <td>...</td>\n",
       "      <td>...</td>\n",
       "      <td>...</td>\n",
       "      <td>...</td>\n",
       "      <td>...</td>\n",
       "      <td>...</td>\n",
       "      <td>...</td>\n",
       "      <td>...</td>\n",
       "      <td>...</td>\n",
       "    </tr>\n",
       "    <tr>\n",
       "      <th>31651</th>\n",
       "      <td>https://www.polovniautomobili.com/auto-oglasi/...</td>\n",
       "      <td>Toyota Avensis</td>\n",
       "      <td>2800</td>\n",
       "      <td>Polovno vozilo</td>\n",
       "      <td>Toyota</td>\n",
       "      <td>Avensis</td>\n",
       "      <td>2004</td>\n",
       "      <td>288000</td>\n",
       "      <td>Limuzina</td>\n",
       "      <td>Dizel</td>\n",
       "      <td>1995</td>\n",
       "      <td>85/116 (kW/KS)</td>\n",
       "      <td>Manuelni 5 brzina</td>\n",
       "      <td>4/5 vrata</td>\n",
       "      <td>Zlatna</td>\n",
       "      <td>Niš</td>\n",
       "    </tr>\n",
       "    <tr>\n",
       "      <th>31652</th>\n",
       "      <td>https://www.polovniautomobili.com/auto-oglasi/...</td>\n",
       "      <td>Honda Civic 1.8 GT</td>\n",
       "      <td>8000</td>\n",
       "      <td>Polovno vozilo</td>\n",
       "      <td>Honda</td>\n",
       "      <td>Civic</td>\n",
       "      <td>2010</td>\n",
       "      <td>205000</td>\n",
       "      <td>Hečbek</td>\n",
       "      <td>Benzin</td>\n",
       "      <td>1799</td>\n",
       "      <td>103/140 (kW/KS)</td>\n",
       "      <td>Manuelni 6 brzina</td>\n",
       "      <td>4/5 vrata</td>\n",
       "      <td>Crna</td>\n",
       "      <td>Niš</td>\n",
       "    </tr>\n",
       "    <tr>\n",
       "      <th>31653</th>\n",
       "      <td>https://www.polovniautomobili.com/auto-oglasi/...</td>\n",
       "      <td>Volkswagen Golf 5 1.9tdi 9</td>\n",
       "      <td>4450</td>\n",
       "      <td>Polovno vozilo</td>\n",
       "      <td>Volkswagen</td>\n",
       "      <td>Golf 5</td>\n",
       "      <td>2007</td>\n",
       "      <td>346567</td>\n",
       "      <td>Hečbek</td>\n",
       "      <td>Dizel</td>\n",
       "      <td>1896</td>\n",
       "      <td>77/105 (kW/KS)</td>\n",
       "      <td>Manuelni 6 brzina</td>\n",
       "      <td>4/5 vrata</td>\n",
       "      <td>Teget</td>\n",
       "      <td>Niš</td>\n",
       "    </tr>\n",
       "    <tr>\n",
       "      <th>31654</th>\n",
       "      <td>https://www.polovniautomobili.com/auto-oglasi/...</td>\n",
       "      <td>Mercedes Benz A 180 A 180 cdi DCT</td>\n",
       "      <td>14800</td>\n",
       "      <td>Polovno vozilo</td>\n",
       "      <td>Mercedes Benz</td>\n",
       "      <td>A 180</td>\n",
       "      <td>2013</td>\n",
       "      <td>153000</td>\n",
       "      <td>Hečbek</td>\n",
       "      <td>Dizel</td>\n",
       "      <td>1796</td>\n",
       "      <td>80/109 (kW/KS)</td>\n",
       "      <td>Automatski / poluautomatski</td>\n",
       "      <td>4/5 vrata</td>\n",
       "      <td>Siva</td>\n",
       "      <td>Niš</td>\n",
       "    </tr>\n",
       "    <tr>\n",
       "      <th>31655</th>\n",
       "      <td>https://www.polovniautomobili.com/auto-oglasi/...</td>\n",
       "      <td>MINI One 1.6</td>\n",
       "      <td>2200</td>\n",
       "      <td>Polovno vozilo</td>\n",
       "      <td>MINI</td>\n",
       "      <td>One</td>\n",
       "      <td>2002</td>\n",
       "      <td>212000</td>\n",
       "      <td>Hečbek</td>\n",
       "      <td>Benzin</td>\n",
       "      <td>1598</td>\n",
       "      <td>66/90 (kW/KS)</td>\n",
       "      <td>Manuelni 5 brzina</td>\n",
       "      <td>2/3 vrata</td>\n",
       "      <td>Siva</td>\n",
       "      <td>Niš</td>\n",
       "    </tr>\n",
       "  </tbody>\n",
       "</table>\n",
       "<p>31656 rows × 16 columns</p>\n",
       "</div>"
      ],
      "text/plain": [
       "                                                     url  \\\n",
       "0      https://www.polovniautomobili.com/auto-oglasi/...   \n",
       "1      https://www.polovniautomobili.com/auto-oglasi/...   \n",
       "2      https://www.polovniautomobili.com/auto-oglasi/...   \n",
       "3      https://www.polovniautomobili.com/auto-oglasi/...   \n",
       "4      https://www.polovniautomobili.com/auto-oglasi/...   \n",
       "...                                                  ...   \n",
       "31651  https://www.polovniautomobili.com/auto-oglasi/...   \n",
       "31652  https://www.polovniautomobili.com/auto-oglasi/...   \n",
       "31653  https://www.polovniautomobili.com/auto-oglasi/...   \n",
       "31654  https://www.polovniautomobili.com/auto-oglasi/...   \n",
       "31655  https://www.polovniautomobili.com/auto-oglasi/...   \n",
       "\n",
       "                                  naslov   cena          stanje  \\\n",
       "0               Fiat 500 14 16v SPORT CH   4599  Polovno vozilo   \n",
       "1                        Peugeot 508 2.0   8950  Polovno vozilo   \n",
       "2            Hyundai Tucson 2.0 CRDI 4WD   4600  Polovno vozilo   \n",
       "3                  Volkswagen Golf 7 GTD  17000  Polovno vozilo   \n",
       "4         Opel Antara 2.0 CDTI 4WD COSMO   5600  Polovno vozilo   \n",
       "...                                  ...    ...             ...   \n",
       "31651                     Toyota Avensis   2800  Polovno vozilo   \n",
       "31652                 Honda Civic 1.8 GT   8000  Polovno vozilo   \n",
       "31653         Volkswagen Golf 5 1.9tdi 9   4450  Polovno vozilo   \n",
       "31654  Mercedes Benz A 180 A 180 cdi DCT  14800  Polovno vozilo   \n",
       "31655                       MINI One 1.6   2200  Polovno vozilo   \n",
       "\n",
       "               marka    model  godiste  kilometraza karoserija  gorivo  \\\n",
       "0               Fiat      500     2008       150661     Hečbek  Benzin   \n",
       "1            Peugeot      508     2015       187000    Karavan   Dizel   \n",
       "2            Hyundai   Tucson     2006       231000   Džip/SUV   Dizel   \n",
       "3         Volkswagen   Golf 7     2016       122000     Hečbek   Dizel   \n",
       "4               Opel   Antara     2007       204000   Džip/SUV   Dizel   \n",
       "...              ...      ...      ...          ...        ...     ...   \n",
       "31651         Toyota  Avensis     2004       288000   Limuzina   Dizel   \n",
       "31652          Honda    Civic     2010       205000     Hečbek  Benzin   \n",
       "31653     Volkswagen   Golf 5     2007       346567     Hečbek   Dizel   \n",
       "31654  Mercedes Benz    A 180     2013       153000     Hečbek   Dizel   \n",
       "31655           MINI      One     2002       212000     Hečbek  Benzin   \n",
       "\n",
       "       kubikaza            snaga                       menjac      vrata  \\\n",
       "0          1400   74/101 (kW/KS)            Manuelni 6 brzina  2/3 vrata   \n",
       "1          1997  120/163 (kW/KS)  Automatski / poluautomatski  4/5 vrata   \n",
       "2          1998   82/111 (kW/KS)            Manuelni 5 brzina  4/5 vrata   \n",
       "3          1968  135/184 (kW/KS)            Manuelni 6 brzina  4/5 vrata   \n",
       "4          1991  110/150 (kW/KS)            Manuelni 5 brzina  4/5 vrata   \n",
       "...         ...              ...                          ...        ...   \n",
       "31651      1995   85/116 (kW/KS)            Manuelni 5 brzina  4/5 vrata   \n",
       "31652      1799  103/140 (kW/KS)            Manuelni 6 brzina  4/5 vrata   \n",
       "31653      1896   77/105 (kW/KS)            Manuelni 6 brzina  4/5 vrata   \n",
       "31654      1796   80/109 (kW/KS)  Automatski / poluautomatski  4/5 vrata   \n",
       "31655      1598    66/90 (kW/KS)            Manuelni 5 brzina  2/3 vrata   \n",
       "\n",
       "         boja lokacija_prodavca  \n",
       "0        Siva         Vidikovac  \n",
       "1        Siva         Vidikovac  \n",
       "2      Zlatna         Vidikovac  \n",
       "3        Crna         Vidikovac  \n",
       "4        Crna         Vidikovac  \n",
       "...       ...               ...  \n",
       "31651  Zlatna               Niš  \n",
       "31652    Crna               Niš  \n",
       "31653   Teget               Niš  \n",
       "31654    Siva               Niš  \n",
       "31655    Siva               Niš  \n",
       "\n",
       "[31656 rows x 16 columns]"
      ]
     },
     "execution_count": 2,
     "metadata": {},
     "output_type": "execute_result"
    }
   ],
   "source": [
    "df = pd.read_csv('./db/scrapy_vozila_20220602.csv', sep=';', names=['url', 'naslov', 'cena', 'stanje', 'marka', 'model', 'godiste', 'kilometraza', 'karoserija', 'gorivo', 'kubikaza', 'snaga', 'menjac', 'vrata', 'boja', 'lokacija_prodavca'])\n",
    "\n",
    "df"
   ]
  },
  {
   "cell_type": "code",
   "execution_count": 3,
   "metadata": {},
   "outputs": [
    {
     "data": {
      "text/html": [
       "<div>\n",
       "<style scoped>\n",
       "    .dataframe tbody tr th:only-of-type {\n",
       "        vertical-align: middle;\n",
       "    }\n",
       "\n",
       "    .dataframe tbody tr th {\n",
       "        vertical-align: top;\n",
       "    }\n",
       "\n",
       "    .dataframe thead th {\n",
       "        text-align: right;\n",
       "    }\n",
       "</style>\n",
       "<table border=\"1\" class=\"dataframe\">\n",
       "  <thead>\n",
       "    <tr style=\"text-align: right;\">\n",
       "      <th></th>\n",
       "      <th>godiste</th>\n",
       "      <th>kilometraza</th>\n",
       "      <th>kubikaza</th>\n",
       "    </tr>\n",
       "  </thead>\n",
       "  <tbody>\n",
       "    <tr>\n",
       "      <th>count</th>\n",
       "      <td>31656.000000</td>\n",
       "      <td>3.165600e+04</td>\n",
       "      <td>3.165600e+04</td>\n",
       "    </tr>\n",
       "    <tr>\n",
       "      <th>mean</th>\n",
       "      <td>2008.603424</td>\n",
       "      <td>1.964099e+05</td>\n",
       "      <td>1.913877e+03</td>\n",
       "    </tr>\n",
       "    <tr>\n",
       "      <th>std</th>\n",
       "      <td>6.244448</td>\n",
       "      <td>1.391005e+05</td>\n",
       "      <td>1.142665e+04</td>\n",
       "    </tr>\n",
       "    <tr>\n",
       "      <th>min</th>\n",
       "      <td>1938.000000</td>\n",
       "      <td>0.000000e+00</td>\n",
       "      <td>1.000000e+02</td>\n",
       "    </tr>\n",
       "    <tr>\n",
       "      <th>25%</th>\n",
       "      <td>2005.000000</td>\n",
       "      <td>1.600000e+05</td>\n",
       "      <td>1.461000e+03</td>\n",
       "    </tr>\n",
       "    <tr>\n",
       "      <th>50%</th>\n",
       "      <td>2008.000000</td>\n",
       "      <td>1.900000e+05</td>\n",
       "      <td>1.750000e+03</td>\n",
       "    </tr>\n",
       "    <tr>\n",
       "      <th>75%</th>\n",
       "      <td>2012.000000</td>\n",
       "      <td>2.290000e+05</td>\n",
       "      <td>1.989000e+03</td>\n",
       "    </tr>\n",
       "    <tr>\n",
       "      <th>max</th>\n",
       "      <td>2022.000000</td>\n",
       "      <td>4.000000e+06</td>\n",
       "      <td>1.598590e+06</td>\n",
       "    </tr>\n",
       "  </tbody>\n",
       "</table>\n",
       "</div>"
      ],
      "text/plain": [
       "            godiste   kilometraza      kubikaza\n",
       "count  31656.000000  3.165600e+04  3.165600e+04\n",
       "mean    2008.603424  1.964099e+05  1.913877e+03\n",
       "std        6.244448  1.391005e+05  1.142665e+04\n",
       "min     1938.000000  0.000000e+00  1.000000e+02\n",
       "25%     2005.000000  1.600000e+05  1.461000e+03\n",
       "50%     2008.000000  1.900000e+05  1.750000e+03\n",
       "75%     2012.000000  2.290000e+05  1.989000e+03\n",
       "max     2022.000000  4.000000e+06  1.598590e+06"
      ]
     },
     "execution_count": 3,
     "metadata": {},
     "output_type": "execute_result"
    }
   ],
   "source": [
    "df.describe()"
   ]
  },
  {
   "cell_type": "code",
   "execution_count": 4,
   "metadata": {},
   "outputs": [
    {
     "name": "stdout",
     "output_type": "stream",
     "text": [
      "<class 'pandas.core.frame.DataFrame'>\n",
      "RangeIndex: 31656 entries, 0 to 31655\n",
      "Data columns (total 16 columns):\n",
      " #   Column             Non-Null Count  Dtype \n",
      "---  ------             --------------  ----- \n",
      " 0   url                31656 non-null  object\n",
      " 1   naslov             31656 non-null  object\n",
      " 2   cena               31656 non-null  object\n",
      " 3   stanje             31656 non-null  object\n",
      " 4   marka              31656 non-null  object\n",
      " 5   model              31656 non-null  object\n",
      " 6   godiste            31656 non-null  int64 \n",
      " 7   kilometraza        31656 non-null  int64 \n",
      " 8   karoserija         31656 non-null  object\n",
      " 9   gorivo             31656 non-null  object\n",
      " 10  kubikaza           31656 non-null  int64 \n",
      " 11  snaga              31656 non-null  object\n",
      " 12  menjac             31656 non-null  object\n",
      " 13  vrata              31656 non-null  object\n",
      " 14  boja               31656 non-null  object\n",
      " 15  lokacija_prodavca  31656 non-null  object\n",
      "dtypes: int64(3), object(13)\n",
      "memory usage: 3.9+ MB\n"
     ]
    }
   ],
   "source": [
    "df.info()"
   ]
  },
  {
   "cell_type": "code",
   "execution_count": 5,
   "metadata": {},
   "outputs": [
    {
     "data": {
      "text/plain": [
       "url                  object\n",
       "naslov               object\n",
       "cena                 object\n",
       "stanje               object\n",
       "marka                object\n",
       "model                object\n",
       "godiste               int64\n",
       "kilometraza           int64\n",
       "karoserija           object\n",
       "gorivo               object\n",
       "kubikaza              int64\n",
       "snaga                object\n",
       "menjac               object\n",
       "vrata                object\n",
       "boja                 object\n",
       "lokacija_prodavca    object\n",
       "dtype: object"
      ]
     },
     "execution_count": 5,
     "metadata": {},
     "output_type": "execute_result"
    }
   ],
   "source": [
    "df.dtypes"
   ]
  },
  {
   "cell_type": "markdown",
   "metadata": {},
   "source": [
    "### Uklanjanje nenumeričkih vrednosti cena i snage"
   ]
  },
  {
   "cell_type": "code",
   "execution_count": 6,
   "metadata": {},
   "outputs": [
    {
     "name": "stderr",
     "output_type": "stream",
     "text": [
      "C:\\Users\\kifla\\AppData\\Local\\Temp\\ipykernel_5068\\735780608.py:3: SettingWithCopyWarning: \n",
      "A value is trying to be set on a copy of a slice from a DataFrame.\n",
      "Try using .loc[row_indexer,col_indexer] = value instead\n",
      "\n",
      "See the caveats in the documentation: https://pandas.pydata.org/pandas-docs/stable/user_guide/indexing.html#returning-a-view-versus-a-copy\n",
      "  df.loc[:, 'cena'] = df.loc[:, 'cena'].astype('int64')\n",
      "C:\\Users\\kifla\\AppData\\Local\\Temp\\ipykernel_5068\\735780608.py:13: SettingWithCopyWarning: \n",
      "A value is trying to be set on a copy of a slice from a DataFrame.\n",
      "Try using .loc[row_indexer,col_indexer] = value instead\n",
      "\n",
      "See the caveats in the documentation: https://pandas.pydata.org/pandas-docs/stable/user_guide/indexing.html#returning-a-view-versus-a-copy\n",
      "  df['snaga'] = df['snaga'].apply(sredi_snagu)\n"
     ]
    }
   ],
   "source": [
    "# Cena\n",
    "df = df.loc[pd.to_numeric(df['cena'], errors='coerce').notnull()]\n",
    "df.loc[:, 'cena'] = df.loc[:, 'cena'].astype('int64')\n",
    "\n",
    "\n",
    "# Snaga - zadrzava se brojka u konjskim snagama\n",
    "def sredi_snagu(snaga: str) -> str:\n",
    "    try:\n",
    "        return re.search('(?<=/)\\d+', snaga).group(0)\n",
    "    except AttributeError:\n",
    "        return None\n",
    "\n",
    "df['snaga'] = df['snaga'].apply(sredi_snagu)\n",
    "\n",
    "df = df.loc[pd.to_numeric(df['snaga'], errors='coerce').notnull()]\n",
    "df.loc[:, 'snaga'] = df.loc[:, 'snaga'].astype('int64')"
   ]
  },
  {
   "cell_type": "code",
   "execution_count": 7,
   "metadata": {},
   "outputs": [
    {
     "data": {
      "text/plain": [
       "url                  object\n",
       "naslov               object\n",
       "cena                  int64\n",
       "stanje               object\n",
       "marka                object\n",
       "model                object\n",
       "godiste               int64\n",
       "kilometraza           int64\n",
       "karoserija           object\n",
       "gorivo               object\n",
       "kubikaza              int64\n",
       "snaga                 int64\n",
       "menjac               object\n",
       "vrata                object\n",
       "boja                 object\n",
       "lokacija_prodavca    object\n",
       "dtype: object"
      ]
     },
     "execution_count": 7,
     "metadata": {},
     "output_type": "execute_result"
    }
   ],
   "source": [
    "df.dtypes"
   ]
  },
  {
   "cell_type": "code",
   "execution_count": 8,
   "metadata": {},
   "outputs": [
    {
     "data": {
      "text/plain": [
       "(30487, 16)"
      ]
     },
     "execution_count": 8,
     "metadata": {},
     "output_type": "execute_result"
    }
   ],
   "source": [
    "df.shape"
   ]
  },
  {
   "cell_type": "markdown",
   "metadata": {},
   "source": [
    "### Odabir relevantnih podataka i pretvaranje kategoričkih vrednosti u numeričke"
   ]
  },
  {
   "cell_type": "code",
   "execution_count": 9,
   "metadata": {},
   "outputs": [],
   "source": [
    "df_for_training = df.copy()\n",
    "\n",
    "features_to_exclude = ['cena', 'url', 'naslov', 'marka', 'model', 'karoserija', 'gorivo', 'menjac', 'vrata', 'boja', 'lokacija_prodavca']\n",
    "df_for_training = df_for_training.drop(features_to_exclude, axis=1)\n",
    "\n",
    "categorical_features = ['stanje']\n",
    "for f in categorical_features:\n",
    "    df_for_training[f] = df_for_training[f].astype('category').cat.codes"
   ]
  },
  {
   "cell_type": "markdown",
   "metadata": {},
   "source": [
    "### Skaliranje numeričkih podataka"
   ]
  },
  {
   "cell_type": "code",
   "execution_count": 10,
   "metadata": {},
   "outputs": [
    {
     "data": {
      "text/html": [
       "<div>\n",
       "<style scoped>\n",
       "    .dataframe tbody tr th:only-of-type {\n",
       "        vertical-align: middle;\n",
       "    }\n",
       "\n",
       "    .dataframe tbody tr th {\n",
       "        vertical-align: top;\n",
       "    }\n",
       "\n",
       "    .dataframe thead th {\n",
       "        text-align: right;\n",
       "    }\n",
       "</style>\n",
       "<table border=\"1\" class=\"dataframe\">\n",
       "  <thead>\n",
       "    <tr style=\"text-align: right;\">\n",
       "      <th></th>\n",
       "      <th>stanje</th>\n",
       "      <th>godiste</th>\n",
       "      <th>kilometraza</th>\n",
       "      <th>kubikaza</th>\n",
       "      <th>snaga</th>\n",
       "    </tr>\n",
       "  </thead>\n",
       "  <tbody>\n",
       "    <tr>\n",
       "      <th>0</th>\n",
       "      <td>1</td>\n",
       "      <td>-0.089751</td>\n",
       "      <td>-0.343189</td>\n",
       "      <td>-0.044211</td>\n",
       "      <td>-0.440034</td>\n",
       "    </tr>\n",
       "    <tr>\n",
       "      <th>1</th>\n",
       "      <td>1</td>\n",
       "      <td>1.060758</td>\n",
       "      <td>-0.077278</td>\n",
       "      <td>0.007066</td>\n",
       "      <td>0.758765</td>\n",
       "    </tr>\n",
       "    <tr>\n",
       "      <th>2</th>\n",
       "      <td>1</td>\n",
       "      <td>-0.418468</td>\n",
       "      <td>0.244693</td>\n",
       "      <td>0.007152</td>\n",
       "      <td>-0.246679</td>\n",
       "    </tr>\n",
       "    <tr>\n",
       "      <th>3</th>\n",
       "      <td>1</td>\n",
       "      <td>1.225117</td>\n",
       "      <td>-0.552917</td>\n",
       "      <td>0.004575</td>\n",
       "      <td>1.164810</td>\n",
       "    </tr>\n",
       "    <tr>\n",
       "      <th>4</th>\n",
       "      <td>1</td>\n",
       "      <td>-0.254110</td>\n",
       "      <td>0.047120</td>\n",
       "      <td>0.006551</td>\n",
       "      <td>0.507404</td>\n",
       "    </tr>\n",
       "    <tr>\n",
       "      <th>...</th>\n",
       "      <td>...</td>\n",
       "      <td>...</td>\n",
       "      <td>...</td>\n",
       "      <td>...</td>\n",
       "      <td>...</td>\n",
       "    </tr>\n",
       "    <tr>\n",
       "      <th>31651</th>\n",
       "      <td>1</td>\n",
       "      <td>-0.747185</td>\n",
       "      <td>0.661791</td>\n",
       "      <td>0.006894</td>\n",
       "      <td>-0.150002</td>\n",
       "    </tr>\n",
       "    <tr>\n",
       "      <th>31652</th>\n",
       "      <td>1</td>\n",
       "      <td>0.238966</td>\n",
       "      <td>0.054437</td>\n",
       "      <td>-0.009940</td>\n",
       "      <td>0.314049</td>\n",
       "    </tr>\n",
       "    <tr>\n",
       "      <th>31653</th>\n",
       "      <td>1</td>\n",
       "      <td>-0.254110</td>\n",
       "      <td>1.090356</td>\n",
       "      <td>-0.001609</td>\n",
       "      <td>-0.362692</td>\n",
       "    </tr>\n",
       "    <tr>\n",
       "      <th>31654</th>\n",
       "      <td>1</td>\n",
       "      <td>0.732041</td>\n",
       "      <td>-0.326074</td>\n",
       "      <td>-0.010198</td>\n",
       "      <td>-0.285350</td>\n",
       "    </tr>\n",
       "    <tr>\n",
       "      <th>31655</th>\n",
       "      <td>1</td>\n",
       "      <td>-1.075902</td>\n",
       "      <td>0.105660</td>\n",
       "      <td>-0.027204</td>\n",
       "      <td>-0.652724</td>\n",
       "    </tr>\n",
       "  </tbody>\n",
       "</table>\n",
       "<p>30487 rows × 5 columns</p>\n",
       "</div>"
      ],
      "text/plain": [
       "       stanje   godiste  kilometraza  kubikaza     snaga\n",
       "0           1 -0.089751    -0.343189 -0.044211 -0.440034\n",
       "1           1  1.060758    -0.077278  0.007066  0.758765\n",
       "2           1 -0.418468     0.244693  0.007152 -0.246679\n",
       "3           1  1.225117    -0.552917  0.004575  1.164810\n",
       "4           1 -0.254110     0.047120  0.006551  0.507404\n",
       "...       ...       ...          ...       ...       ...\n",
       "31651       1 -0.747185     0.661791  0.006894 -0.150002\n",
       "31652       1  0.238966     0.054437 -0.009940  0.314049\n",
       "31653       1 -0.254110     1.090356 -0.001609 -0.362692\n",
       "31654       1  0.732041    -0.326074 -0.010198 -0.285350\n",
       "31655       1 -1.075902     0.105660 -0.027204 -0.652724\n",
       "\n",
       "[30487 rows x 5 columns]"
      ]
     },
     "execution_count": 10,
     "metadata": {},
     "output_type": "execute_result"
    }
   ],
   "source": [
    "# from sklearn.preprocessing import StandardScaler\n",
    "\n",
    "# scaler = StandardScaler()\n",
    "# numeric_features = ['godiste', 'kilometraza', 'kubikaza', 'snaga']\n",
    "# scaler.fit(df_for_training[numeric_features])\n",
    "# scaled_features = scaler.transform(df_for_training[numeric_features])\n",
    "# for i in range(len(numeric_features)):\n",
    "#     df_for_training[numeric_features[i]] = scaled_features[:, i]\n",
    "\n",
    "# df_for_training\n",
    "\n",
    "\n",
    "\n",
    "# numeric_features = ['godiste', 'kilometraza', 'kubikaza', 'snaga']\n",
    "# for i in range(len(numeric_features)):\n",
    "#     df_for_training[numeric_features[i]] = np.log(df_for_training[numeric_features[i]] + 1)\n",
    "\n",
    "# df_for_training"
   ]
  },
  {
   "cell_type": "markdown",
   "metadata": {},
   "source": [
    "## Linearna regresija - priprema/konfigurisanje"
   ]
  },
  {
   "cell_type": "markdown",
   "metadata": {},
   "source": [
    "### Podela podataka"
   ]
  },
  {
   "cell_type": "code",
   "execution_count": 11,
   "metadata": {},
   "outputs": [],
   "source": [
    "DATA_COUNT = df.shape[0]    # U slucaju da treba manje podataka zbog performansi, koristiti samo deo celokupnog broja podataka\n",
    "\n",
    "xtrain, xtest, ytrain, ytest = train_test_split(df_for_training[:DATA_COUNT], df['cena'][:DATA_COUNT], test_size=0.30, random_state=183)"
   ]
  },
  {
   "cell_type": "markdown",
   "metadata": {},
   "source": [
    "### Funkcija za treniranje i primenu linearne regresije"
   ]
  },
  {
   "cell_type": "code",
   "execution_count": 12,
   "metadata": {},
   "outputs": [],
   "source": [
    "def train_and_predict(linear_regression_cls, xtrain, xtest, ytrain, ytest, output: bool = True):\n",
    "    lr = linear_regression_cls()\n",
    "    lr.fit(xtrain, ytrain)\n",
    "    ypred = lr.predict(xtest)\n",
    "    \n",
    "    if output:\n",
    "        # print(f\"Coefficients: {lr.coef_}\")\n",
    "        \n",
    "        plt.figure(figsize = (18, 8))\n",
    "        plt.scatter(ytest, ypred)\n",
    "        plt.xlabel('Y Test')\n",
    "        plt.ylabel('Y Predicted')\n",
    "        print()\n",
    "        \n",
    "        print('MAE:', metrics.mean_absolute_error(ytest, ypred))\n",
    "        print('MSE:', metrics.mean_squared_error(ytest, ypred))\n",
    "        print('RMSE:', math.sqrt(metrics.mean_squared_error(ytest, ypred)))\n",
    "        print()\n",
    "        \n",
    "        plt.figure(figsize = (18, 8))\n",
    "        sns.set_palette(\"GnBu_d\")\n",
    "        sns.set_style('whitegrid')\n",
    "        sns.distplot((ytest - ypred), bins=50)\n",
    "        print()\n",
    "        \n",
    "        coeffecients = pd.DataFrame(lr.coef_, xtrain.columns)\n",
    "        coeffecients.columns = ['Coeffecient']\n",
    "        print(coeffecients)\n",
    "        print()\n",
    "        \n",
    "    return ypred"
   ]
  },
  {
   "cell_type": "markdown",
   "metadata": {},
   "source": [
    "## Linearna regresija - korišćenjem bibliotečke implementacije"
   ]
  },
  {
   "cell_type": "code",
   "execution_count": 13,
   "metadata": {},
   "outputs": [
    {
     "name": "stdout",
     "output_type": "stream",
     "text": [
      "\n",
      "MAE: 4180.347454996558\n",
      "MSE: 63410137.893245555\n",
      "RMSE: 7963.048278972416\n",
      "\n",
      "\n",
      "             Coeffecient\n",
      "stanje      -9556.010659\n",
      "godiste      4192.296723\n",
      "kilometraza -1316.314158\n",
      "kubikaza        5.457514\n",
      "snaga        6683.716873\n",
      "\n"
     ]
    },
    {
     "name": "stderr",
     "output_type": "stream",
     "text": [
      "c:\\Users\\kifla\\AppData\\Local\\Programs\\Python\\Python310\\lib\\site-packages\\seaborn\\distributions.py:2619: FutureWarning: `distplot` is a deprecated function and will be removed in a future version. Please adapt your code to use either `displot` (a figure-level function with similar flexibility) or `histplot` (an axes-level function for histograms).\n",
      "  warnings.warn(msg, FutureWarning)\n"
     ]
    },
    {
     "data": {
      "image/png": "[encoded data removed]",
      "text/plain": [
       "<Figure size 1296x576 with 1 Axes>"
      ]
     },
     "metadata": {
      "needs_background": "light"
     },
     "output_type": "display_data"
    },
    {
     "data": {
      "image/png": "[encoded data removed]",
      "text/plain": [
       "<Figure size 1296x576 with 1 Axes>"
      ]
     },
     "metadata": {
      "needs_background": "light"
     },
     "output_type": "display_data"
    }
   ],
   "source": [
    "pred = train_and_predict(LinearRegression, xtrain, xtest, ytrain, ytest, output=True)"
   ]
  },
  {
   "cell_type": "code",
   "execution_count": 14,
   "metadata": {},
   "outputs": [
    {
     "name": "stdout",
     "output_type": "stream",
     "text": [
      "Cross validation results: [0.65023012 0.6267412  0.64069273 0.58259843 0.40389821 0.54834227\n",
      " 0.52282304 0.49110111 0.51092119 0.45193925]\n",
      "Cross validation mean: 0.5429287541110192\n"
     ]
    }
   ],
   "source": [
    "crosval = cross_val_score(LinearRegression(), df_for_training[:DATA_COUNT], df['cena'][:DATA_COUNT], cv=10)\n",
    "print(f\"Cross validation results: {crosval}\")\n",
    "print(f\"Cross validation mean: {crosval.mean()}\")"
   ]
  },
  {
   "cell_type": "markdown",
   "metadata": {},
   "source": [
    "## Linearna regresija - korišćenjem sopstvene implementacije (može da potraje)"
   ]
  },
  {
   "cell_type": "code",
   "execution_count": 15,
   "metadata": {},
   "outputs": [
    {
     "ename": "AttributeError",
     "evalue": "'LinReg' object has no attribute 'fit'",
     "output_type": "error",
     "traceback": [
      "\u001b[1;31m---------------------------------------------------------------------------\u001b[0m",
      "\u001b[1;31mAttributeError\u001b[0m                            Traceback (most recent call last)",
      "\u001b[1;32mc:\\Users\\kifla\\Documents\\v\\ETF\\master\\psz\\projekat\\zadatak4_regresija.ipynb Cell 25'\u001b[0m in \u001b[0;36m<cell line: 1>\u001b[1;34m()\u001b[0m\n\u001b[1;32m----> <a href='vscode-notebook-cell:/c%3A/Users/kifla/Documents/v/ETF/master/psz/projekat/zadatak4_regresija.ipynb#ch0000026?line=0'>1</a>\u001b[0m pred \u001b[39m=\u001b[39m train_and_predict(LinReg, xtrain, xtest, ytrain, ytest, output\u001b[39m=\u001b[39;49m\u001b[39mTrue\u001b[39;49;00m)\n",
      "\u001b[1;32mc:\\Users\\kifla\\Documents\\v\\ETF\\master\\psz\\projekat\\zadatak4_regresija.ipynb Cell 20'\u001b[0m in \u001b[0;36mtrain_and_predict\u001b[1;34m(linear_regression_cls, xtrain, xtest, ytrain, ytest, output)\u001b[0m\n\u001b[0;32m      <a href='vscode-notebook-cell:/c%3A/Users/kifla/Documents/v/ETF/master/psz/projekat/zadatak4_regresija.ipynb#ch0000017?line=0'>1</a>\u001b[0m \u001b[39mdef\u001b[39;00m \u001b[39mtrain_and_predict\u001b[39m(linear_regression_cls, xtrain, xtest, ytrain, ytest, output: \u001b[39mbool\u001b[39m \u001b[39m=\u001b[39m \u001b[39mTrue\u001b[39;00m):\n\u001b[0;32m      <a href='vscode-notebook-cell:/c%3A/Users/kifla/Documents/v/ETF/master/psz/projekat/zadatak4_regresija.ipynb#ch0000017?line=1'>2</a>\u001b[0m     lr \u001b[39m=\u001b[39m linear_regression_cls()\n\u001b[1;32m----> <a href='vscode-notebook-cell:/c%3A/Users/kifla/Documents/v/ETF/master/psz/projekat/zadatak4_regresija.ipynb#ch0000017?line=2'>3</a>\u001b[0m     lr\u001b[39m.\u001b[39;49mfit(xtrain, ytrain)\n\u001b[0;32m      <a href='vscode-notebook-cell:/c%3A/Users/kifla/Documents/v/ETF/master/psz/projekat/zadatak4_regresija.ipynb#ch0000017?line=3'>4</a>\u001b[0m     ypred \u001b[39m=\u001b[39m lr\u001b[39m.\u001b[39mpredict(xtest)\n\u001b[0;32m      <a href='vscode-notebook-cell:/c%3A/Users/kifla/Documents/v/ETF/master/psz/projekat/zadatak4_regresija.ipynb#ch0000017?line=5'>6</a>\u001b[0m     \u001b[39mif\u001b[39;00m output:\n\u001b[0;32m      <a href='vscode-notebook-cell:/c%3A/Users/kifla/Documents/v/ETF/master/psz/projekat/zadatak4_regresija.ipynb#ch0000017?line=6'>7</a>\u001b[0m         \u001b[39m# print(f\"Coefficients: {lr.coef_}\")\u001b[39;00m\n",
      "\u001b[1;31mAttributeError\u001b[0m: 'LinReg' object has no attribute 'fit'"
     ]
    }
   ],
   "source": [
    "pred = train_and_predict(LinReg, xtrain, xtest, ytrain, ytest, output=True)"
   ]
  },
  {
   "cell_type": "code",
   "execution_count": null,
   "metadata": {},
   "outputs": [],
   "source": [
    "pred = train_and_predict(LinReg, xtrain, xtest, ytrain, ytest, output=True)"
   ]
  }
 ],
 "metadata": {
  "interpreter": {
   "hash": "164a2c054889c472f3df4e2c8be202de555331b95075dba8c991b5622bd6f683"
  },
  "kernelspec": {
   "display_name": "Python 3.10.4 64-bit",
   "language": "python",
   "name": "python3"
  },
  "language_info": {
   "codemirror_mode": {
    "name": "ipython",
    "version": 3
   },
   "file_extension": ".py",
   "mimetype": "text/x-python",
   "name": "python",
   "nbconvert_exporter": "python",
   "pygments_lexer": "ipython3",
   "version": "3.10.4"
  }
 },
 "nbformat": 4,
 "nbformat_minor": 4
}
