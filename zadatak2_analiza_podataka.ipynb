{
 "cells": [
  {
   "cell_type": "markdown",
   "metadata": {},
   "source": [
    "# Zadatak 2: Analiza podataka"
   ]
  },
  {
   "cell_type": "markdown",
   "metadata": {},
   "source": [
    "## Init"
   ]
  },
  {
   "cell_type": "code",
   "execution_count": 1,
   "metadata": {},
   "outputs": [],
   "source": [
    "from db.db import MysqlDAO\n",
    "db = MysqlDAO('vozila')"
   ]
  },
  {
   "cell_type": "markdown",
   "metadata": {},
   "source": [
    "## a) izlistati koliki je broj automobila za svaku od dostupnih marki"
   ]
  },
  {
   "cell_type": "code",
   "execution_count": 2,
   "metadata": {},
   "outputs": [
    {
     "data": {
      "text/plain": [
       "[{'marka': 'Volkswagen', 'cnt': 4959},\n",
       " {'marka': 'Audi', 'cnt': 2856},\n",
       " {'marka': 'Opel', 'cnt': 2679},\n",
       " {'marka': 'BMW', 'cnt': 2602},\n",
       " {'marka': 'Renault', 'cnt': 2357},\n",
       " {'marka': 'Peugeot', 'cnt': 2343},\n",
       " {'marka': 'Fiat', 'cnt': 1897},\n",
       " {'marka': 'Mercedes Benz', 'cnt': 1733},\n",
       " {'marka': 'Citroen', 'cnt': 1673},\n",
       " {'marka': 'Ford', 'cnt': 1512},\n",
       " {'marka': 'Škoda', 'cnt': 1054},\n",
       " {'marka': 'Nissan', 'cnt': 559},\n",
       " {'marka': 'Seat', 'cnt': 552},\n",
       " {'marka': 'Toyota', 'cnt': 497},\n",
       " {'marka': 'Alfa Romeo', 'cnt': 480},\n",
       " {'marka': 'Hyundai', 'cnt': 381},\n",
       " {'marka': 'Volvo', 'cnt': 325},\n",
       " {'marka': 'Mazda', 'cnt': 315},\n",
       " {'marka': 'Kia', 'cnt': 268},\n",
       " {'marka': 'Suzuki', 'cnt': 246},\n",
       " {'marka': 'Smart', 'cnt': 219},\n",
       " {'marka': 'MINI', 'cnt': 209},\n",
       " {'marka': 'Land Rover', 'cnt': 198},\n",
       " {'marka': 'Chevrolet', 'cnt': 182},\n",
       " {'marka': 'Lancia', 'cnt': 174},\n",
       " {'marka': 'Mitsubishi', 'cnt': 166},\n",
       " {'marka': 'Zastava', 'cnt': 160},\n",
       " {'marka': 'Honda', 'cnt': 158},\n",
       " {'marka': 'Dacia', 'cnt': 142},\n",
       " {'marka': 'Jeep', 'cnt': 100},\n",
       " {'marka': 'Porsche', 'cnt': 92},\n",
       " {'marka': 'Lada', 'cnt': 81},\n",
       " {'marka': 'Subaru', 'cnt': 74},\n",
       " {'marka': 'Daihatsu', 'cnt': 54},\n",
       " {'marka': 'Jaguar', 'cnt': 47},\n",
       " {'marka': 'Daewoo', 'cnt': 47},\n",
       " {'marka': 'Dodge', 'cnt': 44},\n",
       " {'marka': 'Saab', 'cnt': 34},\n",
       " {'marka': 'Rover', 'cnt': 34},\n",
       " {'marka': 'Chrysler', 'cnt': 25},\n",
       " {'marka': 'Isuzu', 'cnt': 23},\n",
       " {'marka': 'SsangYong', 'cnt': 20},\n",
       " {'marka': 'AC', 'cnt': 12},\n",
       " {'marka': 'Lexus', 'cnt': 9},\n",
       " {'marka': 'Maserati', 'cnt': 5},\n",
       " {'marka': 'Trabant', 'cnt': 5},\n",
       " {'marka': 'Bentley', 'cnt': 4},\n",
       " {'marka': 'UAZ', 'cnt': 4},\n",
       " {'marka': 'Infiniti', 'cnt': 4},\n",
       " {'marka': 'Chery', 'cnt': 4},\n",
       " {'marka': 'Lamborghini', 'cnt': 3},\n",
       " {'marka': 'MG', 'cnt': 3},\n",
       " {'marka': 'Cadillac', 'cnt': 3},\n",
       " {'marka': 'Aro', 'cnt': 2},\n",
       " {'marka': 'Wartburg', 'cnt': 2},\n",
       " {'marka': 'Mahindra', 'cnt': 2},\n",
       " {'marka': 'Tavria', 'cnt': 2},\n",
       " {'marka': 'Lincoln', 'cnt': 2},\n",
       " {'marka': 'Great Wall', 'cnt': 2},\n",
       " {'marka': 'Moskvitch', 'cnt': 2},\n",
       " {'marka': 'Ferrari', 'cnt': 2},\n",
       " {'marka': 'Rolls Royce', 'cnt': 2},\n",
       " {'marka': 'Cupra', 'cnt': 1},\n",
       " {'marka': 'Hummer', 'cnt': 1},\n",
       " {'marka': 'Polski Fiat', 'cnt': 1},\n",
       " {'marka': 'ZhiDou', 'cnt': 1},\n",
       " {'marka': 'Asia Motors', 'cnt': 1},\n",
       " {'marka': 'Tesla', 'cnt': 1},\n",
       " {'marka': 'Buick', 'cnt': 1},\n",
       " {'marka': 'Alpina', 'cnt': 1},\n",
       " {'marka': 'DR', 'cnt': 1},\n",
       " {'marka': 'GAZ', 'cnt': 1},\n",
       " {'marka': 'Vauxhall', 'cnt': 1}]"
      ]
     },
     "execution_count": 2,
     "metadata": {},
     "output_type": "execute_result"
    }
   ],
   "source": [
    "marka_count = db.marka_count()\n",
    "marka_count"
   ]
  },
  {
   "cell_type": "markdown",
   "metadata": {},
   "source": [
    "## b) izlistati koliko automobila se prodaje u svakom od gradova/lokacija (izlistati sve gradove i pored svakog napisati broj automobila u ponudi)"
   ]
  },
  {
   "cell_type": "code",
   "execution_count": 3,
   "metadata": {},
   "outputs": [
    {
     "data": {
      "text/plain": [
       "[{'lokacija_prodavca': 'Beograd', 'cnt': 4888},\n",
       " {'lokacija_prodavca': 'Novi Sad', 'cnt': 2477},\n",
       " {'lokacija_prodavca': 'Niš', 'cnt': 1462},\n",
       " {'lokacija_prodavca': 'Kragujevac', 'cnt': 1136},\n",
       " {'lokacija_prodavca': 'Šabac', 'cnt': 1096},\n",
       " {'lokacija_prodavca': 'Čačak', 'cnt': 875},\n",
       " {'lokacija_prodavca': 'Pančevo', 'cnt': 826},\n",
       " {'lokacija_prodavca': 'Valjevo', 'cnt': 781},\n",
       " {'lokacija_prodavca': 'Kraljevo', 'cnt': 766},\n",
       " {'lokacija_prodavca': 'Novi Beograd', 'cnt': 630},\n",
       " {'lokacija_prodavca': 'Loznica', 'cnt': 591},\n",
       " {'lokacija_prodavca': 'Zemun', 'cnt': 555},\n",
       " {'lokacija_prodavca': 'Subotica', 'cnt': 487},\n",
       " {'lokacija_prodavca': 'Obrenovac', 'cnt': 465},\n",
       " {'lokacija_prodavca': 'Novi Pazar', 'cnt': 440},\n",
       " {'lokacija_prodavca': 'Ruma', 'cnt': 421},\n",
       " {'lokacija_prodavca': 'Zrenjanin', 'cnt': 412},\n",
       " {'lokacija_prodavca': 'Smederevska Palanka', 'cnt': 411},\n",
       " {'lokacija_prodavca': 'Kruševac', 'cnt': 398},\n",
       " {'lokacija_prodavca': 'Veternik', 'cnt': 397},\n",
       " {'lokacija_prodavca': 'Smederevo', 'cnt': 354},\n",
       " {'lokacija_prodavca': 'Leskovac', 'cnt': 340},\n",
       " {'lokacija_prodavca': 'Jagodina', 'cnt': 317},\n",
       " {'lokacija_prodavca': 'Futog', 'cnt': 266},\n",
       " {'lokacija_prodavca': 'Sombor', 'cnt': 251},\n",
       " {'lokacija_prodavca': 'Užice', 'cnt': 250},\n",
       " {'lokacija_prodavca': 'Mladenovac', 'cnt': 240},\n",
       " {'lokacija_prodavca': 'Bor', 'cnt': 226},\n",
       " {'lokacija_prodavca': 'Batajnica', 'cnt': 214},\n",
       " {'lokacija_prodavca': 'Lazarevac', 'cnt': 214},\n",
       " {'lokacija_prodavca': 'Zaječar', 'cnt': 213},\n",
       " {'lokacija_prodavca': 'Ćuprija', 'cnt': 193},\n",
       " {'lokacija_prodavca': 'Surčin', 'cnt': 188},\n",
       " {'lokacija_prodavca': 'Paraćin', 'cnt': 176},\n",
       " {'lokacija_prodavca': 'Inđija', 'cnt': 153},\n",
       " {'lokacija_prodavca': 'Rakovica', 'cnt': 152},\n",
       " {'lokacija_prodavca': 'Vršac', 'cnt': 142},\n",
       " {'lokacija_prodavca': 'Aleksinac', 'cnt': 141},\n",
       " {'lokacija_prodavca': 'Topola', 'cnt': 135},\n",
       " {'lokacija_prodavca': 'Bežanijska Kosa', 'cnt': 134},\n",
       " {'lokacija_prodavca': 'Kovin', 'cnt': 134},\n",
       " {'lokacija_prodavca': 'Gornji Milanovac', 'cnt': 131},\n",
       " {'lokacija_prodavca': 'Tutin', 'cnt': 130},\n",
       " {'lokacija_prodavca': 'Stara Pazova', 'cnt': 125},\n",
       " {'lokacija_prodavca': 'Zvezdara', 'cnt': 120},\n",
       " {'lokacija_prodavca': 'Borča', 'cnt': 116},\n",
       " {'lokacija_prodavca': 'Vrčin', 'cnt': 115},\n",
       " {'lokacija_prodavca': 'Sremska Kamenica', 'cnt': 115},\n",
       " {'lokacija_prodavca': 'Koceljeva', 'cnt': 113},\n",
       " {'lokacija_prodavca': 'Voždovac', 'cnt': 108},\n",
       " {'lokacija_prodavca': 'Vladičin Han', 'cnt': 107},\n",
       " {'lokacija_prodavca': 'Velika Plana', 'cnt': 107},\n",
       " {'lokacija_prodavca': 'Sremska Mitrovica', 'cnt': 106},\n",
       " {'lokacija_prodavca': 'Vrbas', 'cnt': 106},\n",
       " {'lokacija_prodavca': 'Čukarica', 'cnt': 104},\n",
       " {'lokacija_prodavca': 'Temerin', 'cnt': 102},\n",
       " {'lokacija_prodavca': 'Vranje', 'cnt': 102},\n",
       " {'lokacija_prodavca': 'Ub', 'cnt': 101},\n",
       " {'lokacija_prodavca': 'Prijepolje', 'cnt': 91},\n",
       " {'lokacija_prodavca': 'Pirot', 'cnt': 90},\n",
       " {'lokacija_prodavca': 'Požega', 'cnt': 90},\n",
       " {'lokacija_prodavca': 'Ivanjica', 'cnt': 82},\n",
       " {'lokacija_prodavca': 'Lajkovac (Varoš)', 'cnt': 81},\n",
       " {'lokacija_prodavca': 'Požarevac', 'cnt': 80},\n",
       " {'lokacija_prodavca': 'Grocka', 'cnt': 78},\n",
       " {'lokacija_prodavca': 'Beška', 'cnt': 75},\n",
       " {'lokacija_prodavca': 'Novi Banovci', 'cnt': 75},\n",
       " {'lokacija_prodavca': 'Knjaževac', 'cnt': 75},\n",
       " {'lokacija_prodavca': 'Dobanovci', 'cnt': 75},\n",
       " {'lokacija_prodavca': 'Kikinda', 'cnt': 74},\n",
       " {'lokacija_prodavca': 'Novi Bečej', 'cnt': 74},\n",
       " {'lokacija_prodavca': 'Aranđelovac', 'cnt': 74},\n",
       " {'lokacija_prodavca': 'Resnik', 'cnt': 73},\n",
       " {'lokacija_prodavca': 'Senta', 'cnt': 70},\n",
       " {'lokacija_prodavca': 'Slepčević', 'cnt': 68},\n",
       " {'lokacija_prodavca': 'Trstenik', 'cnt': 62},\n",
       " {'lokacija_prodavca': 'Kaluđerica', 'cnt': 60},\n",
       " {'lokacija_prodavca': 'Sremčica', 'cnt': 58},\n",
       " {'lokacija_prodavca': 'Bujanovac', 'cnt': 58},\n",
       " {'lokacija_prodavca': 'Sevojno', 'cnt': 57},\n",
       " {'lokacija_prodavca': 'Arilje', 'cnt': 51},\n",
       " {'lokacija_prodavca': 'Ugrinovci', 'cnt': 50},\n",
       " {'lokacija_prodavca': 'Palić', 'cnt': 50},\n",
       " {'lokacija_prodavca': 'Barajevo', 'cnt': 50},\n",
       " {'lokacija_prodavca': 'Prigrevica', 'cnt': 50},\n",
       " {'lokacija_prodavca': 'Stari Banovci', 'cnt': 50},\n",
       " {'lokacija_prodavca': 'Lebane', 'cnt': 50},\n",
       " {'lokacija_prodavca': 'Vrnjačka Banja', 'cnt': 50},\n",
       " {'lokacija_prodavca': 'Lučani (Varošica)', 'cnt': 50},\n",
       " {'lokacija_prodavca': 'Bečej', 'cnt': 50},\n",
       " {'lokacija_prodavca': 'Apatin', 'cnt': 50},\n",
       " {'lokacija_prodavca': 'Kumodraž', 'cnt': 49},\n",
       " {'lokacija_prodavca': 'Blace', 'cnt': 49},\n",
       " {'lokacija_prodavca': 'Žabalj', 'cnt': 49},\n",
       " {'lokacija_prodavca': 'Kać', 'cnt': 49},\n",
       " {'lokacija_prodavca': 'Irig', 'cnt': 49},\n",
       " {'lokacija_prodavca': 'Petrovac Na Mlavi', 'cnt': 49},\n",
       " {'lokacija_prodavca': 'Vinča', 'cnt': 48},\n",
       " {'lokacija_prodavca': 'Osečina (Varošica)', 'cnt': 46},\n",
       " {'lokacija_prodavca': 'Aleksandrovac', 'cnt': 45},\n",
       " {'lokacija_prodavca': 'Srpska Crnja', 'cnt': 45},\n",
       " {'lokacija_prodavca': 'Boljevac', 'cnt': 44},\n",
       " {'lokacija_prodavca': 'Petrovaradin', 'cnt': 42},\n",
       " {'lokacija_prodavca': 'Jakovo', 'cnt': 41},\n",
       " {'lokacija_prodavca': 'Medveđa', 'cnt': 41},\n",
       " {'lokacija_prodavca': 'Nova Pazova', 'cnt': 41},\n",
       " {'lokacija_prodavca': 'Šid', 'cnt': 41},\n",
       " {'lokacija_prodavca': 'Kačarevo', 'cnt': 41},\n",
       " {'lokacija_prodavca': 'Preševo', 'cnt': 41},\n",
       " {'lokacija_prodavca': 'Bačka Topola', 'cnt': 37},\n",
       " {'lokacija_prodavca': 'Kostolac', 'cnt': 37},\n",
       " {'lokacija_prodavca': 'Sjenica', 'cnt': 36},\n",
       " {'lokacija_prodavca': 'Vračar', 'cnt': 35},\n",
       " {'lokacija_prodavca': 'Prokuplje', 'cnt': 33},\n",
       " {'lokacija_prodavca': 'Mramorak', 'cnt': 32},\n",
       " {'lokacija_prodavca': 'Pasi Poljana', 'cnt': 32},\n",
       " {'lokacija_prodavca': 'Veliko Gradište', 'cnt': 32},\n",
       " {'lokacija_prodavca': 'Žarkovac', 'cnt': 28},\n",
       " {'lokacija_prodavca': 'Krupanj', 'cnt': 28},\n",
       " {'lokacija_prodavca': 'Sokobanja', 'cnt': 27},\n",
       " {'lokacija_prodavca': 'Stari Grad', 'cnt': 27},\n",
       " {'lokacija_prodavca': 'Vidikovac', 'cnt': 25},\n",
       " {'lokacija_prodavca': 'Čenej', 'cnt': 25},\n",
       " {'lokacija_prodavca': 'Niška Banja', 'cnt': 25},\n",
       " {'lokacija_prodavca': 'Velika Moštanica', 'cnt': 25},\n",
       " {'lokacija_prodavca': 'Umka', 'cnt': 25},\n",
       " {'lokacija_prodavca': 'Jajinci', 'cnt': 25},\n",
       " {'lokacija_prodavca': 'Pukovac', 'cnt': 25},\n",
       " {'lokacija_prodavca': 'Kanjiža', 'cnt': 25},\n",
       " {'lokacija_prodavca': 'Zlatibor', 'cnt': 25},\n",
       " {'lokacija_prodavca': 'Despotovac', 'cnt': 25},\n",
       " {'lokacija_prodavca': 'Dorćol', 'cnt': 25},\n",
       " {'lokacija_prodavca': 'Voganj', 'cnt': 25},\n",
       " {'lokacija_prodavca': 'Ratkovo', 'cnt': 25},\n",
       " {'lokacija_prodavca': 'Ada', 'cnt': 25},\n",
       " {'lokacija_prodavca': 'Dimitrovgrad', 'cnt': 25},\n",
       " {'lokacija_prodavca': 'Bač', 'cnt': 25},\n",
       " {'lokacija_prodavca': 'Miljakovac', 'cnt': 25},\n",
       " {'lokacija_prodavca': 'Boleč', 'cnt': 25},\n",
       " {'lokacija_prodavca': 'Ripanj', 'cnt': 25},\n",
       " {'lokacija_prodavca': 'Platičevo', 'cnt': 25},\n",
       " {'lokacija_prodavca': 'Nozrina', 'cnt': 25},\n",
       " {'lokacija_prodavca': 'Opovo', 'cnt': 25},\n",
       " {'lokacija_prodavca': 'Jug Bogdanovac', 'cnt': 25},\n",
       " {'lokacija_prodavca': 'Ratina', 'cnt': 25},\n",
       " {'lokacija_prodavca': 'Vlasotince', 'cnt': 25},\n",
       " {'lokacija_prodavca': 'Dvorane', 'cnt': 25},\n",
       " {'lokacija_prodavca': 'Veliki Mokri Lug', 'cnt': 25},\n",
       " {'lokacija_prodavca': 'Kosovska Mitrovica', 'cnt': 25},\n",
       " {'lokacija_prodavca': 'Gaj', 'cnt': 25},\n",
       " {'lokacija_prodavca': 'Kisač', 'cnt': 25},\n",
       " {'lokacija_prodavca': 'Lovćenac', 'cnt': 25},\n",
       " {'lokacija_prodavca': 'Žabari', 'cnt': 25},\n",
       " {'lokacija_prodavca': 'Travnik', 'cnt': 25},\n",
       " {'lokacija_prodavca': 'Ljubovija', 'cnt': 25},\n",
       " {'lokacija_prodavca': 'Surdulica', 'cnt': 25},\n",
       " {'lokacija_prodavca': 'Sopot', 'cnt': 25},\n",
       " {'lokacija_prodavca': 'Petrovac', 'cnt': 25},\n",
       " {'lokacija_prodavca': 'Priboj', 'cnt': 25},\n",
       " {'lokacija_prodavca': 'Trlić', 'cnt': 25},\n",
       " {'lokacija_prodavca': 'Karaburma', 'cnt': 25},\n",
       " {'lokacija_prodavca': 'Donji Milanovac', 'cnt': 25},\n",
       " {'lokacija_prodavca': 'Padinska Skela', 'cnt': 25},\n",
       " {'lokacija_prodavca': 'Brgule', 'cnt': 25},\n",
       " {'lokacija_prodavca': 'Sakule', 'cnt': 25},\n",
       " {'lokacija_prodavca': 'Lazarevo', 'cnt': 25},\n",
       " {'lokacija_prodavca': 'Stanišić', 'cnt': 25},\n",
       " {'lokacija_prodavca': 'Novo Miloševo', 'cnt': 25},\n",
       " {'lokacija_prodavca': 'Arbanasce', 'cnt': 25},\n",
       " {'lokacija_prodavca': 'Vitanovac', 'cnt': 25},\n",
       " {'lokacija_prodavca': 'Bački Jarak', 'cnt': 25},\n",
       " {'lokacija_prodavca': 'Glogonj', 'cnt': 25},\n",
       " {'lokacija_prodavca': 'Cerak', 'cnt': 25},\n",
       " {'lokacija_prodavca': 'Mionica (Varošica)', 'cnt': 25},\n",
       " {'lokacija_prodavca': 'Varvarin', 'cnt': 25},\n",
       " {'lokacija_prodavca': 'Negotin', 'cnt': 25},\n",
       " {'lokacija_prodavca': 'Mala Ivanča', 'cnt': 25},\n",
       " {'lokacija_prodavca': 'Lučica', 'cnt': 25},\n",
       " {'lokacija_prodavca': 'Bajina Bašta', 'cnt': 25},\n",
       " {'lokacija_prodavca': 'Palilula', 'cnt': 24},\n",
       " {'lokacija_prodavca': 'Mataruška Banja', 'cnt': 24},\n",
       " {'lokacija_prodavca': 'Čajetina', 'cnt': 24},\n",
       " {'lokacija_prodavca': 'Bečmen', 'cnt': 24},\n",
       " {'lokacija_prodavca': 'Crvena Crkva', 'cnt': 24},\n",
       " {'lokacija_prodavca': 'Kucura', 'cnt': 24},\n",
       " {'lokacija_prodavca': 'Majdanpek', 'cnt': 24},\n",
       " {'lokacija_prodavca': 'Žitište', 'cnt': 24},\n",
       " {'lokacija_prodavca': 'Panonija', 'cnt': 24},\n",
       " {'lokacija_prodavca': 'Vladimirovac', 'cnt': 24},\n",
       " {'lokacija_prodavca': 'Eindhoven', 'cnt': 23},\n",
       " {'lokacija_prodavca': 'Rača', 'cnt': 23},\n",
       " {'lokacija_prodavca': 'Svilajnac', 'cnt': 19},\n",
       " {'lokacija_prodavca': 'Stepojevac', 'cnt': 17},\n",
       " {'lokacija_prodavca': 'Višnjička Banja', 'cnt': 17},\n",
       " {'lokacija_prodavca': 'Crvena Reka', 'cnt': 17},\n",
       " {'lokacija_prodavca': 'Vinarce', 'cnt': 17},\n",
       " {'lokacija_prodavca': 'Brzan', 'cnt': 17},\n",
       " {'lokacija_prodavca': 'Jermenovci', 'cnt': 16},\n",
       " {'lokacija_prodavca': 'Vladimirci', 'cnt': 16},\n",
       " {'lokacija_prodavca': 'Bogosavac', 'cnt': 16},\n",
       " {'lokacija_prodavca': 'Golubinci', 'cnt': 16},\n",
       " {'lokacija_prodavca': 'Pećinci', 'cnt': 16},\n",
       " {'lokacija_prodavca': 'Belegiš', 'cnt': 16},\n",
       " {'lokacija_prodavca': 'Kosjerić', 'cnt': 16},\n",
       " {'lokacija_prodavca': 'Pojate', 'cnt': 16},\n",
       " {'lokacija_prodavca': 'Jazovnik', 'cnt': 16},\n",
       " {'lokacija_prodavca': 'Pudarci', 'cnt': 16},\n",
       " {'lokacija_prodavca': 'Šimanovci', 'cnt': 16},\n",
       " {'lokacija_prodavca': 'Čurug', 'cnt': 16},\n",
       " {'lokacija_prodavca': 'Vranjska Banja', 'cnt': 16},\n",
       " {'lokacija_prodavca': 'Pločnik', 'cnt': 16},\n",
       " {'lokacija_prodavca': 'Žarkovo', 'cnt': 16},\n",
       " {'lokacija_prodavca': 'Brzeće', 'cnt': 16},\n",
       " {'lokacija_prodavca': 'Veliki Popovac', 'cnt': 16},\n",
       " {'lokacija_prodavca': 'Majur', 'cnt': 16},\n",
       " {'lokacija_prodavca': 'Sirogojno', 'cnt': 16},\n",
       " {'lokacija_prodavca': 'Svetozar Miletić', 'cnt': 16},\n",
       " {'lokacija_prodavca': 'Ostružnica', 'cnt': 15},\n",
       " {'lokacija_prodavca': 'Salaš Crnobarski', 'cnt': 15},\n",
       " {'lokacija_prodavca': 'Sremski Karlovci', 'cnt': 15},\n",
       " {'lokacija_prodavca': 'Stalać', 'cnt': 15},\n",
       " {'lokacija_prodavca': 'Kovačica', 'cnt': 15},\n",
       " {'lokacija_prodavca': 'Leštane', 'cnt': 15},\n",
       " {'lokacija_prodavca': 'Markovac', 'cnt': 15},\n",
       " {'lokacija_prodavca': 'Guča', 'cnt': 14},\n",
       " {'lokacija_prodavca': 'Bačka Palanka', 'cnt': 13},\n",
       " {'lokacija_prodavca': 'Gložan', 'cnt': 13},\n",
       " {'lokacija_prodavca': 'Srpski Itebej', 'cnt': 13},\n",
       " {'lokacija_prodavca': 'Kuzmin', 'cnt': 13},\n",
       " {'lokacija_prodavca': 'Voluja', 'cnt': 12},\n",
       " {'lokacija_prodavca': 'Raška', 'cnt': 12},\n",
       " {'lokacija_prodavca': 'Jabuka', 'cnt': 12},\n",
       " {'lokacija_prodavca': 'Bačko Novo Selo', 'cnt': 12},\n",
       " {'lokacija_prodavca': 'Stragari', 'cnt': 12},\n",
       " {'lokacija_prodavca': 'Zvečan', 'cnt': 11},\n",
       " {'lokacija_prodavca': 'Stajićevo', 'cnt': 10},\n",
       " {'lokacija_prodavca': 'Aradac', 'cnt': 10},\n",
       " {'lokacija_prodavca': 'Tešica', 'cnt': 6},\n",
       " {'lokacija_prodavca': 'Rumenka', 'cnt': 5},\n",
       " {'lokacija_prodavca': 'Banatsko Aranđelovo', 'cnt': 3}]"
      ]
     },
     "execution_count": 3,
     "metadata": {},
     "output_type": "execute_result"
    }
   ],
   "source": [
    "gradovi_count = db.lokacija_count()\n",
    "gradovi_count"
   ]
  },
  {
   "cell_type": "markdown",
   "metadata": {},
   "source": [
    "## c) izlistati po bojama (karoserije) koliko je kojih automobila"
   ]
  },
  {
   "cell_type": "code",
   "execution_count": 4,
   "metadata": {},
   "outputs": [
    {
     "data": {
      "text/plain": [
       "[{'boja': 'Siva', 'cnt': 10584},\n",
       " {'boja': 'Crna', 'cnt': 7944},\n",
       " {'boja': 'Bela', 'cnt': 3825},\n",
       " {'boja': 'Plava', 'cnt': 3233},\n",
       " {'boja': 'Crvena', 'cnt': 1516},\n",
       " {'boja': 'Srebrna', 'cnt': 912},\n",
       " {'boja': 'Teget', 'cnt': 795},\n",
       " {'boja': 'Zelena', 'cnt': 664},\n",
       " {'boja': 'Braon', 'cnt': 464},\n",
       " {'boja': 'Bordo', 'cnt': 369},\n",
       " {'boja': 'Zlatna', 'cnt': 356},\n",
       " {'boja': 'Žuta', 'cnt': 200},\n",
       " {'boja': 'Kameleon', 'cnt': 177},\n",
       " {'boja': 'Bež', 'cnt': 163},\n",
       " {'boja': 'Narandžasta', 'cnt': 130},\n",
       " {'boja': 'Smeđa', 'cnt': 108},\n",
       " {'boja': 'Ljubičasta', 'cnt': 99},\n",
       " {'boja': 'Tirkiz', 'cnt': 76},\n",
       " {'boja': 'Krem', 'cnt': 41}]"
      ]
     },
     "execution_count": 4,
     "metadata": {},
     "output_type": "execute_result"
    }
   ],
   "source": [
    "boja_count = db.boja_count()\n",
    "boja_count"
   ]
  },
  {
   "cell_type": "markdown",
   "metadata": {},
   "source": [
    "## d) prikazati rang listu prvih 30 najskupljih automobila koji se prodaju, i 30 najskupljih iz potkategorije džipovi/SUV (ako ovog podatka nema u oglasu, labelirati one modele automobila koji pripadaju ovoj kategoriji)"
   ]
  },
  {
   "cell_type": "code",
   "execution_count": 5,
   "metadata": {},
   "outputs": [
    {
     "name": "stdout",
     "output_type": "stream",
     "text": [
      "id: 22178 | url: https://www.polovniautomobili.com/auto-oglasi/19473093/bentley-continental-gt-mulliner?attp=p0_pv0_pc0_pl1_plv0 | naslov: Bentley Continental GT MULLINER | cena: 289900 | stanje: Polovno vozilo | marka: Bentley | model: Continental | godiste: 2021 | kilometraza: 10000 | karoserija: Kupe | gorivo: Benzin | kubikaza: 3996 | snaga: 404/549 (kW/KS) | menjac: Automatski / poluautomatski | vrata: 2/3 vrata | boja: Crna | lokacija_prodavca: Kraljevo\n",
      "id: 30722 | url: https://www.polovniautomobili.com/auto-oglasi/18808403/mercedes-benz-gls-600-maybach?attp=p0_pv0_pc0_pl1_plv0 | naslov: Mercedes Benz GLS 600 MAYBACH | cena: 275900 | stanje: Polovno vozilo | marka: Mercedes Benz | model: GLS 600 | godiste: 2021 | kilometraza: 3000 | karoserija: Džip/SUV | gorivo: Benzin | kubikaza: 3982 | snaga: 410/557 (kW/KS) | menjac: Automatski / poluautomatski | vrata: 4/5 vrata | boja: Crna | lokacija_prodavca: Stara Pazova\n",
      "id: 24474 | url: https://www.polovniautomobili.com/auto-oglasi/19699287/lamborghini-urus-bang-olufsen23?attp=p0_pv0_pc0_pl1_plv0 | naslov: Lamborghini Urus Bang Olufsen/23 | cena: 275000 | stanje: Polovno vozilo | marka: Lamborghini | model: Urus | godiste: 2018 | kilometraza: 46000 | karoserija: Džip/SUV | gorivo: Benzin | kubikaza: 3998 | snaga: 478/650 (kW/KS) | menjac: Automatski / poluautomatski | vrata: 4/5 vrata | boja: Plava | lokacija_prodavca: Mladenovac\n",
      "id: 22903 | url: https://www.polovniautomobili.com/auto-oglasi/19931204/mercedes-benz-g-63-amg?attp=p0_pv0_pc0_pl1_plv0 | naslov: Mercedes Benz G 63 AMG | cena: 249900 | stanje: Polovno vozilo | marka: Mercedes Benz | model: G 63 AMG | godiste: 2021 | kilometraza: 19000 | karoserija: Džip/SUV | gorivo: Benzin | kubikaza: 3982 | snaga: 430/585 (kW/KS) | menjac: Automatski / poluautomatski | vrata: 4/5 vrata | boja: Crna | lokacija_prodavca: Novi Pazar\n",
      "id: 23180 | url: https://www.polovniautomobili.com/auto-oglasi/20003262/ferrari-458-italia-ch-carbon?attp=p0_pv0_pc0_pl1_plv0 | naslov: Ferrari 458 Italia CH Carbon | cena: 220000 | stanje: Polovno vozilo | marka: Ferrari | model: 458 Italia | godiste: 2014 | kilometraza: 18500 | karoserija: Hečbek | gorivo: Benzin | kubikaza: 4500 | snaga: 416/566 (kW/KS) | menjac: Automatski / poluautomatski | vrata: 2/3 vrata | boja: Crvena | lokacija_prodavca: Niš\n",
      "id: 12600 | url: https://www.polovniautomobili.com/auto-oglasi/19473394/mercedes-benz-gls-63-amg?attp=p0_pv0_pc0_pl1_plv0 | naslov: Mercedes Benz GLS 63 AMG | cena: 209900 | stanje: Polovno vozilo | marka: Mercedes Benz | model: GLS 63 AMG | godiste: 2021 | kilometraza: 12000 | karoserija: Džip/SUV | gorivo: Benzin | kubikaza: 3982 | snaga: 450/612 (kW/KS) | menjac: Automatski / poluautomatski | vrata: 4/5 vrata | boja: Crna | lokacija_prodavca: Beograd\n",
      "id: 16587 | url: https://www.polovniautomobili.com/auto-oglasi/19864851/mercedes-benz-g-400-cdi-amg-strong?attp=p0_pv0_pc0_pl1_plv0 | naslov: Mercedes Benz G 400 CDI AMG STRONG | cena: 183369 | stanje: Polovno vozilo | marka: Mercedes Benz | model: G 400 | godiste: 2021 | kilometraza: 2369 | karoserija: Džip/SUV | gorivo: Dizel | kubikaza: 2925 | snaga: 243/330 (kW/KS) | menjac: Automatski / poluautomatski | vrata: 4/5 vrata | boja: Crna | lokacija_prodavca: Beograd\n",
      "id: 12092 | url: https://www.polovniautomobili.com/auto-oglasi/19963538/mercedes-benz-gle-63-amg-s?attp=p3_pv0_pc1_pl1_plv0 | naslov: Mercedes Benz GLE 63 AMG S | cena: 179900 | stanje: Polovno vozilo | marka: Mercedes Benz | model: GLE 63 AMG | godiste: 2021 | kilometraza: 15000 | karoserija: Džip/SUV | gorivo: Benzin | kubikaza: 3982 | snaga: 450/612 (kW/KS) | menjac: Automatski / poluautomatski | vrata: 4/5 vrata | boja: Crna | lokacija_prodavca: Lajkovac (Varoš)\n",
      "id: 12597 | url: https://www.polovniautomobili.com/auto-oglasi/19473057/mercedes-benz-gle-63-amg-s?attp=p0_pv0_pc0_pl1_plv0 | naslov: Mercedes Benz GLE 63 AMG S | cena: 177900 | stanje: Polovno vozilo | marka: Mercedes Benz | model: GLE 63 AMG | godiste: 2022 | kilometraza: 8000 | karoserija: Džip/SUV | gorivo: Benzin | kubikaza: 3982 | snaga: 450/612 (kW/KS) | menjac: Automatski / poluautomatski | vrata: 4/5 vrata | boja: Crna | lokacija_prodavca: Beograd\n",
      "id: 6709 | url: https://www.polovniautomobili.com/auto-oglasi/19941276/mercedes-benz-g-400-d-amg?attp=p1_pv0_pc1_pl1_plv0 | naslov: Mercedes Benz G 400 d AMG | cena: 174900 | stanje: Polovno vozilo | marka: Mercedes Benz | model: G 400 | godiste: 2021 | kilometraza: 25000 | karoserija: Džip/SUV | gorivo: Dizel | kubikaza: 3000 | snaga: 243/330 (kW/KS) | menjac: Automatski / poluautomatski | vrata: 4/5 vrata | boja: Crna | lokacija_prodavca: Prigrevica\n",
      "id: 26096 | url: https://www.polovniautomobili.com/auto-oglasi/19067328/mercedes-benz-g-400-designo?attp=p0_pv0_pc0_pl1_plv0 | naslov: Mercedes Benz G 400 DESIGNO | cena: 169000 | stanje: Polovno vozilo | marka: Mercedes Benz | model: G 400 | godiste: 2021 | kilometraza: 16900 | karoserija: Džip/SUV | gorivo: Dizel | kubikaza: 2925 | snaga: 243/330 (kW/KS) | menjac: Automatski / poluautomatski | vrata: 4/5 vrata | boja: Siva | lokacija_prodavca: Kragujevac\n",
      "id: 25674 | url: https://www.polovniautomobili.com/auto-oglasi/19922785/mercedes-benz-s-400-d-4m-l-amg?attp=p0_pv0_pc0_pl1_plv0 | naslov: Mercedes Benz S 400 d 4M L AMG | cena: 169000 | stanje: Polovno vozilo | marka: Mercedes Benz | model: S 400 | godiste: 2022 | kilometraza: 5500 | karoserija: Limuzina | gorivo: Dizel | kubikaza: 2925 | snaga: 243/330 (kW/KS) | menjac: Automatski / poluautomatski | vrata: 4/5 vrata | boja: Zlatna | lokacija_prodavca: Smederevo\n",
      "id: 17911 | url: https://www.polovniautomobili.com/auto-oglasi/20005121/mercedes-benz-s-500-4m-amg?attp=p0_pv0_pc0_pl1_plv0 | naslov: Mercedes Benz S 500 4M  AMG | cena: 169000 | stanje: Polovno vozilo | marka: Mercedes Benz | model: S 500 | godiste: 2021 | kilometraza: 22000 | karoserija: Limuzina | gorivo: Benzin | kubikaza: 2999 | snaga: 319/434 (kW/KS) | menjac: Automatski / poluautomatski | vrata: 4/5 vrata | boja: Bela | lokacija_prodavca: Sombor\n",
      "id: 14362 | url: https://www.polovniautomobili.com/auto-oglasi/19374584/mercedes-benz-g-400-stronger-than-time?attp=p0_pv0_pc0_pl1_plv0 | naslov: Mercedes Benz G 400 STRONGER THAN TIME | cena: 164999 | stanje: Polovno vozilo | marka: Mercedes Benz | model: G 400 | godiste: 2019 | kilometraza: 29000 | karoserija: Džip/SUV | gorivo: Dizel | kubikaza: 2998 | snaga: 242/329 (kW/KS) | menjac: Automatski / poluautomatski | vrata: 4/5 vrata | boja: Braon | lokacija_prodavca: Beograd\n",
      "id: 6733 | url: https://www.polovniautomobili.com/auto-oglasi/16450124/audi-rs-q8-carbonkeramika?attp=p3_pv0_pc1_pl1_plv0 | naslov: Audi RS Q8 CarbonKeramika | cena: 164000 | stanje: Polovno vozilo | marka: Audi | model: RS Q8 | godiste: 2020 | kilometraza: 29000 | karoserija: Džip/SUV | gorivo: Benzin | kubikaza: 4000 | snaga: 441/600 (kW/KS) | menjac: Automatski / poluautomatski | vrata: 4/5 vrata | boja: Crvena | lokacija_prodavca: Prigrevica\n",
      "id: 3896 | url: https://www.polovniautomobili.com/auto-oglasi/19922158/mercedes-benz-g-400-stronger-than-time?attp=p1_pv0_pc1_pl1_plv0 | naslov: Mercedes Benz G 400 Stronger than time | cena: 162000 | stanje: Polovno vozilo | marka: Mercedes Benz | model: G 400 | godiste: 2020 | kilometraza: 25000 | karoserija: Džip/SUV | gorivo: Dizel | kubikaza: 2925 | snaga: 243/330 (kW/KS) | menjac: Automatski / poluautomatski | vrata: 4/5 vrata | boja: Crna | lokacija_prodavca: Novi Sad\n",
      "id: 24440 | url: https://www.polovniautomobili.com/auto-oglasi/18996322/mercedes-benz-g-400-cdi-stronger-time?attp=p0_pv0_pc0_pl1_plv0 | naslov: Mercedes Benz G 400 CDI STRONGER TIME | cena: 159900 | stanje: Polovno vozilo | marka: Mercedes Benz | model: G 400 | godiste: 2019 | kilometraza: 33764 | karoserija: Džip/SUV | gorivo: Dizel | kubikaza: 2925 | snaga: 243/330 (kW/KS) | menjac: Automatski / poluautomatski | vrata: 4/5 vrata | boja: Crna | lokacija_prodavca: Leskovac\n",
      "id: 4346 | url: https://www.polovniautomobili.com/auto-oglasi/19636534/mercedes-benz-s-500-l-hybrid-2xamg-3xtv?attp=p1_pv0_pc1_pl1_plv0 | naslov: Mercedes Benz S 500 L Hybrid 2xAMG 3xTV | cena: 159000 | stanje: Polovno vozilo | marka: Mercedes Benz | model: S 500 | godiste: 2021 | kilometraza: 13000 | karoserija: Limuzina | gorivo: Benzin | kubikaza: 2999 | snaga: 320/435 (kW/KS) | menjac: Automatski / poluautomatski | vrata: 4/5 vrata | boja: Crna | lokacija_prodavca: Despotovac\n",
      "id: 6718 | url: https://www.polovniautomobili.com/auto-oglasi/19392015/mercedes-benz-s-500-2xamg-4m-long?attp=p1_pv0_pc1_pl1_plv0 | naslov: Mercedes Benz S 500 2xAMG 4M Long | cena: 157000 | stanje: Polovno vozilo | marka: Mercedes Benz | model: S 500 | godiste: 2020 | kilometraza: 17000 | karoserija: Limuzina | gorivo: Benzin | kubikaza: 2999 | snaga: 320/435 (kW/KS) | menjac: Automatski / poluautomatski | vrata: 4/5 vrata | boja: Crna | lokacija_prodavca: Prigrevica\n",
      "id: 12599 | url: https://www.polovniautomobili.com/auto-oglasi/19473289/mercedes-benz-gls-580-4m-amg?attp=p0_pv0_pc0_pl1_plv0 | naslov: Mercedes Benz GLS 580 4M AMG | cena: 153900 | stanje: Polovno vozilo | marka: Mercedes Benz | model: GLS 580 | godiste: 2022 | kilometraza: 8000 | karoserija: Džip/SUV | gorivo: Benzin | kubikaza: 3982 | snaga: 360/489 (kW/KS) | menjac: Automatski / poluautomatski | vrata: 4/5 vrata | boja: Bela | lokacija_prodavca: Beograd\n",
      "id: 30072 | url: https://www.polovniautomobili.com/auto-oglasi/19171705/mercedes-benz-mercedes-s170-cabrio?attp=p0_pv0_pc0_pl1_plv0 | naslov: Mercedes Benz Mercedes S170 cabrio | cena: 150000 | stanje: Polovno vozilo | marka: Mercedes Benz | model: Ostalo | godiste: 1949 | kilometraza: 45000 | karoserija: Kabriolet/Roadster | gorivo: Benzin | kubikaza: 1767 | snaga: 38/52 (kW/KS) | menjac: Manuelni 5 brzina | vrata: 2/3 vrata | boja: Crvena | lokacija_prodavca: Cuprija\n",
      "id: 7411 | url: https://www.polovniautomobili.com/auto-oglasi/19554914/mercedes-benz-s-63-amg-v8-biturbo-4matic?attp=p1_pv0_pc1_pl1_plv0 | naslov: Mercedes Benz S 63 AMG V8 BITURBO 4MATIC | cena: 149990 | stanje: Polovno vozilo | marka: Mercedes Benz | model: S 63 AMG | godiste: 2020 | kilometraza: 50845 | karoserija: Limuzina | gorivo: Benzin | kubikaza: 3982 | snaga: 450/612 (kW/KS) | menjac: Automatski / poluautomatski | vrata: 4/5 vrata | boja: Crna | lokacija_prodavca: Niš\n",
      "id: 27719 | url: https://www.polovniautomobili.com/auto-oglasi/19429661/mercedes-benz-s-400-cdi-4m-long?attp=p0_pv0_pc0_pl1_plv0 | naslov: Mercedes Benz S 400 CDI 4M LONG | cena: 148900 | stanje: Polovno vozilo | marka: Mercedes Benz | model: S 400 | godiste: 2020 | kilometraza: 20000 | karoserija: Limuzina | gorivo: Dizel | kubikaza: 2925 | snaga: 243/330 (kW/KS) | menjac: Automatski / poluautomatski | vrata: 4/5 vrata | boja: Crna | lokacija_prodavca: Kraljevo\n",
      "id: 4001 | url: https://www.polovniautomobili.com/auto-oglasi/19996496/porsche-911-carrera-cabriolet?attp=p1_pv0_pc1_pl1_plv0 | naslov: Porsche 911 Carrera Cabriolet | cena: 146900 | stanje: Polovno vozilo | marka: Porsche | model: 911 | godiste: 2020 | kilometraza: 23000 | karoserija: Kabriolet/Roadster | gorivo: Benzin | kubikaza: 2981 | snaga: 283/385 (kW/KS) | menjac: Automatski / poluautomatski | vrata: 2/3 vrata | boja: Crna | lokacija_prodavca: Beograd\n",
      "id: 15316 | url: https://www.polovniautomobili.com/auto-oglasi/19211631/mercedes-benz-g-350-amg?attp=p0_pv0_pc0_pl1_plv0 | naslov: Mercedes Benz G 350 AMG | cena: 145000 | stanje: Polovno vozilo | marka: Mercedes Benz | model: G 350 | godiste: 2019 | kilometraza: 26500 | karoserija: Džip/SUV | gorivo: Dizel | kubikaza: 2925 | snaga: 210/286 (kW/KS) | menjac: Automatski / poluautomatski | vrata: 4/5 vrata | boja: Siva | lokacija_prodavca: Valjevo\n",
      "id: 26982 | url: https://www.polovniautomobili.com/auto-oglasi/19898346/bentley-bentayga?attp=p0_pv0_pc0_pl1_plv0 | naslov: Bentley Bentayga | cena: 144900 | stanje: Polovno vozilo | marka: Bentley | model: Bentayga | godiste: 2017 | kilometraza: 139100 | karoserija: Džip/SUV | gorivo: Dizel | kubikaza: 3956 | snaga: 320/435 (kW/KS) | menjac: Automatski / poluautomatski | vrata: 4/5 vrata | boja: Plava | lokacija_prodavca: Veliko Gradište\n",
      "id: 12609 | url: https://www.polovniautomobili.com/auto-oglasi/19465199/mercedes-benz-g-350-amg?attp=p0_pv0_pc0_pl1_plv0 | naslov: Mercedes Benz G 350 AMG | cena: 144900 | stanje: Polovno vozilo | marka: Mercedes Benz | model: G 350 | godiste: 2019 | kilometraza: 68000 | karoserija: Džip/SUV | gorivo: Dizel | kubikaza: 2993 | snaga: 210/286 (kW/KS) | menjac: Automatski / poluautomatski | vrata: 4/5 vrata | boja: Crna | lokacija_prodavca: Kraljevo\n",
      "id: 8926 | url: https://www.polovniautomobili.com/auto-oglasi/19963470/mercedes-benz-g-350-d-amg?attp=p3_pv0_pc1_pl1_plv0 | naslov: Mercedes Benz G 350 d AMG | cena: 144900 | stanje: Polovno vozilo | marka: Mercedes Benz | model: G 350 | godiste: 2019 | kilometraza: 44000 | karoserija: Džip/SUV | gorivo: Dizel | kubikaza: 2925 | snaga: 210/286 (kW/KS) | menjac: Automatski / poluautomatski | vrata: 4/5 vrata | boja: Crna | lokacija_prodavca: Lajkovac (Varoš)\n",
      "id: 4149 | url: https://www.polovniautomobili.com/auto-oglasi/19009781/mercedes-benz-s-400-d-long-amg-4matic?attp=p3_pv0_pc1_pl1_plv0 | naslov: Mercedes Benz S 400 D Long AMG 4Matic | cena: 139990 | stanje: Polovno vozilo | marka: Mercedes Benz | model: S 400 | godiste: 2021 | kilometraza: 27157 | karoserija: Limuzina | gorivo: Dizel | kubikaza: 2925 | snaga: 243/330 (kW/KS) | menjac: Automatski / poluautomatski | vrata: 4/5 vrata | boja: Crna | lokacija_prodavca: Veternik\n",
      "id: 758 | url: https://www.polovniautomobili.com/auto-oglasi/19563736/audi-a8?attp=p1_pv0_pc1_pl1_plv0 | naslov: Audi A8 | cena: 137356 | stanje: Novo vozilo | marka: Audi | model: A8 | godiste: 2022 | kilometraza: 0 | karoserija: Limuzina | gorivo: Dizel | kubikaza: 2967 | snaga: 210/286 (kW/KS) | menjac: Automatski / poluautomatski | vrata: 4/5 vrata | boja: Crna | lokacija_prodavca: Beograd\n"
     ]
    }
   ],
   "source": [
    "najskuplje = db.najskuplje()\n",
    "for n in najskuplje['najskuplja_vozila']:\n",
    "    print(\" | \".join([\"{0}: {1}\".format(k, v) for k, v in n.items()]))"
   ]
  },
  {
   "cell_type": "code",
   "execution_count": 6,
   "metadata": {},
   "outputs": [
    {
     "name": "stdout",
     "output_type": "stream",
     "text": [
      "id: 30722 | url: https://www.polovniautomobili.com/auto-oglasi/18808403/mercedes-benz-gls-600-maybach?attp=p0_pv0_pc0_pl1_plv0 | naslov: Mercedes Benz GLS 600 MAYBACH | cena: 275900 | stanje: Polovno vozilo | marka: Mercedes Benz | model: GLS 600 | godiste: 2021 | kilometraza: 3000 | karoserija: Džip/SUV | gorivo: Benzin | kubikaza: 3982 | snaga: 410/557 (kW/KS) | menjac: Automatski / poluautomatski | vrata: 4/5 vrata | boja: Crna | lokacija_prodavca: Stara Pazova\n",
      "id: 24474 | url: https://www.polovniautomobili.com/auto-oglasi/19699287/lamborghini-urus-bang-olufsen23?attp=p0_pv0_pc0_pl1_plv0 | naslov: Lamborghini Urus Bang Olufsen/23 | cena: 275000 | stanje: Polovno vozilo | marka: Lamborghini | model: Urus | godiste: 2018 | kilometraza: 46000 | karoserija: Džip/SUV | gorivo: Benzin | kubikaza: 3998 | snaga: 478/650 (kW/KS) | menjac: Automatski / poluautomatski | vrata: 4/5 vrata | boja: Plava | lokacija_prodavca: Mladenovac\n",
      "id: 22903 | url: https://www.polovniautomobili.com/auto-oglasi/19931204/mercedes-benz-g-63-amg?attp=p0_pv0_pc0_pl1_plv0 | naslov: Mercedes Benz G 63 AMG | cena: 249900 | stanje: Polovno vozilo | marka: Mercedes Benz | model: G 63 AMG | godiste: 2021 | kilometraza: 19000 | karoserija: Džip/SUV | gorivo: Benzin | kubikaza: 3982 | snaga: 430/585 (kW/KS) | menjac: Automatski / poluautomatski | vrata: 4/5 vrata | boja: Crna | lokacija_prodavca: Novi Pazar\n",
      "id: 12600 | url: https://www.polovniautomobili.com/auto-oglasi/19473394/mercedes-benz-gls-63-amg?attp=p0_pv0_pc0_pl1_plv0 | naslov: Mercedes Benz GLS 63 AMG | cena: 209900 | stanje: Polovno vozilo | marka: Mercedes Benz | model: GLS 63 AMG | godiste: 2021 | kilometraza: 12000 | karoserija: Džip/SUV | gorivo: Benzin | kubikaza: 3982 | snaga: 450/612 (kW/KS) | menjac: Automatski / poluautomatski | vrata: 4/5 vrata | boja: Crna | lokacija_prodavca: Beograd\n",
      "id: 16587 | url: https://www.polovniautomobili.com/auto-oglasi/19864851/mercedes-benz-g-400-cdi-amg-strong?attp=p0_pv0_pc0_pl1_plv0 | naslov: Mercedes Benz G 400 CDI AMG STRONG | cena: 183369 | stanje: Polovno vozilo | marka: Mercedes Benz | model: G 400 | godiste: 2021 | kilometraza: 2369 | karoserija: Džip/SUV | gorivo: Dizel | kubikaza: 2925 | snaga: 243/330 (kW/KS) | menjac: Automatski / poluautomatski | vrata: 4/5 vrata | boja: Crna | lokacija_prodavca: Beograd\n",
      "id: 12092 | url: https://www.polovniautomobili.com/auto-oglasi/19963538/mercedes-benz-gle-63-amg-s?attp=p3_pv0_pc1_pl1_plv0 | naslov: Mercedes Benz GLE 63 AMG S | cena: 179900 | stanje: Polovno vozilo | marka: Mercedes Benz | model: GLE 63 AMG | godiste: 2021 | kilometraza: 15000 | karoserija: Džip/SUV | gorivo: Benzin | kubikaza: 3982 | snaga: 450/612 (kW/KS) | menjac: Automatski / poluautomatski | vrata: 4/5 vrata | boja: Crna | lokacija_prodavca: Lajkovac (Varoš)\n",
      "id: 12597 | url: https://www.polovniautomobili.com/auto-oglasi/19473057/mercedes-benz-gle-63-amg-s?attp=p0_pv0_pc0_pl1_plv0 | naslov: Mercedes Benz GLE 63 AMG S | cena: 177900 | stanje: Polovno vozilo | marka: Mercedes Benz | model: GLE 63 AMG | godiste: 2022 | kilometraza: 8000 | karoserija: Džip/SUV | gorivo: Benzin | kubikaza: 3982 | snaga: 450/612 (kW/KS) | menjac: Automatski / poluautomatski | vrata: 4/5 vrata | boja: Crna | lokacija_prodavca: Beograd\n",
      "id: 6709 | url: https://www.polovniautomobili.com/auto-oglasi/19941276/mercedes-benz-g-400-d-amg?attp=p1_pv0_pc1_pl1_plv0 | naslov: Mercedes Benz G 400 d AMG | cena: 174900 | stanje: Polovno vozilo | marka: Mercedes Benz | model: G 400 | godiste: 2021 | kilometraza: 25000 | karoserija: Džip/SUV | gorivo: Dizel | kubikaza: 3000 | snaga: 243/330 (kW/KS) | menjac: Automatski / poluautomatski | vrata: 4/5 vrata | boja: Crna | lokacija_prodavca: Prigrevica\n",
      "id: 26096 | url: https://www.polovniautomobili.com/auto-oglasi/19067328/mercedes-benz-g-400-designo?attp=p0_pv0_pc0_pl1_plv0 | naslov: Mercedes Benz G 400 DESIGNO | cena: 169000 | stanje: Polovno vozilo | marka: Mercedes Benz | model: G 400 | godiste: 2021 | kilometraza: 16900 | karoserija: Džip/SUV | gorivo: Dizel | kubikaza: 2925 | snaga: 243/330 (kW/KS) | menjac: Automatski / poluautomatski | vrata: 4/5 vrata | boja: Siva | lokacija_prodavca: Kragujevac\n",
      "id: 14362 | url: https://www.polovniautomobili.com/auto-oglasi/19374584/mercedes-benz-g-400-stronger-than-time?attp=p0_pv0_pc0_pl1_plv0 | naslov: Mercedes Benz G 400 STRONGER THAN TIME | cena: 164999 | stanje: Polovno vozilo | marka: Mercedes Benz | model: G 400 | godiste: 2019 | kilometraza: 29000 | karoserija: Džip/SUV | gorivo: Dizel | kubikaza: 2998 | snaga: 242/329 (kW/KS) | menjac: Automatski / poluautomatski | vrata: 4/5 vrata | boja: Braon | lokacija_prodavca: Beograd\n",
      "id: 6733 | url: https://www.polovniautomobili.com/auto-oglasi/16450124/audi-rs-q8-carbonkeramika?attp=p3_pv0_pc1_pl1_plv0 | naslov: Audi RS Q8 CarbonKeramika | cena: 164000 | stanje: Polovno vozilo | marka: Audi | model: RS Q8 | godiste: 2020 | kilometraza: 29000 | karoserija: Džip/SUV | gorivo: Benzin | kubikaza: 4000 | snaga: 441/600 (kW/KS) | menjac: Automatski / poluautomatski | vrata: 4/5 vrata | boja: Crvena | lokacija_prodavca: Prigrevica\n",
      "id: 3896 | url: https://www.polovniautomobili.com/auto-oglasi/19922158/mercedes-benz-g-400-stronger-than-time?attp=p1_pv0_pc1_pl1_plv0 | naslov: Mercedes Benz G 400 Stronger than time | cena: 162000 | stanje: Polovno vozilo | marka: Mercedes Benz | model: G 400 | godiste: 2020 | kilometraza: 25000 | karoserija: Džip/SUV | gorivo: Dizel | kubikaza: 2925 | snaga: 243/330 (kW/KS) | menjac: Automatski / poluautomatski | vrata: 4/5 vrata | boja: Crna | lokacija_prodavca: Novi Sad\n",
      "id: 24440 | url: https://www.polovniautomobili.com/auto-oglasi/18996322/mercedes-benz-g-400-cdi-stronger-time?attp=p0_pv0_pc0_pl1_plv0 | naslov: Mercedes Benz G 400 CDI STRONGER TIME | cena: 159900 | stanje: Polovno vozilo | marka: Mercedes Benz | model: G 400 | godiste: 2019 | kilometraza: 33764 | karoserija: Džip/SUV | gorivo: Dizel | kubikaza: 2925 | snaga: 243/330 (kW/KS) | menjac: Automatski / poluautomatski | vrata: 4/5 vrata | boja: Crna | lokacija_prodavca: Leskovac\n",
      "id: 12599 | url: https://www.polovniautomobili.com/auto-oglasi/19473289/mercedes-benz-gls-580-4m-amg?attp=p0_pv0_pc0_pl1_plv0 | naslov: Mercedes Benz GLS 580 4M AMG | cena: 153900 | stanje: Polovno vozilo | marka: Mercedes Benz | model: GLS 580 | godiste: 2022 | kilometraza: 8000 | karoserija: Džip/SUV | gorivo: Benzin | kubikaza: 3982 | snaga: 360/489 (kW/KS) | menjac: Automatski / poluautomatski | vrata: 4/5 vrata | boja: Bela | lokacija_prodavca: Beograd\n",
      "id: 15316 | url: https://www.polovniautomobili.com/auto-oglasi/19211631/mercedes-benz-g-350-amg?attp=p0_pv0_pc0_pl1_plv0 | naslov: Mercedes Benz G 350 AMG | cena: 145000 | stanje: Polovno vozilo | marka: Mercedes Benz | model: G 350 | godiste: 2019 | kilometraza: 26500 | karoserija: Džip/SUV | gorivo: Dizel | kubikaza: 2925 | snaga: 210/286 (kW/KS) | menjac: Automatski / poluautomatski | vrata: 4/5 vrata | boja: Siva | lokacija_prodavca: Valjevo\n",
      "id: 12609 | url: https://www.polovniautomobili.com/auto-oglasi/19465199/mercedes-benz-g-350-amg?attp=p0_pv0_pc0_pl1_plv0 | naslov: Mercedes Benz G 350 AMG | cena: 144900 | stanje: Polovno vozilo | marka: Mercedes Benz | model: G 350 | godiste: 2019 | kilometraza: 68000 | karoserija: Džip/SUV | gorivo: Dizel | kubikaza: 2993 | snaga: 210/286 (kW/KS) | menjac: Automatski / poluautomatski | vrata: 4/5 vrata | boja: Crna | lokacija_prodavca: Kraljevo\n",
      "id: 8926 | url: https://www.polovniautomobili.com/auto-oglasi/19963470/mercedes-benz-g-350-d-amg?attp=p3_pv0_pc1_pl1_plv0 | naslov: Mercedes Benz G 350 d AMG | cena: 144900 | stanje: Polovno vozilo | marka: Mercedes Benz | model: G 350 | godiste: 2019 | kilometraza: 44000 | karoserija: Džip/SUV | gorivo: Dizel | kubikaza: 2925 | snaga: 210/286 (kW/KS) | menjac: Automatski / poluautomatski | vrata: 4/5 vrata | boja: Crna | lokacija_prodavca: Lajkovac (Varoš)\n",
      "id: 26982 | url: https://www.polovniautomobili.com/auto-oglasi/19898346/bentley-bentayga?attp=p0_pv0_pc0_pl1_plv0 | naslov: Bentley Bentayga | cena: 144900 | stanje: Polovno vozilo | marka: Bentley | model: Bentayga | godiste: 2017 | kilometraza: 139100 | karoserija: Džip/SUV | gorivo: Dizel | kubikaza: 3956 | snaga: 320/435 (kW/KS) | menjac: Automatski / poluautomatski | vrata: 4/5 vrata | boja: Plava | lokacija_prodavca: Veliko Gradište\n",
      "id: 18542 | url: https://www.polovniautomobili.com/auto-oglasi/19864659/bmw-x7-xdrive-40d-m-paket?attp=p0_pv0_pc0_pl1_plv0 | naslov: BMW X7 xDrive 40d M paket | cena: 134990 | stanje: Polovno vozilo | marka: BMW | model: X7 | godiste: 2021 | kilometraza: 35028 | karoserija: Džip/SUV | gorivo: Dizel | kubikaza: 2993 | snaga: 250/340 (kW/KS) | menjac: Automatski / poluautomatski | vrata: 4/5 vrata | boja: Siva | lokacija_prodavca: Kragujevac\n",
      "id: 12595 | url: https://www.polovniautomobili.com/auto-oglasi/19473370/mercedes-benz-gls-400-4m-amg?attp=p0_pv0_pc0_pl1_plv0 | naslov: Mercedes Benz GLS 400 4M AMG | cena: 134900 | stanje: Polovno vozilo | marka: Mercedes Benz | model: GLS 400 | godiste: 2021 | kilometraza: 12000 | karoserija: Džip/SUV | gorivo: Dizel | kubikaza: 2925 | snaga: 243/330 (kW/KS) | menjac: Automatski / poluautomatski | vrata: 4/5 vrata | boja: Crna | lokacija_prodavca: Beograd\n",
      "id: 24405 | url: https://www.polovniautomobili.com/auto-oglasi/19139520/mercedes-benz-gle-53-amg-coupe-hibrid?attp=p0_pv0_pc0_pl1_plv0 | naslov: Mercedes Benz GLE 53 AMG COUPE HIBRID | cena: 132900 | stanje: Polovno vozilo | marka: Mercedes Benz | model: GLE 53 AMG | godiste: 2021 | kilometraza: 20000 | karoserija: Džip/SUV | gorivo: Benzin | kubikaza: 2999 | snaga: 320/435 (kW/KS) | menjac: Automatski / poluautomatski | vrata: 4/5 vrata | boja: Crna | lokacija_prodavca: Pančevo\n",
      "id: 24404 | url: https://www.polovniautomobili.com/auto-oglasi/19139510/mercedes-benz-gle-53-amg-coupe-hibrid?attp=p0_pv0_pc0_pl1_plv0 | naslov: Mercedes Benz GLE 53 AMG COUPE HIBRID | cena: 132900 | stanje: Polovno vozilo | marka: Mercedes Benz | model: GLE 53 AMG | godiste: 2021 | kilometraza: 20000 | karoserija: Džip/SUV | gorivo: Benzin | kubikaza: 2999 | snaga: 320/435 (kW/KS) | menjac: Automatski / poluautomatski | vrata: 4/5 vrata | boja: Srebrna | lokacija_prodavca: Pančevo\n",
      "id: 19522 | url: https://www.polovniautomobili.com/auto-oglasi/19459379/bmw-serija-i-ix-xdrive-50?attp=p0_pv0_pc0_pl1_plv0 | naslov: BMW Serija i iX xDrive 50 | cena: 130900 | stanje: Polovno vozilo | marka: BMW | model: Serija i | godiste: 2021 | kilometraza: 8000 | karoserija: Džip/SUV | gorivo: Električni pogon | kubikaza: 100 | snaga: 385/523 (kW/KS) | menjac: Automatski / poluautomatski | vrata: 4/5 vrata | boja: Bordo | lokacija_prodavca: Beograd\n",
      "id: 2592 | url: https://www.polovniautomobili.com/auto-oglasi/17924797/audi-sq8-rs-matrix-max-oprema?attp=p3_pv0_pc1_pl1_plv0 | naslov: Audi SQ8 RS Matrix Max oprema | cena: 130000 | stanje: Polovno vozilo | marka: Audi | model: SQ8 | godiste: 2019 | kilometraza: 14000 | karoserija: Džip/SUV | gorivo: Dizel | kubikaza: 4000 | snaga: 320/435 (kW/KS) | menjac: Automatski / poluautomatski | vrata: 4/5 vrata | boja: Crna | lokacija_prodavca: Valjevo\n",
      "id: 1438 | url: https://www.polovniautomobili.com/auto-oglasi/19603430/mercedes-benz-gle-53-amg-coupe-4m-hybrid?attp=p3_pv0_pc1_pl1_plv0 | naslov: Mercedes Benz GLE 53 AMG Coupe 4M Hybrid | cena: 129990 | stanje: Polovno vozilo | marka: Mercedes Benz | model: GLE 53 AMG | godiste: 2020 | kilometraza: 33924 | karoserija: Džip/SUV | gorivo: Benzin | kubikaza: 2999 | snaga: 320/435 (kW/KS) | menjac: Automatski / poluautomatski | vrata: 4/5 vrata | boja: Crna | lokacija_prodavca: Gornji Milanovac\n",
      "id: 23019 | url: https://www.polovniautomobili.com/auto-oglasi/19585681/mercedes-benz-gle-53-amg-coupe-4m-hybrid?attp=p0_pv0_pc0_pl1_plv0 | naslov: Mercedes Benz GLE 53 AMG COUPE 4M HYBRID | cena: 128500 | stanje: Polovno vozilo | marka: Mercedes Benz | model: GLE 53 AMG | godiste: 2021 | kilometraza: 8500 | karoserija: Džip/SUV | gorivo: Benzin | kubikaza: 2995 | snaga: 320/435 (kW/KS) | menjac: Automatski / poluautomatski | vrata: 4/5 vrata | boja: Crna | lokacija_prodavca: Beograd\n",
      "id: 6719 | url: https://www.polovniautomobili.com/auto-oglasi/19511673/mercedes-benz-gls-400-2xamg-3xtv?attp=p1_pv0_pc1_pl1_plv0 | naslov: Mercedes Benz GLS 400 2xAMG 3xTV | cena: 127900 | stanje: Polovno vozilo | marka: Mercedes Benz | model: GLS 400 | godiste: 2021 | kilometraza: 17000 | karoserija: Džip/SUV | gorivo: Dizel | kubikaza: 3000 | snaga: 243/330 (kW/KS) | menjac: Automatski / poluautomatski | vrata: 4/5 vrata | boja: Crna | lokacija_prodavca: Prigrevica\n",
      "id: 28910 | url: https://www.polovniautomobili.com/auto-oglasi/19099427/mercedes-benz-gle-53-amg-night?attp=p0_pv0_pc0_pl1_plv0 | naslov: Mercedes Benz GLE 53 AMG NIGHT | cena: 123900 | stanje: Polovno vozilo | marka: Mercedes Benz | model: GLE 53 AMG | godiste: 2020 | kilometraza: 24000 | karoserija: Džip/SUV | gorivo: Benzin | kubikaza: 2999 | snaga: 320/435 (kW/KS) | menjac: Automatski / poluautomatski | vrata: 4/5 vrata | boja: Crna | lokacija_prodavca: Beograd\n",
      "id: 6998 | url: https://www.polovniautomobili.com/auto-oglasi/19969640/porsche-cayenne?attp=p1_pv0_pc1_pl1_plv0 | naslov: Porsche Cayenne | cena: 122750 | stanje: Polovno vozilo | marka: Porsche | model: Cayenne | godiste: 2021 | kilometraza: 19106 | karoserija: Džip/SUV | gorivo: Benzin | kubikaza: 2894 | snaga: 324/441 (kW/KS) | menjac: Automatski / poluautomatski | vrata: 4/5 vrata | boja: Braon | lokacija_prodavca: Niš\n",
      "id: 25701 | url: https://www.polovniautomobili.com/auto-oglasi/19853914/mercedes-benz-gle-580-amg-hybrid-air-susp?attp=p0_pv0_pc0_pl1_plv0 | naslov: Mercedes Benz GLE 580 AMG Hybrid AIR-Susp | cena: 119900 | stanje: Polovno vozilo | marka: Mercedes Benz | model: GLE 580 | godiste: 2021 | kilometraza: 7500 | karoserija: Džip/SUV | gorivo: Benzin | kubikaza: 3982 | snaga: 360/489 (kW/KS) | menjac: Automatski / poluautomatski | vrata: 4/5 vrata | boja: Crna | lokacija_prodavca: Irig\n"
     ]
    }
   ],
   "source": [
    "for n in najskuplje['najskuplji_dzipovi']:\n",
    "    print(\" | \".join([\"{0}: {1}\".format(k, v) for k, v in n.items()]))"
   ]
  },
  {
   "cell_type": "markdown",
   "metadata": {},
   "source": [
    "## e) prikazati rang listu svih automobila proizvedenih 2021. i 2022. godine, i izlistati ih opadajuće prema ceni po kojoj se prodaju"
   ]
  },
  {
   "cell_type": "code",
   "execution_count": 7,
   "metadata": {},
   "outputs": [
    {
     "name": "stdout",
     "output_type": "stream",
     "text": [
      "id: 22178 | url: https://www.polovniautomobili.com/auto-oglasi/19473093/bentley-continental-gt-mulliner?attp=p0_pv0_pc0_pl1_plv0 | naslov: Bentley Continental GT MULLINER | cena: 289900 | stanje: Polovno vozilo | marka: Bentley | model: Continental | godiste: 2021 | kilometraza: 10000 | karoserija: Kupe | gorivo: Benzin | kubikaza: 3996 | snaga: 404/549 (kW/KS) | menjac: Automatski / poluautomatski | vrata: 2/3 vrata | boja: Crna | lokacija_prodavca: Kraljevo\n",
      "id: 30722 | url: https://www.polovniautomobili.com/auto-oglasi/18808403/mercedes-benz-gls-600-maybach?attp=p0_pv0_pc0_pl1_plv0 | naslov: Mercedes Benz GLS 600 MAYBACH | cena: 275900 | stanje: Polovno vozilo | marka: Mercedes Benz | model: GLS 600 | godiste: 2021 | kilometraza: 3000 | karoserija: Džip/SUV | gorivo: Benzin | kubikaza: 3982 | snaga: 410/557 (kW/KS) | menjac: Automatski / poluautomatski | vrata: 4/5 vrata | boja: Crna | lokacija_prodavca: Stara Pazova\n",
      "id: 22903 | url: https://www.polovniautomobili.com/auto-oglasi/19931204/mercedes-benz-g-63-amg?attp=p0_pv0_pc0_pl1_plv0 | naslov: Mercedes Benz G 63 AMG | cena: 249900 | stanje: Polovno vozilo | marka: Mercedes Benz | model: G 63 AMG | godiste: 2021 | kilometraza: 19000 | karoserija: Džip/SUV | gorivo: Benzin | kubikaza: 3982 | snaga: 430/585 (kW/KS) | menjac: Automatski / poluautomatski | vrata: 4/5 vrata | boja: Crna | lokacija_prodavca: Novi Pazar\n",
      "id: 12600 | url: https://www.polovniautomobili.com/auto-oglasi/19473394/mercedes-benz-gls-63-amg?attp=p0_pv0_pc0_pl1_plv0 | naslov: Mercedes Benz GLS 63 AMG | cena: 209900 | stanje: Polovno vozilo | marka: Mercedes Benz | model: GLS 63 AMG | godiste: 2021 | kilometraza: 12000 | karoserija: Džip/SUV | gorivo: Benzin | kubikaza: 3982 | snaga: 450/612 (kW/KS) | menjac: Automatski / poluautomatski | vrata: 4/5 vrata | boja: Crna | lokacija_prodavca: Beograd\n",
      "id: 16587 | url: https://www.polovniautomobili.com/auto-oglasi/19864851/mercedes-benz-g-400-cdi-amg-strong?attp=p0_pv0_pc0_pl1_plv0 | naslov: Mercedes Benz G 400 CDI AMG STRONG | cena: 183369 | stanje: Polovno vozilo | marka: Mercedes Benz | model: G 400 | godiste: 2021 | kilometraza: 2369 | karoserija: Džip/SUV | gorivo: Dizel | kubikaza: 2925 | snaga: 243/330 (kW/KS) | menjac: Automatski / poluautomatski | vrata: 4/5 vrata | boja: Crna | lokacija_prodavca: Beograd\n",
      "id: 12092 | url: https://www.polovniautomobili.com/auto-oglasi/19963538/mercedes-benz-gle-63-amg-s?attp=p3_pv0_pc1_pl1_plv0 | naslov: Mercedes Benz GLE 63 AMG S | cena: 179900 | stanje: Polovno vozilo | marka: Mercedes Benz | model: GLE 63 AMG | godiste: 2021 | kilometraza: 15000 | karoserija: Džip/SUV | gorivo: Benzin | kubikaza: 3982 | snaga: 450/612 (kW/KS) | menjac: Automatski / poluautomatski | vrata: 4/5 vrata | boja: Crna | lokacija_prodavca: Lajkovac (Varoš)\n",
      "id: 12597 | url: https://www.polovniautomobili.com/auto-oglasi/19473057/mercedes-benz-gle-63-amg-s?attp=p0_pv0_pc0_pl1_plv0 | naslov: Mercedes Benz GLE 63 AMG S | cena: 177900 | stanje: Polovno vozilo | marka: Mercedes Benz | model: GLE 63 AMG | godiste: 2022 | kilometraza: 8000 | karoserija: Džip/SUV | gorivo: Benzin | kubikaza: 3982 | snaga: 450/612 (kW/KS) | menjac: Automatski / poluautomatski | vrata: 4/5 vrata | boja: Crna | lokacija_prodavca: Beograd\n",
      "id: 6709 | url: https://www.polovniautomobili.com/auto-oglasi/19941276/mercedes-benz-g-400-d-amg?attp=p1_pv0_pc1_pl1_plv0 | naslov: Mercedes Benz G 400 d AMG | cena: 174900 | stanje: Polovno vozilo | marka: Mercedes Benz | model: G 400 | godiste: 2021 | kilometraza: 25000 | karoserija: Džip/SUV | gorivo: Dizel | kubikaza: 3000 | snaga: 243/330 (kW/KS) | menjac: Automatski / poluautomatski | vrata: 4/5 vrata | boja: Crna | lokacija_prodavca: Prigrevica\n",
      "id: 26096 | url: https://www.polovniautomobili.com/auto-oglasi/19067328/mercedes-benz-g-400-designo?attp=p0_pv0_pc0_pl1_plv0 | naslov: Mercedes Benz G 400 DESIGNO | cena: 169000 | stanje: Polovno vozilo | marka: Mercedes Benz | model: G 400 | godiste: 2021 | kilometraza: 16900 | karoserija: Džip/SUV | gorivo: Dizel | kubikaza: 2925 | snaga: 243/330 (kW/KS) | menjac: Automatski / poluautomatski | vrata: 4/5 vrata | boja: Siva | lokacija_prodavca: Kragujevac\n",
      "id: 25674 | url: https://www.polovniautomobili.com/auto-oglasi/19922785/mercedes-benz-s-400-d-4m-l-amg?attp=p0_pv0_pc0_pl1_plv0 | naslov: Mercedes Benz S 400 d 4M L AMG | cena: 169000 | stanje: Polovno vozilo | marka: Mercedes Benz | model: S 400 | godiste: 2022 | kilometraza: 5500 | karoserija: Limuzina | gorivo: Dizel | kubikaza: 2925 | snaga: 243/330 (kW/KS) | menjac: Automatski / poluautomatski | vrata: 4/5 vrata | boja: Zlatna | lokacija_prodavca: Smederevo\n",
      "id: 17911 | url: https://www.polovniautomobili.com/auto-oglasi/20005121/mercedes-benz-s-500-4m-amg?attp=p0_pv0_pc0_pl1_plv0 | naslov: Mercedes Benz S 500 4M  AMG | cena: 169000 | stanje: Polovno vozilo | marka: Mercedes Benz | model: S 500 | godiste: 2021 | kilometraza: 22000 | karoserija: Limuzina | gorivo: Benzin | kubikaza: 2999 | snaga: 319/434 (kW/KS) | menjac: Automatski / poluautomatski | vrata: 4/5 vrata | boja: Bela | lokacija_prodavca: Sombor\n",
      "id: 4346 | url: https://www.polovniautomobili.com/auto-oglasi/19636534/mercedes-benz-s-500-l-hybrid-2xamg-3xtv?attp=p1_pv0_pc1_pl1_plv0 | naslov: Mercedes Benz S 500 L Hybrid 2xAMG 3xTV | cena: 159000 | stanje: Polovno vozilo | marka: Mercedes Benz | model: S 500 | godiste: 2021 | kilometraza: 13000 | karoserija: Limuzina | gorivo: Benzin | kubikaza: 2999 | snaga: 320/435 (kW/KS) | menjac: Automatski / poluautomatski | vrata: 4/5 vrata | boja: Crna | lokacija_prodavca: Despotovac\n",
      "id: 12599 | url: https://www.polovniautomobili.com/auto-oglasi/19473289/mercedes-benz-gls-580-4m-amg?attp=p0_pv0_pc0_pl1_plv0 | naslov: Mercedes Benz GLS 580 4M AMG | cena: 153900 | stanje: Polovno vozilo | marka: Mercedes Benz | model: GLS 580 | godiste: 2022 | kilometraza: 8000 | karoserija: Džip/SUV | gorivo: Benzin | kubikaza: 3982 | snaga: 360/489 (kW/KS) | menjac: Automatski / poluautomatski | vrata: 4/5 vrata | boja: Bela | lokacija_prodavca: Beograd\n",
      "id: 4149 | url: https://www.polovniautomobili.com/auto-oglasi/19009781/mercedes-benz-s-400-d-long-amg-4matic?attp=p3_pv0_pc1_pl1_plv0 | naslov: Mercedes Benz S 400 D Long AMG 4Matic | cena: 139990 | stanje: Polovno vozilo | marka: Mercedes Benz | model: S 400 | godiste: 2021 | kilometraza: 27157 | karoserija: Limuzina | gorivo: Dizel | kubikaza: 2925 | snaga: 243/330 (kW/KS) | menjac: Automatski / poluautomatski | vrata: 4/5 vrata | boja: Crna | lokacija_prodavca: Veternik\n",
      "id: 758 | url: https://www.polovniautomobili.com/auto-oglasi/19563736/audi-a8?attp=p1_pv0_pc1_pl1_plv0 | naslov: Audi A8 | cena: 137356 | stanje: Novo vozilo | marka: Audi | model: A8 | godiste: 2022 | kilometraza: 0 | karoserija: Limuzina | gorivo: Dizel | kubikaza: 2967 | snaga: 210/286 (kW/KS) | menjac: Automatski / poluautomatski | vrata: 4/5 vrata | boja: Crna | lokacija_prodavca: Beograd\n",
      "id: 18542 | url: https://www.polovniautomobili.com/auto-oglasi/19864659/bmw-x7-xdrive-40d-m-paket?attp=p0_pv0_pc0_pl1_plv0 | naslov: BMW X7 xDrive 40d M paket | cena: 134990 | stanje: Polovno vozilo | marka: BMW | model: X7 | godiste: 2021 | kilometraza: 35028 | karoserija: Džip/SUV | gorivo: Dizel | kubikaza: 2993 | snaga: 250/340 (kW/KS) | menjac: Automatski / poluautomatski | vrata: 4/5 vrata | boja: Siva | lokacija_prodavca: Kragujevac\n",
      "id: 12595 | url: https://www.polovniautomobili.com/auto-oglasi/19473370/mercedes-benz-gls-400-4m-amg?attp=p0_pv0_pc0_pl1_plv0 | naslov: Mercedes Benz GLS 400 4M AMG | cena: 134900 | stanje: Polovno vozilo | marka: Mercedes Benz | model: GLS 400 | godiste: 2021 | kilometraza: 12000 | karoserija: Džip/SUV | gorivo: Dizel | kubikaza: 2925 | snaga: 243/330 (kW/KS) | menjac: Automatski / poluautomatski | vrata: 4/5 vrata | boja: Crna | lokacija_prodavca: Beograd\n",
      "id: 24405 | url: https://www.polovniautomobili.com/auto-oglasi/19139520/mercedes-benz-gle-53-amg-coupe-hibrid?attp=p0_pv0_pc0_pl1_plv0 | naslov: Mercedes Benz GLE 53 AMG COUPE HIBRID | cena: 132900 | stanje: Polovno vozilo | marka: Mercedes Benz | model: GLE 53 AMG | godiste: 2021 | kilometraza: 20000 | karoserija: Džip/SUV | gorivo: Benzin | kubikaza: 2999 | snaga: 320/435 (kW/KS) | menjac: Automatski / poluautomatski | vrata: 4/5 vrata | boja: Crna | lokacija_prodavca: Pančevo\n",
      "id: 24404 | url: https://www.polovniautomobili.com/auto-oglasi/19139510/mercedes-benz-gle-53-amg-coupe-hibrid?attp=p0_pv0_pc0_pl1_plv0 | naslov: Mercedes Benz GLE 53 AMG COUPE HIBRID | cena: 132900 | stanje: Polovno vozilo | marka: Mercedes Benz | model: GLE 53 AMG | godiste: 2021 | kilometraza: 20000 | karoserija: Džip/SUV | gorivo: Benzin | kubikaza: 2999 | snaga: 320/435 (kW/KS) | menjac: Automatski / poluautomatski | vrata: 4/5 vrata | boja: Srebrna | lokacija_prodavca: Pančevo\n",
      "id: 19522 | url: https://www.polovniautomobili.com/auto-oglasi/19459379/bmw-serija-i-ix-xdrive-50?attp=p0_pv0_pc0_pl1_plv0 | naslov: BMW Serija i iX xDrive 50 | cena: 130900 | stanje: Polovno vozilo | marka: BMW | model: Serija i | godiste: 2021 | kilometraza: 8000 | karoserija: Džip/SUV | gorivo: Električni pogon | kubikaza: 100 | snaga: 385/523 (kW/KS) | menjac: Automatski / poluautomatski | vrata: 4/5 vrata | boja: Bordo | lokacija_prodavca: Beograd\n",
      "id: 6734 | url: https://www.polovniautomobili.com/auto-oglasi/19329198/mercedes-benz-s-400-d-2xamg-4m-karbon?attp=p1_pv0_pc1_pl1_plv0 | naslov: Mercedes Benz S 400 d 2xAMG 4M Karbon | cena: 129000 | stanje: Polovno vozilo | marka: Mercedes Benz | model: S 400 | godiste: 2021 | kilometraza: 28000 | karoserija: Limuzina | gorivo: Dizel | kubikaza: 3000 | snaga: 243/330 (kW/KS) | menjac: Automatski / poluautomatski | vrata: 4/5 vrata | boja: Crna | lokacija_prodavca: Prigrevica\n",
      "id: 23019 | url: https://www.polovniautomobili.com/auto-oglasi/19585681/mercedes-benz-gle-53-amg-coupe-4m-hybrid?attp=p0_pv0_pc0_pl1_plv0 | naslov: Mercedes Benz GLE 53 AMG COUPE 4M HYBRID | cena: 128500 | stanje: Polovno vozilo | marka: Mercedes Benz | model: GLE 53 AMG | godiste: 2021 | kilometraza: 8500 | karoserija: Džip/SUV | gorivo: Benzin | kubikaza: 2995 | snaga: 320/435 (kW/KS) | menjac: Automatski / poluautomatski | vrata: 4/5 vrata | boja: Crna | lokacija_prodavca: Beograd\n",
      "id: 6719 | url: https://www.polovniautomobili.com/auto-oglasi/19511673/mercedes-benz-gls-400-2xamg-3xtv?attp=p1_pv0_pc1_pl1_plv0 | naslov: Mercedes Benz GLS 400 2xAMG 3xTV | cena: 127900 | stanje: Polovno vozilo | marka: Mercedes Benz | model: GLS 400 | godiste: 2021 | kilometraza: 17000 | karoserija: Džip/SUV | gorivo: Dizel | kubikaza: 3000 | snaga: 243/330 (kW/KS) | menjac: Automatski / poluautomatski | vrata: 4/5 vrata | boja: Crna | lokacija_prodavca: Prigrevica\n",
      "id: 6998 | url: https://www.polovniautomobili.com/auto-oglasi/19969640/porsche-cayenne?attp=p1_pv0_pc1_pl1_plv0 | naslov: Porsche Cayenne | cena: 122750 | stanje: Polovno vozilo | marka: Porsche | model: Cayenne | godiste: 2021 | kilometraza: 19106 | karoserija: Džip/SUV | gorivo: Benzin | kubikaza: 2894 | snaga: 324/441 (kW/KS) | menjac: Automatski / poluautomatski | vrata: 4/5 vrata | boja: Braon | lokacija_prodavca: Niš\n",
      "id: 25701 | url: https://www.polovniautomobili.com/auto-oglasi/19853914/mercedes-benz-gle-580-amg-hybrid-air-susp?attp=p0_pv0_pc0_pl1_plv0 | naslov: Mercedes Benz GLE 580 AMG Hybrid AIR-Susp | cena: 119900 | stanje: Polovno vozilo | marka: Mercedes Benz | model: GLE 580 | godiste: 2021 | kilometraza: 7500 | karoserija: Džip/SUV | gorivo: Benzin | kubikaza: 3982 | snaga: 360/489 (kW/KS) | menjac: Automatski / poluautomatski | vrata: 4/5 vrata | boja: Crna | lokacija_prodavca: Irig\n",
      "id: 18486 | url: https://www.polovniautomobili.com/auto-oglasi/18624158/mercedes-benz-s-350-4matic?attp=p0_pv0_pc0_pl1_plv0 | naslov: Mercedes Benz S 350 4Matic | cena: 119000 | stanje: Polovno vozilo | marka: Mercedes Benz | model: S 350 | godiste: 2021 | kilometraza: 11000 | karoserija: Limuzina | gorivo: Dizel | kubikaza: 2925 | snaga: 210/286 (kW/KS) | menjac: Automatski / poluautomatski | vrata: 4/5 vrata | boja: Siva | lokacija_prodavca: Beograd\n",
      "id: 1585 | url: https://www.polovniautomobili.com/auto-oglasi/20012770/bmw-x6-xdrive-30d?attp=p1_pv0_pc1_pl1_plv0 | naslov: BMW X6 xDrive 30d | cena: 114990 | stanje: Novo vozilo | marka: BMW | model: X6 | godiste: 2022 | kilometraza: 0 | karoserija: Džip/SUV | gorivo: Dizel | kubikaza: 2993 | snaga: 210/286 (kW/KS) | menjac: Automatski / poluautomatski | vrata: 4/5 vrata | boja: Siva | lokacija_prodavca: Smederevo\n",
      "id: 3515 | url: https://www.polovniautomobili.com/auto-oglasi/19996488/bmw-x6-xdrive-30d?attp=p1_pv0_pc1_pl1_plv0 | naslov: BMW X6 xDrive 30d | cena: 114108 | stanje: Novo vozilo | marka: BMW | model: X6 | godiste: 2022 | kilometraza: 0 | karoserija: Džip/SUV | gorivo: Dizel | kubikaza: 2993 | snaga: 210/286 (kW/KS) | menjac: Automatski / poluautomatski | vrata: 4/5 vrata | boja: Zelena | lokacija_prodavca: Voganj\n",
      "id: 3492 | url: https://www.polovniautomobili.com/auto-oglasi/19996570/bmw-x6-xdrive-30d?attp=p1_pv0_pc1_pl1_plv0 | naslov: BMW X6 xDrive 30d | cena: 112753 | stanje: Novo vozilo | marka: BMW | model: X6 | godiste: 2022 | kilometraza: 0 | karoserija: Džip/SUV | gorivo: Dizel | kubikaza: 2993 | snaga: 210/286 (kW/KS) | menjac: Automatski / poluautomatski | vrata: 4/5 vrata | boja: Bela | lokacija_prodavca: Zvezdara\n",
      "id: 6728 | url: https://www.polovniautomobili.com/auto-oglasi/19694529/bmw-x6-black-edition-vazduh?attp=p1_pv0_pc1_pl1_plv0 | naslov: BMW X6 Black EDITION VAZDUH | cena: 110000 | stanje: Polovno vozilo | marka: BMW | model: X6 | godiste: 2021 | kilometraza: 9500 | karoserija: Džip/SUV | gorivo: Dizel | kubikaza: 3000 | snaga: 210/286 (kW/KS) | menjac: Automatski / poluautomatski | vrata: 4/5 vrata | boja: Crna | lokacija_prodavca: Prigrevica\n"
     ]
    }
   ],
   "source": [
    "najskuplje_2021_2022 = db.najskuplje_2021_2022()\n",
    "for n in najskuplje_2021_2022:\n",
    "    print(\" | \".join([\"{0}: {1}\".format(k, v) for k, v in n.items()]))"
   ]
  },
  {
   "cell_type": "markdown",
   "metadata": {},
   "source": [
    "## f) prikazati automobile koji imaju:"
   ]
  },
  {
   "cell_type": "markdown",
   "metadata": {},
   "source": [
    "###    ▪ najveću kubikažu"
   ]
  },
  {
   "cell_type": "markdown",
   "metadata": {},
   "source": [
    "#### Komentar: Filtrirana su vozila sa kubikažom većom od 10000 jer je verovatno u pitanju greška."
   ]
  },
  {
   "cell_type": "code",
   "execution_count": 8,
   "metadata": {},
   "outputs": [
    {
     "name": "stdout",
     "output_type": "stream",
     "text": [
      "id: 20274 | url: https://www.polovniautomobili.com/auto-oglasi/19878811/chevrolet-suburban-2500hd?attp=p0_pv0_pc0_pl1_plv0 | naslov: Chevrolet Suburban 2500HD | cena: 19000 | stanje: Polovno vozilo | marka: Chevrolet | model: Suburban | godiste: 2005 | kilometraza: 217000 | karoserija: Džip/SUV | gorivo: Benzin | kubikaza: 8100 | snaga: 258/351 (kW/KS) | menjac: Automatski / poluautomatski | vrata: 4/5 vrata | boja: Teget | lokacija_prodavca: Zaječar\n",
      "id: 19586 | url: https://www.polovniautomobili.com/auto-oglasi/16121229/rolls-royce-silver-spirit?attp=p0_pv0_pc0_pl1_plv0 | naslov: Rolls Royce Silver Spirit | cena: 24900 | stanje: Polovno vozilo | marka: Rolls Royce | model: Ostalo | godiste: 1980 | kilometraza: 120000 | karoserija: Limuzina | gorivo: Benzin | kubikaza: 6750 | snaga: 150/204 (kW/KS) | menjac: Automatski / poluautomatski | vrata: 4/5 vrata | boja: Plava | lokacija_prodavca: Subotica\n",
      "id: 27388 | url: https://www.polovniautomobili.com/auto-oglasi/8285611/rolls-royce-flying-spur-ii?attp=p0_pv0_pc0_pl1_plv0 | naslov: Rolls Royce Flying Spur II | cena: 25000 | stanje: Polovno vozilo | marka: Rolls Royce | model: Flying Spur | godiste: 1987 | kilometraza: 47000 | karoserija: Limuzina | gorivo: Benzin | kubikaza: 6700 | snaga: 200/272 (kW/KS) | menjac: Automatski | vrata: 4/5 vrata | boja: Crna | lokacija_prodavca: Arilje\n",
      "id: 25598 | url: https://www.polovniautomobili.com/auto-oglasi/19924828/bmw-760-li-xdrive?attp=p0_pv0_pc0_pl1_plv0 | naslov: BMW 760 Li xDrive | cena: 70750 | stanje: Polovno vozilo | marka: BMW | model: 760 | godiste: 2017 | kilometraza: 120875 | karoserija: Limuzina | gorivo: Benzin | kubikaza: 6592 | snaga: 448/609 (kW/KS) | menjac: Automatski / poluautomatski | vrata: 4/5 vrata | boja: Crna | lokacija_prodavca: Smederevo\n",
      "id: 6725 | url: https://www.polovniautomobili.com/auto-oglasi/19662959/lamborghini-aventador-s-lp-740-4?attp=p1_pv0_pc1_pl1_plv0 | naslov: Lamborghini Aventador S  LP 740-4 | cena: Po dogovoru | stanje: Polovno vozilo | marka: Lamborghini | model: Aventador | godiste: 2018 | kilometraza: 14000 | karoserija: Kupe | gorivo: Benzin | kubikaza: 6498 | snaga: 544/740 (kW/KS) | menjac: Automatski / poluautomatski | vrata: 4/5 vrata | boja: Žuta | lokacija_prodavca: Prigrevica\n",
      "id: 29634 | url: https://www.polovniautomobili.com/auto-oglasi/19538873/audi-a8-w12l?attp=p0_pv0_pc0_pl1_plv0 | naslov: Audi A8 W12L | cena: 47000 | stanje: Polovno vozilo | marka: Audi | model: A8 | godiste: 2014 | kilometraza: 70000 | karoserija: Limuzina | gorivo: Benzin | kubikaza: 6300 | snaga: 367/499 (kW/KS) | menjac: Automatski / poluautomatski | vrata: 4/5 vrata | boja: Crna | lokacija_prodavca: Beograd\n",
      "id: 30777 | url: https://www.polovniautomobili.com/auto-oglasi/18998975/mercedes-benz-cl-63-amg?attp=p0_pv0_pc0_pl1_plv0 | naslov: Mercedes Benz CL 63 AMG | cena: 33000 | stanje: Polovno vozilo | marka: Mercedes Benz | model: CL 63 AMG | godiste: 2008 | kilometraza: 189111 | karoserija: Kupe | gorivo: Benzin | kubikaza: 6299 | snaga: 376/511 (kW/KS) | menjac: Automatski / poluautomatski | vrata: 2/3 vrata | boja: Bela | lokacija_prodavca: Niš\n",
      "id: 3570 | url: https://www.polovniautomobili.com/auto-oglasi/19996119/mercedes-benz-ml-63-amg?attp=p1_pv0_pc1_pl1_plv0 | naslov: Mercedes Benz ML 63 AMG | cena: 16500 | stanje: Polovno vozilo | marka: Mercedes Benz | model: ML 63 AMG | godiste: 2007 | kilometraza: 262000 | karoserija: Džip/SUV | gorivo: Benzin | kubikaza: 6208 | snaga: 375/510 (kW/KS) | menjac: Automatski / poluautomatski | vrata: 4/5 vrata | boja: Crna | lokacija_prodavca: Beograd\n",
      "id: 10258 | url: https://www.polovniautomobili.com/auto-oglasi/18278376/mercedes-benz-c-63-amg?attp=p0_pv0_pc0_pl1_plv0 | naslov: Mercedes Benz C 63 AMG | cena: 44000 | stanje: Polovno vozilo | marka: Mercedes Benz | model: C 63 AMG | godiste: 2008 | kilometraza: 125000 | karoserija: Limuzina | gorivo: Benzin | kubikaza: 6200 | snaga: 336/457 (kW/KS) | menjac: Automatski / poluautomatski | vrata: 4/5 vrata | boja: Crna | lokacija_prodavca: Temerin\n",
      "id: 14900 | url: https://www.polovniautomobili.com/auto-oglasi/19763441/mercedes-benz-c-63-amg-c63amg?attp=p0_pv0_pc0_pl1_plv0 | naslov: Mercedes Benz C 63 AMG C63AMG | cena: 42000 | stanje: Polovno vozilo | marka: Mercedes Benz | model: C 63 AMG | godiste: 2011 | kilometraza: 73000 | karoserija: Limuzina | gorivo: Benzin | kubikaza: 6200 | snaga: 358/487 (kW/KS) | menjac: Automatski / poluautomatski | vrata: 4/5 vrata | boja: Siva | lokacija_prodavca: Kovin\n"
     ]
    }
   ],
   "source": [
    "for n in db.sorted_kubikaza():\n",
    "    print(\" | \".join([\"{0}: {1}\".format(k, v) for k, v in n.items()]))"
   ]
  },
  {
   "cell_type": "markdown",
   "metadata": {},
   "source": [
    "###    ▪ najveću snagu motora"
   ]
  },
  {
   "cell_type": "code",
   "execution_count": 9,
   "metadata": {},
   "outputs": [
    {
     "name": "stdout",
     "output_type": "stream",
     "text": [
      "id: 24418 | url: https://www.polovniautomobili.com/auto-oglasi/18994058/ford-mustang-gt-900-hp?attp=p0_pv0_pc0_pl1_plv0 | naslov: Ford Mustang GT 900 HP | cena: 54900 | stanje: Polovno vozilo | marka: Ford | model: Mustang | godiste: 2014 | kilometraza: 32000 | karoserija: Kupe | gorivo: Benzin | kubikaza: 4951 | snaga: 662/900 (kW/KS) | menjac: Automatski / poluautomatski | vrata: 2/3 vrata | boja: Crvena | lokacija_prodavca: Kragujevac\n",
      "id: 15443 | url: https://www.polovniautomobili.com/auto-oglasi/19856849/renault-clio-15-dci?attp=p0_pv0_pc0_pl1_plv0 | naslov: Renault Clio 1.5 dci | cena: 3290 | stanje: Polovno vozilo | marka: Renault | model: Clio | godiste: 2006 | kilometraza: 179450 | karoserija: Hečbek | gorivo: Dizel | kubikaza: 1461 | snaga: 632/859 (kW/KS) | menjac: Manuelni 5 brzina | vrata: 4/5 vrata | boja: Crna | lokacija_prodavca: Kisač\n",
      "id: 6725 | url: https://www.polovniautomobili.com/auto-oglasi/19662959/lamborghini-aventador-s-lp-740-4?attp=p1_pv0_pc1_pl1_plv0 | naslov: Lamborghini Aventador S  LP 740-4 | cena: Po dogovoru | stanje: Polovno vozilo | marka: Lamborghini | model: Aventador | godiste: 2018 | kilometraza: 14000 | karoserija: Kupe | gorivo: Benzin | kubikaza: 6498 | snaga: 544/740 (kW/KS) | menjac: Automatski / poluautomatski | vrata: 4/5 vrata | boja: Žuta | lokacija_prodavca: Prigrevica\n",
      "id: 11597 | url: https://www.polovniautomobili.com/auto-oglasi/19810935/audi-s8-abt?attp=p1_pv0_pc1_pl1_plv0 | naslov: Audi S8 ABT | cena: 60000 | stanje: Polovno vozilo | marka: Audi | model: S8 | godiste: 2014 | kilometraza: 190000 | karoserija: Limuzina | gorivo: Benzin | kubikaza: 4000 | snaga: 533/725 (kW/KS) | menjac: Automatski / poluautomatski | vrata: 4/5 vrata | boja: Crna | lokacija_prodavca: Beška\n",
      "id: 6712 | url: https://www.polovniautomobili.com/auto-oglasi/17043823/lamborghini-urus-2x-karbon?attp=p1_pv0_pc1_pl1_plv0 | naslov: Lamborghini Urus 2x KARBON | cena: Po dogovoru | stanje: Polovno vozilo | marka: Lamborghini | model: Urus | godiste: 2018 | kilometraza: 7000 | karoserija: Džip/SUV | gorivo: Benzin | kubikaza: 4000 | snaga: 478/650 (kW/KS) | menjac: Automatski / poluautomatski | vrata: 4/5 vrata | boja: Žuta | lokacija_prodavca: Prigrevica\n",
      "id: 24474 | url: https://www.polovniautomobili.com/auto-oglasi/19699287/lamborghini-urus-bang-olufsen23?attp=p0_pv0_pc0_pl1_plv0 | naslov: Lamborghini Urus Bang Olufsen/23 | cena: 275000 | stanje: Polovno vozilo | marka: Lamborghini | model: Urus | godiste: 2018 | kilometraza: 46000 | karoserija: Džip/SUV | gorivo: Benzin | kubikaza: 3998 | snaga: 478/650 (kW/KS) | menjac: Automatski / poluautomatski | vrata: 4/5 vrata | boja: Plava | lokacija_prodavca: Mladenovac\n",
      "id: 6715 | url: https://www.polovniautomobili.com/auto-oglasi/19373031/porsche-911-992turbo-s-aeropaket?attp=p1_pv0_pc1_pl1_plv0 | naslov: Porsche 911 992Turbo S AeroPaket | cena: Po dogovoru | stanje: Polovno vozilo | marka: Porsche | model: 911 | godiste: 2021 | kilometraza: 4200 | karoserija: Kupe | gorivo: Benzin | kubikaza: 3754 | snaga: 478/650 (kW/KS) | menjac: Automatski / poluautomatski | vrata: 2/3 vrata | boja: Crna | lokacija_prodavca: Prigrevica\n",
      "id: 22334 | url: https://www.polovniautomobili.com/auto-oglasi/20019531/skoda-fabia-14?attp=p0_pv0_pc0_pl1_plv0 | naslov: Škoda Fabia 1.4 | cena: Po dogovoru | stanje: Polovno vozilo | marka: Škoda | model: Fabia | godiste: 2001 | kilometraza: 274078 | karoserija: Karavan | gorivo: Benzin | kubikaza: 1397 | snaga: 473/643 (kW/KS) | menjac: Manuelni 5 brzina | vrata: 4/5 vrata | boja: Siva | lokacija_prodavca: Rakovica\n",
      "id: 10340 | url: https://www.polovniautomobili.com/auto-oglasi/20023320/porsche-cayenne-45-v8?attp=p0_pv0_pc0_pl1_plv0 | naslov: Porsche Cayenne 4.5 v8 | cena: 10000 | stanje: Polovno vozilo | marka: Porsche | model: Cayenne | godiste: 2004 | kilometraza: 288000 | karoserija: Džip/SUV | gorivo: Benzin | kubikaza: 4500 | snaga: 462/628 (kW/KS) | menjac: Automatski / poluautomatski | vrata: 4/5 vrata | boja: Siva | lokacija_prodavca: Ripanj\n",
      "id: 8814 | url: https://www.polovniautomobili.com/auto-oglasi/19963514/bmw-m5-competition?attp=p3_pv0_pc1_pl1_plv0 | naslov: BMW M5 competition | cena: 129900 | stanje: Polovno vozilo | marka: BMW | model: M5 | godiste: 2020 | kilometraza: 3000 | karoserija: Limuzina | gorivo: Benzin | kubikaza: 4395 | snaga: 460/625 (kW/KS) | menjac: Automatski / poluautomatski | vrata: 4/5 vrata | boja: Siva | lokacija_prodavca: Paraćin\n"
     ]
    }
   ],
   "source": [
    "for n in db.sorted_snaga():\n",
    "    print(\" | \".join([\"{0}: {1}\".format(k, v) for k, v in n.items()]))"
   ]
  },
  {
   "cell_type": "markdown",
   "metadata": {},
   "source": [
    "###    ▪ najveću kilometražu (u oglasi gde nema tačne, dati najveći opseg)"
   ]
  },
  {
   "cell_type": "markdown",
   "metadata": {},
   "source": [
    "#### Komentar: Tačnost podataka o kilometraži je diskutabilna - tehnički je moguće da su neka vozila dostigla navedene višemilionske kilometraže, ali je moguće i da je neka greška posredi."
   ]
  },
  {
   "cell_type": "code",
   "execution_count": 10,
   "metadata": {},
   "outputs": [
    {
     "name": "stdout",
     "output_type": "stream",
     "text": [
      "id: 19076 | url: https://www.polovniautomobili.com/auto-oglasi/20009216/audi-a6-tdi?attp=p0_pv0_pc0_pl1_plv0 | naslov: Audi A6 tdi | cena: 1900 | stanje: Polovno vozilo | marka: Audi | model: A6 | godiste: 2001 | kilometraza: 4000000 | karoserija: Limuzina | gorivo: Dizel | kubikaza: 2496 | snaga: 110/150 (kW/KS) | menjac: Manuelni 6 brzina | vrata: 4/5 vrata | boja: Zlatna | lokacija_prodavca: Beograd\n",
      "id: 14842 | url: https://www.polovniautomobili.com/auto-oglasi/19882690/audi-a6-quattro?attp=p0_pv0_pc0_pl1_plv0 | naslov: Audi A6 quattro | cena: 5350 | stanje: Polovno vozilo | marka: Audi | model: A6 | godiste: 2005 | kilometraza: 4000000 | karoserija: Limuzina | gorivo: Dizel | kubikaza: 2967 | snaga: 165/224 (kW/KS) | menjac: Automatski / poluautomatski | vrata: 4/5 vrata | boja: Crna | lokacija_prodavca: Novi Sad\n",
      "id: 19238 | url: https://www.polovniautomobili.com/auto-oglasi/20010395/opel-astra-g?attp=p0_pv0_pc0_pl1_plv0 | naslov: Opel Astra G | cena: 900 | stanje: Polovno vozilo | marka: Opel | model: Astra G | godiste: 1999 | kilometraza: 3700008 | karoserija: Limuzina | gorivo: Benzin | kubikaza: 1598 | snaga: 74/101 (kW/KS) | menjac: Manuelni 5 brzina | vrata: 4/5 vrata | boja: Siva | lokacija_prodavca: Futog\n",
      "id: 25304 | url: https://www.polovniautomobili.com/auto-oglasi/18048437/bmw-520-d?attp=p0_pv0_pc0_pl1_plv0 | naslov: BMW 520 D | cena: 6500 | stanje: Polovno vozilo | marka: BMW | model: 520 | godiste: 2008 | kilometraza: 3630000 | karoserija: Limuzina | gorivo: Dizel | kubikaza: 2000 | snaga: 130/177 (kW/KS) | menjac: Automatski / poluautomatski | vrata: 4/5 vrata | boja: Siva | lokacija_prodavca: Novi Sad\n",
      "id: 19058 | url: https://www.polovniautomobili.com/auto-oglasi/20009209/volkswagen-passat-b55-4x4?attp=p0_pv0_pc0_pl1_plv0 | naslov: Volkswagen Passat B5.5 4x4 | cena: 3100 | stanje: Polovno vozilo | marka: Volkswagen | model: Passat B5.5 | godiste: 2004 | kilometraza: 3500002 | karoserija: Karavan | gorivo: Dizel | kubikaza: 1896 | snaga: 96/131 (kW/KS) | menjac: Manuelni 6 brzina | vrata: 4/5 vrata | boja: Siva | lokacija_prodavca: Pančevo\n",
      "id: 10210 | url: https://www.polovniautomobili.com/auto-oglasi/20023758/renault-kangoo-19?attp=p0_pv0_pc0_pl1_plv0 | naslov: Renault Kangoo 1.9 | cena: 650 | stanje: Polovno vozilo | marka: Renault | model: Kangoo | godiste: 2003 | kilometraza: 3444555 | karoserija: Pickup | gorivo: Dizel | kubikaza: 1900 | snaga: 56/76 (kW/KS) | menjac: Manuelni 5 brzina | vrata: 4/5 vrata | boja: Žuta | lokacija_prodavca: Loznica\n",
      "id: 28258 | url: https://www.polovniautomobili.com/auto-oglasi/19985328/opel-zafira?attp=p0_pv0_pc0_pl1_plv0 | naslov: Opel Zafira | cena: 1600 | stanje: Polovno vozilo | marka: Opel | model: Zafira | godiste: 2001 | kilometraza: 3400000 | karoserija: Monovolumen (MiniVan) | gorivo: Benzin + Gas (TNG) | kubikaza: 1796 | snaga: 92/125 (kW/KS) | menjac: Manuelni 5 brzina | vrata: 4/5 vrata | boja: Plava | lokacija_prodavca: Beograd\n",
      "id: 15268 | url: https://www.polovniautomobili.com/auto-oglasi/20015947/saab-9-3?attp=p0_pv0_pc0_pl1_plv0 | naslov: Saab 9-3 | cena: 2000 | stanje: Polovno vozilo | marka: Saab | model: 9-3 | godiste: 2006 | kilometraza: 3281393 | karoserija: Karavan | gorivo: Dizel | kubikaza: 1910 | snaga: 88/120 (kW/KS) | menjac: Manuelni 6 brzina | vrata: 4/5 vrata | boja: Crna | lokacija_prodavca: Pančevo\n",
      "id: 14824 | url: https://www.polovniautomobili.com/auto-oglasi/19067116/kia-sorento?attp=p0_pv0_pc0_pl1_plv0 | naslov: Kia Sorento | cena: 4450 | stanje: Polovno vozilo | marka: Kia | model: Sorento | godiste: 2005 | kilometraza: 3259313 | karoserija: Džip/SUV | gorivo: Dizel | kubikaza: 2497 | snaga: 103/140 (kW/KS) | menjac: Manuelni 5 brzina | vrata: 4/5 vrata | boja: Crna | lokacija_prodavca: Beograd\n",
      "id: 18165 | url: https://www.polovniautomobili.com/auto-oglasi/20006413/bmw-316-kompat?attp=p0_pv0_pc0_pl1_plv0 | naslov: BMW 316 kompat | cena: 1550 | stanje: Polovno vozilo | marka: BMW | model: 316 | godiste: 1994 | kilometraza: 3254125 | karoserija: Hečbek | gorivo: Benzin | kubikaza: 1595 | snaga: 77/105 (kW/KS) | menjac: Manuelni 5 brzina | vrata: 2/3 vrata | boja: Crna | lokacija_prodavca: Beograd\n"
     ]
    }
   ],
   "source": [
    "for n in db.sorted_kilometraza():\n",
    "    print(\" | \".join([\"{0}: {1}\".format(k, v) for k, v in n.items()]))"
   ]
  },
  {
   "cell_type": "markdown",
   "metadata": {},
   "source": [
    "### Finalize"
   ]
  },
  {
   "cell_type": "code",
   "execution_count": 11,
   "metadata": {},
   "outputs": [],
   "source": [
    "db.close()"
   ]
  }
 ],
 "metadata": {
  "interpreter": {
   "hash": "164a2c054889c472f3df4e2c8be202de555331b95075dba8c991b5622bd6f683"
  },
  "kernelspec": {
   "display_name": "Python 3",
   "language": "python",
   "name": "python3"
  },
  "language_info": {
   "codemirror_mode": {
    "name": "ipython",
    "version": 3
   },
   "file_extension": ".py",
   "mimetype": "text/x-python",
   "name": "python",
   "nbconvert_exporter": "python",
   "pygments_lexer": "ipython3",
   "version": "3.10.4"
  }
 },
 "nbformat": 4,
 "nbformat_minor": 4
}
