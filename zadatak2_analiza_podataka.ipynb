{
 "cells": [
  {
   "cell_type": "markdown",
   "metadata": {},
   "source": [
    "# Zadatak 2: Analiza podataka"
   ]
  },
  {
   "cell_type": "code",
   "execution_count": 1,
   "metadata": {},
   "outputs": [],
   "source": [
    "from db.db import MysqlDAO\n",
    "db = MysqlDAO('vozila')"
   ]
  },
  {
   "cell_type": "markdown",
   "metadata": {},
   "source": [
    "## a) izlistati koliki je broj automobila za svaku od dostupnih marki"
   ]
  },
  {
   "cell_type": "code",
   "execution_count": 2,
   "metadata": {},
   "outputs": [
    {
     "data": {
      "text/plain": [
       "[{'marka': 'Volkswagen', 'cnt': 102},\n",
       " {'marka': 'Audi', 'cnt': 72},\n",
       " {'marka': 'BMW', 'cnt': 55},\n",
       " {'marka': 'Opel', 'cnt': 52},\n",
       " {'marka': 'Renault', 'cnt': 50},\n",
       " {'marka': 'Peugeot', 'cnt': 49},\n",
       " {'marka': 'Citroen', 'cnt': 41},\n",
       " {'marka': 'Fiat', 'cnt': 31},\n",
       " {'marka': 'Mercedes Benz', 'cnt': 22},\n",
       " {'marka': 'Ford', 'cnt': 19},\n",
       " {'marka': 'Škoda', 'cnt': 19},\n",
       " {'marka': 'Nissan', 'cnt': 13},\n",
       " {'marka': 'Toyota', 'cnt': 12},\n",
       " {'marka': 'Volvo', 'cnt': 8},\n",
       " {'marka': 'Alfa Romeo', 'cnt': 8},\n",
       " {'marka': 'Seat', 'cnt': 6},\n",
       " {'marka': 'Lancia', 'cnt': 6},\n",
       " {'marka': 'Hyundai', 'cnt': 6},\n",
       " {'marka': 'Land Rover', 'cnt': 4},\n",
       " {'marka': 'MINI', 'cnt': 4},\n",
       " {'marka': 'Kia', 'cnt': 3},\n",
       " {'marka': 'Mazda', 'cnt': 3},\n",
       " {'marka': 'Porsche', 'cnt': 2},\n",
       " {'marka': 'Dacia', 'cnt': 2},\n",
       " {'marka': 'Smart', 'cnt': 2},\n",
       " {'marka': 'Jeep', 'cnt': 2},\n",
       " {'marka': 'Suzuki', 'cnt': 1},\n",
       " {'marka': 'Daihatsu', 'cnt': 1},\n",
       " {'marka': 'Lada', 'cnt': 1},\n",
       " {'marka': 'Subaru', 'cnt': 1},\n",
       " {'marka': 'Honda', 'cnt': 1},\n",
       " {'marka': 'Mitsubishi', 'cnt': 1},\n",
       " {'marka': 'Chevrolet', 'cnt': 1},\n",
       " {'marka': 'Saab', 'cnt': 1}]"
      ]
     },
     "execution_count": 2,
     "metadata": {},
     "output_type": "execute_result"
    }
   ],
   "source": [
    "marka_count = db.marka_count()\n",
    "marka_count"
   ]
  },
  {
   "cell_type": "markdown",
   "metadata": {},
   "source": [
    "## b) izlistati koliko automobila se prodaje u svakom od gradova/lokacija (izlistati sve gradove i pored svakog napisati broj automobila u ponudi)"
   ]
  },
  {
   "cell_type": "code",
   "execution_count": 3,
   "metadata": {},
   "outputs": [
    {
     "data": {
      "text/plain": [
       "[{'lokacija_prodavca': 'Beograd', 'cnt': 144},\n",
       " {'lokacija_prodavca': 'Novi Sad', 'cnt': 96},\n",
       " {'lokacija_prodavca': 'Čačak', 'cnt': 48},\n",
       " {'lokacija_prodavca': 'Niš', 'cnt': 48},\n",
       " {'lokacija_prodavca': 'Valjevo', 'cnt': 31},\n",
       " {'lokacija_prodavca': 'Kragujevac', 'cnt': 17},\n",
       " {'lokacija_prodavca': 'Prijepolje', 'cnt': 16},\n",
       " {'lokacija_prodavca': 'Stara Pazova', 'cnt': 16},\n",
       " {'lokacija_prodavca': 'Petrovaradin', 'cnt': 16},\n",
       " {'lokacija_prodavca': 'Vrbas', 'cnt': 16},\n",
       " {'lokacija_prodavca': 'Novi Beograd', 'cnt': 16},\n",
       " {'lokacija_prodavca': 'Arilje', 'cnt': 16},\n",
       " {'lokacija_prodavca': 'Vranje', 'cnt': 16},\n",
       " {'lokacija_prodavca': 'Futog', 'cnt': 16},\n",
       " {'lokacija_prodavca': 'Pančevo', 'cnt': 16},\n",
       " {'lokacija_prodavca': 'Veternik', 'cnt': 16},\n",
       " {'lokacija_prodavca': 'Aranđelovac', 'cnt': 16},\n",
       " {'lokacija_prodavca': 'Mladenovac', 'cnt': 16},\n",
       " {'lokacija_prodavca': 'Gornja Vranjska', 'cnt': 16},\n",
       " {'lokacija_prodavca': 'Bežanijska Kosa', 'cnt': 9}]"
      ]
     },
     "execution_count": 3,
     "metadata": {},
     "output_type": "execute_result"
    }
   ],
   "source": [
    "gradovi_count = db.gradovi_count()\n",
    "gradovi_count"
   ]
  },
  {
   "cell_type": "markdown",
   "metadata": {},
   "source": [
    "## c) izlistati po bojama (karoserije) koliko je kojih automobila"
   ]
  },
  {
   "cell_type": "code",
   "execution_count": 4,
   "metadata": {},
   "outputs": [
    {
     "data": {
      "text/plain": [
       "[{'boja': 'Siva', 'cnt': 221},\n",
       " {'boja': 'Crna', 'cnt': 158},\n",
       " {'boja': 'Bela', 'cnt': 83},\n",
       " {'boja': 'Plava', 'cnt': 48},\n",
       " {'boja': 'Crvena', 'cnt': 22},\n",
       " {'boja': 'Srebrna', 'cnt': 17},\n",
       " {'boja': 'Braon', 'cnt': 13},\n",
       " {'boja': 'Zlatna', 'cnt': 9},\n",
       " {'boja': 'Teget', 'cnt': 8},\n",
       " {'boja': 'Bordo', 'cnt': 4},\n",
       " {'boja': 'Zelena', 'cnt': 4},\n",
       " {'boja': 'Smeđa', 'cnt': 3},\n",
       " {'boja': 'Narandžasta', 'cnt': 3},\n",
       " {'boja': 'Bež', 'cnt': 3},\n",
       " {'boja': 'Tirkiz', 'cnt': 2},\n",
       " {'boja': 'Kameleon', 'cnt': 2},\n",
       " {'boja': 'Krem', 'cnt': 1}]"
      ]
     },
     "execution_count": 4,
     "metadata": {},
     "output_type": "execute_result"
    }
   ],
   "source": [
    "boja_count = db.boja_count()\n",
    "boja_count"
   ]
  },
  {
   "cell_type": "markdown",
   "metadata": {},
   "source": [
    "## d) prikazati rang listu prvih 30 najskupljih automobila koji se prodaju, i 30 najskupljih iz potkategorije džipovi/SUV (ako ovog podatka nema u oglasu, labelirati one modele automobila koji pripadaju ovoj kategoriji);"
   ]
  },
  {
   "cell_type": "code",
   "execution_count": 5,
   "metadata": {},
   "outputs": [
    {
     "name": "stdout",
     "output_type": "stream",
     "text": [
      "id: 416 | url: https://www.polovniautomobili.com/auto-oglasi/19149519/bmw-m5-competition?attp=p1_pv0_pc1_pl1_plv0 | naslov: BMW M5 Competition | cena: 131990 | stanje: Polovno vozilo | marka: BMW | model: M5 | godiste: 2020 | kilometraza: 3970 | karoserija: Limuzina | gorivo: Benzin | kubikaza: 4395 | snaga: 460/625 (kW/KS) | menjac: Automatski / poluautomatski | vrata: 4/5 vrata | boja: Plava | lokacija_prodavca: Pančevo\n",
      "id: 48 | url: https://www.polovniautomobili.com/auto-oglasi/20020832/audi-q8-hibrid-pano-vazduh?attp=p3_pv0_pc1_pl1_plv0 | naslov: Audi Q8 hibrid pano vazduh | cena: 79900 | stanje: Polovno vozilo | marka: Audi | model: Q8 | godiste: 2019 | kilometraza: 149300 | karoserija: Džip/SUV | gorivo: Dizel | kubikaza: 2967 | snaga: 210/286 (kW/KS) | menjac: Automatski / poluautomatski | vrata: 4/5 vrata | boja: Bela | lokacija_prodavca: Prijepolje\n",
      "id: 571 | url: https://www.polovniautomobili.com/auto-oglasi/19971902/mercedes-benz-c-220-cdi-amg-hibrid-nov?attp=p3_pv0_pc1_pl1_plv0 | naslov: Mercedes Benz C 220 cdi AMG HIBRID nov | cena: 76500 | stanje: Polovno vozilo | marka: Mercedes Benz | model: C 220 | godiste: 2021 | kilometraza: 1086 | karoserija: Limuzina | gorivo: Dizel | kubikaza: 2146 | snaga: 147/200 (kW/KS) | menjac: Automatski / poluautomatski | vrata: 4/5 vrata | boja: Bela | lokacija_prodavca: Novi Sad\n",
      "id: 454 | url: https://www.polovniautomobili.com/auto-oglasi/19833931/audi-a6-plug-in-hybrid?attp=p1_pv0_pc1_pl1_plv0 | naslov: Audi A6 PLUG IN HYBRID | cena: 59950 | stanje: Polovno vozilo | marka: Audi | model: A6 | godiste: 2021 | kilometraza: 29000 | karoserija: Limuzina | gorivo: Benzin | kubikaza: 1984 | snaga: 270/367 (kW/KS) | menjac: Automatski / poluautomatski | vrata: 4/5 vrata | boja: Bela | lokacija_prodavca: Beograd\n",
      "id: 453 | url: https://www.polovniautomobili.com/auto-oglasi/19327903/audi-q5-s-line?attp=p1_pv0_pc1_pl1_plv0 | naslov: Audi Q5 S LINE | cena: 59950 | stanje: Polovno vozilo | marka: Audi | model: Q5 | godiste: 2021 | kilometraza: 24000 | karoserija: Džip/SUV | gorivo: Dizel | kubikaza: 1968 | snaga: 150/204 (kW/KS) | menjac: Automatski / poluautomatski | vrata: 4/5 vrata | boja: Crna | lokacija_prodavca: Beograd\n",
      "id: 467 | url: https://www.polovniautomobili.com/auto-oglasi/20017168/alfa-romeo-stelvio-veloce-20-280?attp=p3_pv0_pc1_pl1_plv0 | naslov: Alfa Romeo Stelvio VELOCE 2.0 280 | cena: 57000 | stanje: Novo vozilo | marka: Alfa Romeo | model: Stelvio | godiste: 2022 | kilometraza: 0 | karoserija: Džip/SUV | gorivo: Benzin | kubikaza: 1995 | snaga: 206/280 (kW/KS) | menjac: Automatski / poluautomatski | vrata: 4/5 vrata | boja: Siva | lokacija_prodavca: Novi Sad\n",
      "id: 588 | url: https://www.polovniautomobili.com/auto-oglasi/19705636/mercedes-benz-cls-350-amg4matic?attp=p1_pv0_pc1_pl1_plv0 | naslov: Mercedes Benz CLS 350 AMG/4Matic | cena: 54990 | stanje: Polovno vozilo | marka: Mercedes Benz | model: CLS 350 | godiste: 2018 | kilometraza: 63000 | karoserija: Kupe | gorivo: Dizel | kubikaza: 2925 | snaga: 210/286 (kW/KS) | menjac: Automatski / poluautomatski | vrata: 4/5 vrata | boja: Siva | lokacija_prodavca: Beograd\n",
      "id: 260 | url: https://www.polovniautomobili.com/auto-oglasi/18898059/mercedes-benz-e-220-cdi-amg-night-pack?attp=p1_pv0_pc1_pl1_plv0 | naslov: Mercedes Benz E 220 CDI AMG NIGHT PACK | cena: 54990 | stanje: Polovno vozilo | marka: Mercedes Benz | model: E 220 | godiste: 2020 | kilometraza: 14379 | karoserija: Limuzina | gorivo: Dizel | kubikaza: 1950 | snaga: 143/194 (kW/KS) | menjac: Automatski / poluautomatski | vrata: 4/5 vrata | boja: Crna | lokacija_prodavca: Beograd\n",
      "id: 577 | url: https://www.polovniautomobili.com/auto-oglasi/19462628/audi-a6-s-lineair50tdi?attp=p1_pv0_pc1_pl1_plv0 | naslov: Audi A6 S-Line/Air/50tdi | cena: 53990 | stanje: Polovno vozilo | marka: Audi | model: A6 | godiste: 2018 | kilometraza: 49000 | karoserija: Limuzina | gorivo: Dizel | kubikaza: 2967 | snaga: 210/286 (kW/KS) | menjac: Automatski / poluautomatski | vrata: 4/5 vrata | boja: Crna | lokacija_prodavca: Beograd\n",
      "id: 590 | url: https://www.polovniautomobili.com/auto-oglasi/19756106/audi-a6-s-linehd?attp=p1_pv0_pc1_pl1_plv0 | naslov: Audi A6 S-Line/HD | cena: 51990 | stanje: Polovno vozilo | marka: Audi | model: A6 | godiste: 2018 | kilometraza: 55000 | karoserija: Limuzina | gorivo: Dizel | kubikaza: 2967 | snaga: 210/286 (kW/KS) | menjac: Automatski / poluautomatski | vrata: 4/5 vrata | boja: Crna | lokacija_prodavca: Beograd\n",
      "id: 587 | url: https://www.polovniautomobili.com/auto-oglasi/19729783/bmw-x4-m-sportpanoxd?attp=p1_pv0_pc1_pl1_plv0 | naslov: BMW X4 M Sport/Pano/XD | cena: 49990 | stanje: Polovno vozilo | marka: BMW | model: X4 | godiste: 2018 | kilometraza: 76000 | karoserija: Džip/SUV | gorivo: Dizel | kubikaza: 1995 | snaga: 140/190 (kW/KS) | menjac: Automatski / poluautomatski | vrata: 4/5 vrata | boja: Plava | lokacija_prodavca: Beograd\n",
      "id: 499 | url: https://www.polovniautomobili.com/auto-oglasi/19378963/bmw-x6-m-sport-f-u-l-l?attp=p1_pv0_pc1_pl1_plv0 | naslov: BMW X6 M-Sport F U L L | cena: 48500 | stanje: Polovno vozilo | marka: BMW | model: X6 | godiste: 2017 | kilometraza: 135750 | karoserija: Džip/SUV | gorivo: Dizel | kubikaza: 2993 | snaga: 190/258 (kW/KS) | menjac: Automatski / poluautomatski | vrata: 4/5 vrata | boja: Bela | lokacija_prodavca: Mladenovac\n",
      "id: 581 | url: https://www.polovniautomobili.com/auto-oglasi/19549442/audi-a6-s-linematrix40tdi?attp=p1_pv0_pc1_pl1_plv0 | naslov: Audi A6 S-Line/Matrix/40tdi | cena: 47990 | stanje: Polovno vozilo | marka: Audi | model: A6 | godiste: 2018 | kilometraza: 73000 | karoserija: Limuzina | gorivo: Dizel | kubikaza: 1968 | snaga: 150/204 (kW/KS) | menjac: Automatski / poluautomatski | vrata: 4/5 vrata | boja: Crna | lokacija_prodavca: Beograd\n",
      "id: 140 | url: https://www.polovniautomobili.com/auto-oglasi/19966435/audi-a6-20tdi-hybrid?attp=p1_pv0_pc1_pl1_plv0 | naslov: Audi A6 2.0TDI HYBRID | cena: 45999 | stanje: Polovno vozilo | marka: Audi | model: A6 | godiste: 2018 | kilometraza: 80000 | karoserija: Limuzina | gorivo: Dizel | kubikaza: 1968 | snaga: 150/204 (kW/KS) | menjac: Automatski / poluautomatski | vrata: 4/5 vrata | boja: Crna | lokacija_prodavca: Petrovaradin\n",
      "id: 583 | url: https://www.polovniautomobili.com/auto-oglasi/19508753/audi-a6-40tdihdsport?attp=p1_pv0_pc1_pl1_plv0 | naslov: Audi A6 40TDI/HD/SPORT | cena: 45990 | stanje: Polovno vozilo | marka: Audi | model: A6 | godiste: 2019 | kilometraza: 51000 | karoserija: Limuzina | gorivo: Dizel | kubikaza: 1968 | snaga: 150/204 (kW/KS) | menjac: Automatski / poluautomatski | vrata: 4/5 vrata | boja: Crna | lokacija_prodavca: Beograd\n",
      "id: 586 | url: https://www.polovniautomobili.com/auto-oglasi/19719905/audi-a6-s-linehd40tdi?attp=p1_pv0_pc1_pl1_plv0 | naslov: Audi A6 S-Line/HD/40TDI | cena: 45990 | stanje: Polovno vozilo | marka: Audi | model: A6 | godiste: 2018 | kilometraza: 48000 | karoserija: Limuzina | gorivo: Dizel | kubikaza: 1968 | snaga: 150/204 (kW/KS) | menjac: Automatski / poluautomatski | vrata: 4/5 vrata | boja: Siva | lokacija_prodavca: Beograd\n",
      "id: 483 | url: https://www.polovniautomobili.com/auto-oglasi/19947804/bmw-x3-20d-xd-m-paket?attp=p1_pv0_pc1_pl1_plv0 | naslov: BMW X3 2.0D xD M-Paket | cena: 45500 | stanje: Polovno vozilo | marka: BMW | model: X3 | godiste: 2018 | kilometraza: 49500 | karoserija: Džip/SUV | gorivo: Dizel | kubikaza: 1995 | snaga: 140/190 (kW/KS) | menjac: Automatski / poluautomatski | vrata: 4/5 vrata | boja: Bela | lokacija_prodavca: Aranđelovac\n",
      "id: 579 | url: https://www.polovniautomobili.com/auto-oglasi/19297653/audi-q5-s-linegaran2023?attp=p1_pv0_pc1_pl1_plv0 | naslov: Audi Q5 S-Line/GARAN2023 | cena: 44990 | stanje: Polovno vozilo | marka: Audi | model: Q5 | godiste: 2018 | kilometraza: 71000 | karoserija: Džip/SUV | gorivo: Dizel | kubikaza: 1968 | snaga: 140/190 (kW/KS) | menjac: Automatski / poluautomatski | vrata: 4/5 vrata | boja: Siva | lokacija_prodavca: Beograd\n",
      "id: 566 | url: https://www.polovniautomobili.com/auto-oglasi/19992633/bmw-318-m-sportnov?attp=p1_pv0_pc1_pl1_plv0 | naslov: BMW 318 M Sport/NOV | cena: 44990 | stanje: Polovno vozilo | marka: BMW | model: 318 | godiste: 2022 | kilometraza: 400 | karoserija: Limuzina | gorivo: Dizel | kubikaza: 1995 | snaga: 110/150 (kW/KS) | menjac: Automatski / poluautomatski | vrata: 4/5 vrata | boja: Siva | lokacija_prodavca: Novi Sad\n",
      "id: 578 | url: https://www.polovniautomobili.com/auto-oglasi/19387736/audi-q5-s-linepano360?attp=p1_pv0_pc1_pl1_plv0 | naslov: Audi Q5 S-Line/Pano/360 | cena: 44990 | stanje: Polovno vozilo | marka: Audi | model: Q5 | godiste: 2017 | kilometraza: 100000 | karoserija: Džip/SUV | gorivo: Dizel | kubikaza: 1968 | snaga: 140/190 (kW/KS) | menjac: Automatski / poluautomatski | vrata: 4/5 vrata | boja: Siva | lokacija_prodavca: Beograd\n",
      "id: 203 | url: https://www.polovniautomobili.com/auto-oglasi/20018949/audi-q5-40-tdi-s-line?attp=p3_pv0_pc1_pl1_plv0 | naslov: Audi Q5 40 TDI S LINE | cena: 44900 | stanje: Polovno vozilo | marka: Audi | model: Q5 | godiste: 2018 | kilometraza: 120000 | karoserija: Džip/SUV | gorivo: Dizel | kubikaza: 1986 | snaga: 140/190 (kW/KS) | menjac: Automatski / poluautomatski | vrata: 4/5 vrata | boja: Crna | lokacija_prodavca: Valjevo\n",
      "id: 84 | url: https://www.polovniautomobili.com/auto-oglasi/19711083/bmw-x3-xdrive-m-paket-led?attp=p1_pv0_pc1_pl1_plv0 | naslov: BMW X3 xDrive M paket LED | cena: 42999 | stanje: Polovno vozilo | marka: BMW | model: X3 | godiste: 2018 | kilometraza: 126000 | karoserija: Džip/SUV | gorivo: Dizel | kubikaza: 1995 | snaga: 140/190 (kW/KS) | menjac: Automatski / poluautomatski | vrata: 4/5 vrata | boja: Siva | lokacija_prodavca: Valjevo\n",
      "id: 387 | url: https://www.polovniautomobili.com/auto-oglasi/19717899/volkswagen-passat-b8-20-tdi-dsg-business?attp=p1_pv0_pc1_pl1_plv0 | naslov: Volkswagen Passat B8 2.0 TDI DSG Business | cena: 40824 | stanje: Novo vozilo | marka: Volkswagen | model: Passat B8 | godiste: 2022 | kilometraza: 11 | karoserija: Limuzina | gorivo: Dizel | kubikaza: 1968 | snaga: 110/150 (kW/KS) | menjac: Automatski / poluautomatski | vrata: 4/5 vrata | boja: Siva | lokacija_prodavca: Beograd\n",
      "id: 263 | url: https://www.polovniautomobili.com/auto-oglasi/19260172/volkswagen-golf-8-20-gti?attp=p1_pv0_pc1_pl1_plv0 | naslov: Volkswagen Golf 8 2.0 GTI | cena: 39900 | stanje: Polovno vozilo | marka: Volkswagen | model: Golf 8 | godiste: 2021 | kilometraza: 26507 | karoserija: Hečbek | gorivo: Benzin | kubikaza: 1984 | snaga: 180/245 (kW/KS) | menjac: Automatski / poluautomatski | vrata: 4/5 vrata | boja: Bela | lokacija_prodavca: Beograd\n",
      "id: 589 | url: https://www.polovniautomobili.com/auto-oglasi/19803602/audi-q5-s-linequattro190?attp=p1_pv0_pc1_pl1_plv0 | naslov: Audi Q5 S-Line/Quattro/190 | cena: 38990 | stanje: Polovno vozilo | marka: Audi | model: Q5 | godiste: 2017 | kilometraza: 125000 | karoserija: Džip/SUV | gorivo: Dizel | kubikaza: 1968 | snaga: 140/190 (kW/KS) | menjac: Automatski / poluautomatski | vrata: 4/5 vrata | boja: Crna | lokacija_prodavca: Beograd\n",
      "id: 592 | url: https://www.polovniautomobili.com/auto-oglasi/19900335/mercedes-benz-glc-220-amgpano4matik?attp=p1_pv0_pc1_pl1_plv0 | naslov: Mercedes Benz GLC 220 AMG/Pano/4Matik | cena: 38990 | stanje: Polovno vozilo | marka: Mercedes Benz | model: GLC 220 | godiste: 2017 | kilometraza: 90000 | karoserija: Džip/SUV | gorivo: Dizel | kubikaza: 2143 | snaga: 125/170 (kW/KS) | menjac: Automatski / poluautomatski | vrata: 4/5 vrata | boja: Bela | lokacija_prodavca: Beograd\n",
      "id: 114 | url: https://www.polovniautomobili.com/auto-oglasi/19468370/audi-q5-sline?attp=p1_pv0_pc1_pl1_plv0 | naslov: Audi Q5 Sline | cena: 36900 | stanje: Polovno vozilo | marka: Audi | model: Q5 | godiste: 2017 | kilometraza: 83356 | karoserija: Džip/SUV | gorivo: Dizel | kubikaza: 1968 | snaga: 140/190 (kW/KS) | menjac: Automatski / poluautomatski | vrata: 4/5 vrata | boja: Siva | lokacija_prodavca: Niš\n",
      "id: 427 | url: https://www.polovniautomobili.com/auto-oglasi/19947898/bmw-x5-mxdriveblack360?attp=p1_pv0_pc1_pl1_plv0 | naslov: BMW X5 M/xDrive/Black/360 | cena: 36490 | stanje: Polovno vozilo | marka: BMW | model: X5 | godiste: 2015 | kilometraza: 124422 | karoserija: Džip/SUV | gorivo: Dizel | kubikaza: 1995 | snaga: 160/218 (kW/KS) | menjac: Automatski / poluautomatski | vrata: 4/5 vrata | boja: Bela | lokacija_prodavca: Beograd\n",
      "id: 326 | url: https://www.polovniautomobili.com/auto-oglasi/18613047/bmw-530-m-xdriv-e?attp=p1_pv0_pc1_pl1_plv0 | naslov: BMW 530 M XDRIV E | cena: 36450 | stanje: Polovno vozilo | marka: BMW | model: 530 | godiste: 2017 | kilometraza: 175000 | karoserija: Limuzina | gorivo: Dizel | kubikaza: 2998 | snaga: 195/265 (kW/KS) | menjac: Automatski / poluautomatski | vrata: 4/5 vrata | boja: Siva | lokacija_prodavca: Vranje\n",
      "id: 580 | url: https://www.polovniautomobili.com/auto-oglasi/19629152/bmw-x2-m-sportpanox-drive?attp=p1_pv0_pc1_pl1_plv0 | naslov: BMW X2 M Sport/Pano/X-Drive | cena: 35990 | stanje: Polovno vozilo | marka: BMW | model: X2 | godiste: 2018 | kilometraza: 70000 | karoserija: Džip/SUV | gorivo: Dizel | kubikaza: 1995 | snaga: 140/190 (kW/KS) | menjac: Automatski / poluautomatski | vrata: 4/5 vrata | boja: Braon | lokacija_prodavca: Beograd\n"
     ]
    }
   ],
   "source": [
    "najskuplje = db.najskuplje()\n",
    "for n in najskuplje['najskuplja_vozila']:\n",
    "    print(\" | \".join([\"{0}: {1}\".format(k, v) for k, v in n.items()]))"
   ]
  },
  {
   "cell_type": "code",
   "execution_count": 6,
   "metadata": {},
   "outputs": [
    {
     "name": "stdout",
     "output_type": "stream",
     "text": [
      "id: 48 | url: https://www.polovniautomobili.com/auto-oglasi/20020832/audi-q8-hibrid-pano-vazduh?attp=p3_pv0_pc1_pl1_plv0 | naslov: Audi Q8 hibrid pano vazduh | cena: 79900 | stanje: Polovno vozilo | marka: Audi | model: Q8 | godiste: 2019 | kilometraza: 149300 | karoserija: Džip/SUV | gorivo: Dizel | kubikaza: 2967 | snaga: 210/286 (kW/KS) | menjac: Automatski / poluautomatski | vrata: 4/5 vrata | boja: Bela | lokacija_prodavca: Prijepolje\n",
      "id: 453 | url: https://www.polovniautomobili.com/auto-oglasi/19327903/audi-q5-s-line?attp=p1_pv0_pc1_pl1_plv0 | naslov: Audi Q5 S LINE | cena: 59950 | stanje: Polovno vozilo | marka: Audi | model: Q5 | godiste: 2021 | kilometraza: 24000 | karoserija: Džip/SUV | gorivo: Dizel | kubikaza: 1968 | snaga: 150/204 (kW/KS) | menjac: Automatski / poluautomatski | vrata: 4/5 vrata | boja: Crna | lokacija_prodavca: Beograd\n",
      "id: 467 | url: https://www.polovniautomobili.com/auto-oglasi/20017168/alfa-romeo-stelvio-veloce-20-280?attp=p3_pv0_pc1_pl1_plv0 | naslov: Alfa Romeo Stelvio VELOCE 2.0 280 | cena: 57000 | stanje: Novo vozilo | marka: Alfa Romeo | model: Stelvio | godiste: 2022 | kilometraza: 0 | karoserija: Džip/SUV | gorivo: Benzin | kubikaza: 1995 | snaga: 206/280 (kW/KS) | menjac: Automatski / poluautomatski | vrata: 4/5 vrata | boja: Siva | lokacija_prodavca: Novi Sad\n",
      "id: 587 | url: https://www.polovniautomobili.com/auto-oglasi/19729783/bmw-x4-m-sportpanoxd?attp=p1_pv0_pc1_pl1_plv0 | naslov: BMW X4 M Sport/Pano/XD | cena: 49990 | stanje: Polovno vozilo | marka: BMW | model: X4 | godiste: 2018 | kilometraza: 76000 | karoserija: Džip/SUV | gorivo: Dizel | kubikaza: 1995 | snaga: 140/190 (kW/KS) | menjac: Automatski / poluautomatski | vrata: 4/5 vrata | boja: Plava | lokacija_prodavca: Beograd\n",
      "id: 499 | url: https://www.polovniautomobili.com/auto-oglasi/19378963/bmw-x6-m-sport-f-u-l-l?attp=p1_pv0_pc1_pl1_plv0 | naslov: BMW X6 M-Sport F U L L | cena: 48500 | stanje: Polovno vozilo | marka: BMW | model: X6 | godiste: 2017 | kilometraza: 135750 | karoserija: Džip/SUV | gorivo: Dizel | kubikaza: 2993 | snaga: 190/258 (kW/KS) | menjac: Automatski / poluautomatski | vrata: 4/5 vrata | boja: Bela | lokacija_prodavca: Mladenovac\n",
      "id: 483 | url: https://www.polovniautomobili.com/auto-oglasi/19947804/bmw-x3-20d-xd-m-paket?attp=p1_pv0_pc1_pl1_plv0 | naslov: BMW X3 2.0D xD M-Paket | cena: 45500 | stanje: Polovno vozilo | marka: BMW | model: X3 | godiste: 2018 | kilometraza: 49500 | karoserija: Džip/SUV | gorivo: Dizel | kubikaza: 1995 | snaga: 140/190 (kW/KS) | menjac: Automatski / poluautomatski | vrata: 4/5 vrata | boja: Bela | lokacija_prodavca: Aranđelovac\n",
      "id: 579 | url: https://www.polovniautomobili.com/auto-oglasi/19297653/audi-q5-s-linegaran2023?attp=p1_pv0_pc1_pl1_plv0 | naslov: Audi Q5 S-Line/GARAN2023 | cena: 44990 | stanje: Polovno vozilo | marka: Audi | model: Q5 | godiste: 2018 | kilometraza: 71000 | karoserija: Džip/SUV | gorivo: Dizel | kubikaza: 1968 | snaga: 140/190 (kW/KS) | menjac: Automatski / poluautomatski | vrata: 4/5 vrata | boja: Siva | lokacija_prodavca: Beograd\n",
      "id: 578 | url: https://www.polovniautomobili.com/auto-oglasi/19387736/audi-q5-s-linepano360?attp=p1_pv0_pc1_pl1_plv0 | naslov: Audi Q5 S-Line/Pano/360 | cena: 44990 | stanje: Polovno vozilo | marka: Audi | model: Q5 | godiste: 2017 | kilometraza: 100000 | karoserija: Džip/SUV | gorivo: Dizel | kubikaza: 1968 | snaga: 140/190 (kW/KS) | menjac: Automatski / poluautomatski | vrata: 4/5 vrata | boja: Siva | lokacija_prodavca: Beograd\n",
      "id: 203 | url: https://www.polovniautomobili.com/auto-oglasi/20018949/audi-q5-40-tdi-s-line?attp=p3_pv0_pc1_pl1_plv0 | naslov: Audi Q5 40 TDI S LINE | cena: 44900 | stanje: Polovno vozilo | marka: Audi | model: Q5 | godiste: 2018 | kilometraza: 120000 | karoserija: Džip/SUV | gorivo: Dizel | kubikaza: 1986 | snaga: 140/190 (kW/KS) | menjac: Automatski / poluautomatski | vrata: 4/5 vrata | boja: Crna | lokacija_prodavca: Valjevo\n",
      "id: 84 | url: https://www.polovniautomobili.com/auto-oglasi/19711083/bmw-x3-xdrive-m-paket-led?attp=p1_pv0_pc1_pl1_plv0 | naslov: BMW X3 xDrive M paket LED | cena: 42999 | stanje: Polovno vozilo | marka: BMW | model: X3 | godiste: 2018 | kilometraza: 126000 | karoserija: Džip/SUV | gorivo: Dizel | kubikaza: 1995 | snaga: 140/190 (kW/KS) | menjac: Automatski / poluautomatski | vrata: 4/5 vrata | boja: Siva | lokacija_prodavca: Valjevo\n",
      "id: 592 | url: https://www.polovniautomobili.com/auto-oglasi/19900335/mercedes-benz-glc-220-amgpano4matik?attp=p1_pv0_pc1_pl1_plv0 | naslov: Mercedes Benz GLC 220 AMG/Pano/4Matik | cena: 38990 | stanje: Polovno vozilo | marka: Mercedes Benz | model: GLC 220 | godiste: 2017 | kilometraza: 90000 | karoserija: Džip/SUV | gorivo: Dizel | kubikaza: 2143 | snaga: 125/170 (kW/KS) | menjac: Automatski / poluautomatski | vrata: 4/5 vrata | boja: Bela | lokacija_prodavca: Beograd\n",
      "id: 589 | url: https://www.polovniautomobili.com/auto-oglasi/19803602/audi-q5-s-linequattro190?attp=p1_pv0_pc1_pl1_plv0 | naslov: Audi Q5 S-Line/Quattro/190 | cena: 38990 | stanje: Polovno vozilo | marka: Audi | model: Q5 | godiste: 2017 | kilometraza: 125000 | karoserija: Džip/SUV | gorivo: Dizel | kubikaza: 1968 | snaga: 140/190 (kW/KS) | menjac: Automatski / poluautomatski | vrata: 4/5 vrata | boja: Crna | lokacija_prodavca: Beograd\n",
      "id: 114 | url: https://www.polovniautomobili.com/auto-oglasi/19468370/audi-q5-sline?attp=p1_pv0_pc1_pl1_plv0 | naslov: Audi Q5 Sline | cena: 36900 | stanje: Polovno vozilo | marka: Audi | model: Q5 | godiste: 2017 | kilometraza: 83356 | karoserija: Džip/SUV | gorivo: Dizel | kubikaza: 1968 | snaga: 140/190 (kW/KS) | menjac: Automatski / poluautomatski | vrata: 4/5 vrata | boja: Siva | lokacija_prodavca: Niš\n",
      "id: 427 | url: https://www.polovniautomobili.com/auto-oglasi/19947898/bmw-x5-mxdriveblack360?attp=p1_pv0_pc1_pl1_plv0 | naslov: BMW X5 M/xDrive/Black/360 | cena: 36490 | stanje: Polovno vozilo | marka: BMW | model: X5 | godiste: 2015 | kilometraza: 124422 | karoserija: Džip/SUV | gorivo: Dizel | kubikaza: 1995 | snaga: 160/218 (kW/KS) | menjac: Automatski / poluautomatski | vrata: 4/5 vrata | boja: Bela | lokacija_prodavca: Beograd\n",
      "id: 580 | url: https://www.polovniautomobili.com/auto-oglasi/19629152/bmw-x2-m-sportpanox-drive?attp=p1_pv0_pc1_pl1_plv0 | naslov: BMW X2 M Sport/Pano/X-Drive | cena: 35990 | stanje: Polovno vozilo | marka: BMW | model: X2 | godiste: 2018 | kilometraza: 70000 | karoserija: Džip/SUV | gorivo: Dizel | kubikaza: 1995 | snaga: 140/190 (kW/KS) | menjac: Automatski / poluautomatski | vrata: 4/5 vrata | boja: Braon | lokacija_prodavca: Beograd\n",
      "id: 452 | url: https://www.polovniautomobili.com/auto-oglasi/20017114/volvo-xc90-20-d5-awd?attp=p1_pv0_pc1_pl1_plv0 | naslov: Volvo XC90 2.0 D5 AWD | cena: 34600 | stanje: Polovno vozilo | marka: Volvo | model: XC90 | godiste: 2016 | kilometraza: 159000 | karoserija: Džip/SUV | gorivo: Dizel | kubikaza: 1969 | snaga: 165/224 (kW/KS) | menjac: Automatski / poluautomatski | vrata: 4/5 vrata | boja: Teget | lokacija_prodavca: Beograd\n",
      "id: 497 | url: https://www.polovniautomobili.com/auto-oglasi/19287510/volvo-xc60-20-d4-inscription?attp=p1_pv0_pc1_pl1_plv0 | naslov: Volvo XC60 2.0 D4 INSCRIPTION | cena: 33900 | stanje: Polovno vozilo | marka: Volvo | model: XC60 | godiste: 2017 | kilometraza: 155603 | karoserija: Džip/SUV | gorivo: Dizel | kubikaza: 1969 | snaga: 140/190 (kW/KS) | menjac: Automatski / poluautomatski | vrata: 4/5 vrata | boja: Siva | lokacija_prodavca: Mladenovac\n",
      "id: 196 | url: https://www.polovniautomobili.com/auto-oglasi/20018897/audi-q5-20tdi?attp=p3_pv0_pc1_pl1_plv0 | naslov: Audi Q5 2.0TDI | cena: 33900 | stanje: Polovno vozilo | marka: Audi | model: Q5 | godiste: 2016 | kilometraza: 94000 | karoserija: Džip/SUV | gorivo: Dizel | kubikaza: 1968 | snaga: 140/190 (kW/KS) | menjac: Automatski / poluautomatski | vrata: 4/5 vrata | boja: Siva | lokacija_prodavca: Valjevo\n",
      "id: 582 | url: https://www.polovniautomobili.com/auto-oglasi/19549392/renault-koleos-paris-initiale4wd?attp=p1_pv0_pc1_pl1_plv0 | naslov: Renault Koleos Paris Initiale/4WD | cena: 29990 | stanje: Polovno vozilo | marka: Renault | model: Koleos | godiste: 2018 | kilometraza: 52000 | karoserija: Džip/SUV | gorivo: Dizel | kubikaza: 1995 | snaga: 130/177 (kW/KS) | menjac: Automatski / poluautomatski | vrata: 4/5 vrata | boja: Bela | lokacija_prodavca: Beograd\n",
      "id: 563 | url: https://www.polovniautomobili.com/auto-oglasi/19995308/bmw-x1-m-sportaut?attp=p1_pv0_pc1_pl1_plv0 | naslov: BMW X1 M Sport/Aut | cena: 29990 | stanje: Polovno vozilo | marka: BMW | model: X1 | godiste: 2018 | kilometraza: 50000 | karoserija: Džip/SUV | gorivo: Dizel | kubikaza: 1995 | snaga: 110/150 (kW/KS) | menjac: Automatski / poluautomatski | vrata: 4/5 vrata | boja: Bela | lokacija_prodavca: Novi Sad\n",
      "id: 388 | url: https://www.polovniautomobili.com/auto-oglasi/20001113/volkswagen-t-roc-10-tsi-life?attp=p1_pv0_pc1_pl1_plv0 | naslov: Volkswagen T-Roc 1.0 TSI LIFE | cena: 29456 | stanje: Novo vozilo | marka: Volkswagen | model: T-Roc | godiste: 2022 | kilometraza: 1 | karoserija: Džip/SUV | gorivo: Benzin | kubikaza: 999 | snaga: 81/110 (kW/KS) | menjac: Manuelni 6 brzina | vrata: 4/5 vrata | boja: Crna | lokacija_prodavca: Beograd\n",
      "id: 338 | url: https://www.polovniautomobili.com/auto-oglasi/19737119/toyota-land-cruiser-30-d-4d-limited?attp=p1_pv0_pc1_pl1_plv0 | naslov: Toyota Land Cruiser 3.0 D-4D LIMITED | cena: 28000 | stanje: Polovno vozilo | marka: Toyota | model: Land Cruiser | godiste: 2013 | kilometraza: 283000 | karoserija: Džip/SUV | gorivo: Dizel | kubikaza: 2982 | snaga: 140/190 (kW/KS) | menjac: Automatski / poluautomatski | vrata: 4/5 vrata | boja: Srebrna | lokacija_prodavca: Futog\n",
      "id: 449 | url: https://www.polovniautomobili.com/auto-oglasi/20017217/toyota-land-cruiser-30d?attp=p1_pv0_pc1_pl1_plv0 | naslov: Toyota Land Cruiser 3.0D | cena: 28000 | stanje: Polovno vozilo | marka: Toyota | model: Land Cruiser | godiste: 2011 | kilometraza: 220000 | karoserija: Džip/SUV | gorivo: Dizel | kubikaza: 2982 | snaga: 140/190 (kW/KS) | menjac: Automatski / poluautomatski | vrata: 4/5 vrata | boja: Siva | lokacija_prodavca: Beograd\n",
      "id: 50 | url: https://www.polovniautomobili.com/auto-oglasi/19350544/bmw-x3-20d-xdrive-m-sport?attp=p1_pv0_pc1_pl1_plv0 | naslov: BMW X3 2.0d Xdrive M Sport | cena: 27200 | stanje: Polovno vozilo | marka: BMW | model: X3 | godiste: 2016 | kilometraza: 93000 | karoserija: Džip/SUV | gorivo: Dizel | kubikaza: 1995 | snaga: 140/190 (kW/KS) | menjac: Automatski / poluautomatski | vrata: 4/5 vrata | boja: Crna | lokacija_prodavca: Stara Pazova\n",
      "id: 78 | url: https://www.polovniautomobili.com/auto-oglasi/20020517/volkswagen-tiguan-20-tdi-dsg-carat?attp=p1_pv0_pc1_pl1_plv0 | naslov: Volkswagen Tiguan 2.0 TDI DSG CARAT | cena: 26990 | stanje: Polovno vozilo | marka: Volkswagen | model: Tiguan | godiste: 2018 | kilometraza: 142000 | karoserija: Džip/SUV | gorivo: Dizel | kubikaza: 1968 | snaga: 110/150 (kW/KS) | menjac: Automatski / poluautomatski | vrata: 4/5 vrata | boja: Siva | lokacija_prodavca: Beograd\n",
      "id: 187 | url: https://www.polovniautomobili.com/auto-oglasi/19930999/porsche-cayenne-30-tdi-f-u-l-l-l?attp=p1_pv0_pc1_pl1_plv0 | naslov: Porsche Cayenne 3.0 TDI  f u l l l | cena: 26500 | stanje: Polovno vozilo | marka: Porsche | model: Cayenne | godiste: 2013 | kilometraza: 218475 | karoserija: Džip/SUV | gorivo: Dizel | kubikaza: 2967 | snaga: 180/245 (kW/KS) | menjac: Automatski / poluautomatski | vrata: 4/5 vrata | boja: Bela | lokacija_prodavca: Čačak\n",
      "id: 368 | url: https://www.polovniautomobili.com/auto-oglasi/19342772/peugeot-5008-20-hdi-at-gt?attp=p3_pv0_pc1_pl1_plv0 | naslov: Peugeot 5008 2,0 HDI AT GT | cena: 25990 | stanje: Polovno vozilo | marka: Peugeot | model: 5008 | godiste: 2018 | kilometraza: 153547 | karoserija: Džip/SUV | gorivo: Dizel | kubikaza: 1997 | snaga: 132/179 (kW/KS) | menjac: Automatski / poluautomatski | vrata: 4/5 vrata | boja: Siva | lokacija_prodavca: Čačak\n",
      "id: 261 | url: https://www.polovniautomobili.com/auto-oglasi/19734835/bmw-x1-20d-x-drive-xline?attp=p1_pv0_pc1_pl1_plv0 | naslov: BMW X1 2.0D X-DRIVE XLINE | cena: 25990 | stanje: Polovno vozilo | marka: BMW | model: X1 | godiste: 2017 | kilometraza: 134306 | karoserija: Džip/SUV | gorivo: Dizel | kubikaza: 1995 | snaga: 140/190 (kW/KS) | menjac: Automatski / poluautomatski | vrata: 4/5 vrata | boja: Siva | lokacija_prodavca: Beograd\n",
      "id: 536 | url: https://www.polovniautomobili.com/auto-oglasi/19913399/bmw-x1-20-d-m-paket?attp=p3_pv0_pc1_pl1_plv0 | naslov: BMW X1 2.0 d M PAKET | cena: 23800 | stanje: Polovno vozilo | marka: BMW | model: X1 | godiste: 2018 | kilometraza: 182000 | karoserija: Džip/SUV | gorivo: Dizel | kubikaza: 1995 | snaga: 110/150 (kW/KS) | menjac: Manuelni 6 brzina | vrata: 4/5 vrata | boja: Crna | lokacija_prodavca: Gornja Vranjska\n",
      "id: 228 | url: https://www.polovniautomobili.com/auto-oglasi/19655314/citroen-c5-aircross-15hdivirtuledaut?attp=p1_pv0_pc1_pl1_plv0 | naslov: Citroen C5 Aircross 1.5HDI/VIRTU/LED/AUT | cena: 23790 | stanje: Polovno vozilo | marka: Citroen | model: C5 Aircross | godiste: 2019 | kilometraza: 131713 | karoserija: Džip/SUV | gorivo: Dizel | kubikaza: 1499 | snaga: 96/131 (kW/KS) | menjac: Automatski / poluautomatski | vrata: 4/5 vrata | boja: Siva | lokacija_prodavca: Beograd\n"
     ]
    }
   ],
   "source": [
    "for n in najskuplje['najskuplji_dzipovi']:\n",
    "    print(\" | \".join([\"{0}: {1}\".format(k, v) for k, v in n.items()]))"
   ]
  },
  {
   "cell_type": "markdown",
   "metadata": {},
   "source": [
    "## e) prikazati rang listu prvih 100 najvećih kuća i 100 najvećih stanova po površini (kvadraturi)"
   ]
  },
  {
   "cell_type": "code",
   "execution_count": null,
   "metadata": {},
   "outputs": [],
   "source": [
    "najskuplje = db.najvece()\n",
    "for n in najskuplje['najveci_stanovi']:\n",
    "    print(\" | \".join([\"{0}: {1}\".format(k, v) for k, v in n.items()]))"
   ]
  },
  {
   "cell_type": "code",
   "execution_count": null,
   "metadata": {},
   "outputs": [],
   "source": [
    "najskuplje = db.najvece()\n",
    "for n in najskuplje['najvece_kuce']:\n",
    "    print(\" | \".join([\"{0}: {1}\".format(k, v) for k, v in n.items()]))"
   ]
  },
  {
   "cell_type": "markdown",
   "metadata": {},
   "source": [
    "## f) prikazati rang listu svih nekretnina izgrađenih u 2020. godini, i izlistati ih opadajuće prema ceni prodaje, odnosno ceni iznajmljivanja"
   ]
  },
  {
   "cell_type": "code",
   "execution_count": null,
   "metadata": {},
   "outputs": [],
   "source": [
    "cene_2020 = db.cene_2020()\n",
    "for n in cene_2020['prodaja']:\n",
    "    print(\" | \".join([\"{0}: {1}\".format(k, v) for k, v in n.items()]))"
   ]
  },
  {
   "cell_type": "code",
   "execution_count": null,
   "metadata": {},
   "outputs": [],
   "source": [
    "for n in cene_2020['izdavanje']:\n",
    "    print(\" | \".join([\"{0}: {1}\".format(k, v) for k, v in n.items()]))"
   ]
  },
  {
   "cell_type": "markdown",
   "metadata": {},
   "source": [
    "## g) prikazati nekretnine (Top30) koje imaju:\n",
    "##    ▪ najveći broj soba unutar nekretnine,\n",
    "##    ▪ najveću kvadraturu (samo za stanove),\n",
    "##    ▪ najveću površinu zemljišta (samo za kuće)"
   ]
  },
  {
   "cell_type": "code",
   "execution_count": null,
   "metadata": {},
   "outputs": [],
   "source": [
    "for n in db.top_broj_soba():\n",
    "    print(\" | \".join([\"{0}: {1}\".format(k, v) for k, v in n.items()]))"
   ]
  },
  {
   "cell_type": "markdown",
   "metadata": {},
   "source": [
    "### KOMENTAR: Prva mesta u izlistavanju nize zauzimaju objekti sa greskom u podacima - najpre jer su kvadrature pogresno unete ili jer su kuce pogresno kategorisane kao stanovi."
   ]
  },
  {
   "cell_type": "code",
   "execution_count": null,
   "metadata": {},
   "outputs": [],
   "source": [
    "for n in db.top_kvadratura_stanovi():\n",
    "    print(\" | \".join([\"{0}: {1}\".format(k, v) for k, v in n.items()]))"
   ]
  },
  {
   "cell_type": "markdown",
   "metadata": {},
   "source": [
    "### KOMENTAR: Neka od prvih mesta u izlistavanju nize potencijalno zauzimaju objekti sa netacno unetim podatkom o povrsini zemljista."
   ]
  },
  {
   "cell_type": "code",
   "execution_count": null,
   "metadata": {},
   "outputs": [],
   "source": [
    "for n in db.top_povrsina_zemljista():\n",
    "    print(\" | \".join([\"{0}: {1}\".format(k, v) for k, v in n.items()]))"
   ]
  },
  {
   "cell_type": "code",
   "execution_count": null,
   "metadata": {},
   "outputs": [],
   "source": [
    "db.close()"
   ]
  }
 ],
 "metadata": {
  "interpreter": {
   "hash": "164a2c054889c472f3df4e2c8be202de555331b95075dba8c991b5622bd6f683"
  },
  "kernelspec": {
   "display_name": "Python 3.10.4 64-bit",
   "language": "python",
   "name": "python3"
  },
  "language_info": {
   "codemirror_mode": {
    "name": "ipython",
    "version": 3
   },
   "file_extension": ".py",
   "mimetype": "text/x-python",
   "name": "python",
   "nbconvert_exporter": "python",
   "pygments_lexer": "ipython3",
   "version": "3.10.4"
  }
 },
 "nbformat": 4,
 "nbformat_minor": 4
}
