{
 "cells": [
  {
   "cell_type": "markdown",
   "metadata": {},
   "source": [
    "# Zadatak 2: Analiza podataka"
   ]
  },
  {
   "cell_type": "code",
   "execution_count": 1,
   "metadata": {},
   "outputs": [],
   "source": [
    "from db.db import MysqlDAO\n",
    "db = MysqlDAO('vozila')"
   ]
  },
  {
   "cell_type": "markdown",
   "metadata": {},
   "source": [
    "## a) izlistati koliki je broj automobila za svaku od dostupnih marki"
   ]
  },
  {
   "cell_type": "code",
   "execution_count": 2,
   "metadata": {},
   "outputs": [
    {
     "data": {
      "text/plain": [
       "[{'marka': 'Volkswagen', 'cnt': 104},\n",
       " {'marka': 'Audi', 'cnt': 75},\n",
       " {'marka': 'Peugeot', 'cnt': 60},\n",
       " {'marka': 'Opel', 'cnt': 52},\n",
       " {'marka': 'Renault', 'cnt': 52},\n",
       " {'marka': 'BMW', 'cnt': 43},\n",
       " {'marka': 'Citroen', 'cnt': 40},\n",
       " {'marka': 'Fiat', 'cnt': 35},\n",
       " {'marka': 'Škoda', 'cnt': 24},\n",
       " {'marka': 'Ford', 'cnt': 20},\n",
       " {'marka': 'Nissan', 'cnt': 16},\n",
       " {'marka': 'Mercedes Benz', 'cnt': 16},\n",
       " {'marka': 'Toyota', 'cnt': 13},\n",
       " {'marka': 'Alfa Romeo', 'cnt': 8},\n",
       " {'marka': 'Volvo', 'cnt': 8},\n",
       " {'marka': 'Seat', 'cnt': 7},\n",
       " {'marka': 'Mazda', 'cnt': 6},\n",
       " {'marka': 'Hyundai', 'cnt': 6},\n",
       " {'marka': 'Lancia', 'cnt': 4},\n",
       " {'marka': 'Suzuki', 'cnt': 3},\n",
       " {'marka': 'Dacia', 'cnt': 3},\n",
       " {'marka': 'Kia', 'cnt': 3},\n",
       " {'marka': 'Land Rover', 'cnt': 3},\n",
       " {'marka': 'MINI', 'cnt': 3},\n",
       " {'marka': 'Porsche', 'cnt': 2},\n",
       " {'marka': 'Smart', 'cnt': 2},\n",
       " {'marka': 'Honda', 'cnt': 2},\n",
       " {'marka': 'Chevrolet', 'cnt': 2},\n",
       " {'marka': 'Lada', 'cnt': 1},\n",
       " {'marka': 'Mitsubishi', 'cnt': 1},\n",
       " {'marka': 'Daihatsu', 'cnt': 1},\n",
       " {'marka': 'Subaru', 'cnt': 1},\n",
       " {'marka': 'Jeep', 'cnt': 1}]"
      ]
     },
     "execution_count": 2,
     "metadata": {},
     "output_type": "execute_result"
    }
   ],
   "source": [
    "marka_count = db.marka_count()\n",
    "marka_count"
   ]
  },
  {
   "cell_type": "markdown",
   "metadata": {},
   "source": [
    "## b) izlistati koliko automobila se prodaje u svakom od gradova/lokacija (izlistati sve gradove i pored svakog napisati broj automobila u ponudi)"
   ]
  },
  {
   "cell_type": "code",
   "execution_count": 3,
   "metadata": {},
   "outputs": [
    {
     "data": {
      "text/plain": [
       "[{'lokacija_prodavca': 'Novi Sad', 'cnt': 88},\n",
       " {'lokacija_prodavca': 'Beograd', 'cnt': 73},\n",
       " {'lokacija_prodavca': 'Čačak', 'cnt': 50},\n",
       " {'lokacija_prodavca': 'Zemun', 'cnt': 50},\n",
       " {'lokacija_prodavca': 'Pančevo', 'cnt': 30},\n",
       " {'lokacija_prodavca': 'Beška', 'cnt': 25},\n",
       " {'lokacija_prodavca': 'Kikinda', 'cnt': 25},\n",
       " {'lokacija_prodavca': 'Kraljevo', 'cnt': 25},\n",
       " {'lokacija_prodavca': 'Niš', 'cnt': 25},\n",
       " {'lokacija_prodavca': 'Loznica', 'cnt': 25},\n",
       " {'lokacija_prodavca': 'Valjevo', 'cnt': 25},\n",
       " {'lokacija_prodavca': 'Kragujevac', 'cnt': 25},\n",
       " {'lokacija_prodavca': 'Leskovac', 'cnt': 25},\n",
       " {'lokacija_prodavca': 'Paraćin', 'cnt': 25},\n",
       " {'lokacija_prodavca': 'Čukarica', 'cnt': 25},\n",
       " {'lokacija_prodavca': 'Subotica', 'cnt': 25},\n",
       " {'lokacija_prodavca': 'Veternik', 'cnt': 22},\n",
       " {'lokacija_prodavca': 'Smederevo', 'cnt': 19},\n",
       " {'lokacija_prodavca': 'Bačka Topola', 'cnt': 10}]"
      ]
     },
     "execution_count": 3,
     "metadata": {},
     "output_type": "execute_result"
    }
   ],
   "source": [
    "gradovi_count = db.gradovi_count()\n",
    "gradovi_count"
   ]
  },
  {
   "cell_type": "markdown",
   "metadata": {},
   "source": [
    "## c) izlistati po bojama (karoserije) koliko je kojih automobila"
   ]
  },
  {
   "cell_type": "code",
   "execution_count": 4,
   "metadata": {},
   "outputs": [
    {
     "data": {
      "text/plain": [
       "[{'boja': 'Siva', 'cnt': 233},\n",
       " {'boja': 'Crna', 'cnt': 168},\n",
       " {'boja': 'Bela', 'cnt': 78},\n",
       " {'boja': 'Plava', 'cnt': 47},\n",
       " {'boja': 'Crvena', 'cnt': 22},\n",
       " {'boja': 'Srebrna', 'cnt': 14},\n",
       " {'boja': 'Braon', 'cnt': 13},\n",
       " {'boja': 'Teget', 'cnt': 10},\n",
       " {'boja': 'Zlatna', 'cnt': 6},\n",
       " {'boja': 'Narandžasta', 'cnt': 4},\n",
       " {'boja': 'Bordo', 'cnt': 4},\n",
       " {'boja': 'Zelena', 'cnt': 4},\n",
       " {'boja': 'Bež', 'cnt': 4},\n",
       " {'boja': 'Tirkiz', 'cnt': 3},\n",
       " {'boja': 'Smeđa', 'cnt': 2},\n",
       " {'boja': 'Kameleon', 'cnt': 2},\n",
       " {'boja': 'Ljubičasta', 'cnt': 1},\n",
       " {'boja': 'Krem', 'cnt': 1},\n",
       " {'boja': 'Žuta', 'cnt': 1}]"
      ]
     },
     "execution_count": 4,
     "metadata": {},
     "output_type": "execute_result"
    }
   ],
   "source": [
    "boja_count = db.boja_count()\n",
    "boja_count"
   ]
  },
  {
   "cell_type": "markdown",
   "metadata": {},
   "source": [
    "## d) prikazati rang listu prvih 30 najskupljih automobila koji se prodaju, i 30 najskupljih iz potkategorije džipovi/SUV (ako ovog podatka nema u oglasu, labelirati one modele automobila koji pripadaju ovoj kategoriji);"
   ]
  },
  {
   "cell_type": "code",
   "execution_count": null,
   "metadata": {},
   "outputs": [],
   "source": [
    "najskuplje = db.najskuplje()\n",
    "for n in najskuplje['najskuplji_stanovi']:\n",
    "    print(\" | \".join([\"{0}: {1}\".format(k, v) for k, v in n.items()]))"
   ]
  },
  {
   "cell_type": "code",
   "execution_count": null,
   "metadata": {},
   "outputs": [],
   "source": [
    "for n in najskuplje['najskuplje_kuce']:\n",
    "    print(\" | \".join([\"{0}: {1}\".format(k, v) for k, v in n.items()]))"
   ]
  },
  {
   "cell_type": "markdown",
   "metadata": {},
   "source": [
    "## e) prikazati rang listu prvih 100 najvećih kuća i 100 najvećih stanova po površini (kvadraturi)"
   ]
  },
  {
   "cell_type": "code",
   "execution_count": null,
   "metadata": {},
   "outputs": [],
   "source": [
    "najskuplje = db.najvece()\n",
    "for n in najskuplje['najveci_stanovi']:\n",
    "    print(\" | \".join([\"{0}: {1}\".format(k, v) for k, v in n.items()]))"
   ]
  },
  {
   "cell_type": "code",
   "execution_count": null,
   "metadata": {},
   "outputs": [],
   "source": [
    "najskuplje = db.najvece()\n",
    "for n in najskuplje['najvece_kuce']:\n",
    "    print(\" | \".join([\"{0}: {1}\".format(k, v) for k, v in n.items()]))"
   ]
  },
  {
   "cell_type": "markdown",
   "metadata": {},
   "source": [
    "## f) prikazati rang listu svih nekretnina izgrađenih u 2020. godini, i izlistati ih opadajuće prema ceni prodaje, odnosno ceni iznajmljivanja"
   ]
  },
  {
   "cell_type": "code",
   "execution_count": null,
   "metadata": {},
   "outputs": [],
   "source": [
    "cene_2020 = db.cene_2020()\n",
    "for n in cene_2020['prodaja']:\n",
    "    print(\" | \".join([\"{0}: {1}\".format(k, v) for k, v in n.items()]))"
   ]
  },
  {
   "cell_type": "code",
   "execution_count": null,
   "metadata": {},
   "outputs": [],
   "source": [
    "for n in cene_2020['izdavanje']:\n",
    "    print(\" | \".join([\"{0}: {1}\".format(k, v) for k, v in n.items()]))"
   ]
  },
  {
   "cell_type": "markdown",
   "metadata": {},
   "source": [
    "## g) prikazati nekretnine (Top30) koje imaju:\n",
    "##    ▪ najveći broj soba unutar nekretnine,\n",
    "##    ▪ najveću kvadraturu (samo za stanove),\n",
    "##    ▪ najveću površinu zemljišta (samo za kuće)"
   ]
  },
  {
   "cell_type": "code",
   "execution_count": null,
   "metadata": {},
   "outputs": [],
   "source": [
    "for n in db.top_broj_soba():\n",
    "    print(\" | \".join([\"{0}: {1}\".format(k, v) for k, v in n.items()]))"
   ]
  },
  {
   "cell_type": "markdown",
   "metadata": {},
   "source": [
    "### KOMENTAR: Prva mesta u izlistavanju nize zauzimaju objekti sa greskom u podacima - najpre jer su kvadrature pogresno unete ili jer su kuce pogresno kategorisane kao stanovi."
   ]
  },
  {
   "cell_type": "code",
   "execution_count": null,
   "metadata": {},
   "outputs": [],
   "source": [
    "for n in db.top_kvadratura_stanovi():\n",
    "    print(\" | \".join([\"{0}: {1}\".format(k, v) for k, v in n.items()]))"
   ]
  },
  {
   "cell_type": "markdown",
   "metadata": {},
   "source": [
    "### KOMENTAR: Neka od prvih mesta u izlistavanju nize potencijalno zauzimaju objekti sa netacno unetim podatkom o povrsini zemljista."
   ]
  },
  {
   "cell_type": "code",
   "execution_count": null,
   "metadata": {},
   "outputs": [],
   "source": [
    "for n in db.top_povrsina_zemljista():\n",
    "    print(\" | \".join([\"{0}: {1}\".format(k, v) for k, v in n.items()]))"
   ]
  },
  {
   "cell_type": "code",
   "execution_count": null,
   "metadata": {},
   "outputs": [],
   "source": [
    "db.close()"
   ]
  }
 ],
 "metadata": {
  "interpreter": {
   "hash": "164a2c054889c472f3df4e2c8be202de555331b95075dba8c991b5622bd6f683"
  },
  "kernelspec": {
   "display_name": "Python 3.10.4 64-bit",
   "language": "python",
   "name": "python3"
  },
  "language_info": {
   "codemirror_mode": {
    "name": "ipython",
    "version": 3
   },
   "file_extension": ".py",
   "mimetype": "text/x-python",
   "name": "python",
   "nbconvert_exporter": "python",
   "pygments_lexer": "ipython3",
   "version": "3.10.4"
  }
 },
 "nbformat": 4,
 "nbformat_minor": 4
}
